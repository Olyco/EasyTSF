{
  "nbformat": 4,
  "nbformat_minor": 0,
  "metadata": {
    "colab": {
      "provenance": [],
      "gpuType": "L4",
      "machine_shape": "hm",
      "authorship_tag": "ABX9TyO0G+lTZZulOQE1Os6m9yHe"
    },
    "kernelspec": {
      "name": "python3",
      "display_name": "Python 3"
    },
    "language_info": {
      "name": "python"
    },
    "accelerator": "GPU"
  },
  "cells": [
    {
      "cell_type": "code",
      "execution_count": 1,
      "metadata": {
        "colab": {
          "base_uri": "https://localhost:8080/"
        },
        "id": "mP4dcxVBK-oe",
        "outputId": "6d8a40cc-9bac-46e1-e02c-4d0d61cc551f"
      },
      "outputs": [
        {
          "output_type": "stream",
          "name": "stdout",
          "text": [
            "Cloning into 'EasyTSF'...\n",
            "remote: Enumerating objects: 368, done.\u001b[K\n",
            "remote: Counting objects: 100% (77/77), done.\u001b[K\n",
            "remote: Compressing objects: 100% (65/65), done.\u001b[K\n",
            "remote: Total 368 (delta 42), reused 10 (delta 10), pack-reused 291 (from 1)\u001b[K\n",
            "Receiving objects: 100% (368/368), 1.69 MiB | 21.96 MiB/s, done.\n",
            "Resolving deltas: 100% (184/184), done.\n"
          ]
        }
      ],
      "source": [
        "!git clone https://github.com/Olyco/EasyTSF.git"
      ]
    },
    {
      "cell_type": "code",
      "source": [
        "from google.colab import drive\n",
        "drive.mount('/content/drive')"
      ],
      "metadata": {
        "colab": {
          "base_uri": "https://localhost:8080/"
        },
        "id": "fIKeT3pRbczP",
        "outputId": "688ecbe4-1c7f-4374-aca8-9e4b2fa43566"
      },
      "execution_count": 2,
      "outputs": [
        {
          "output_type": "stream",
          "name": "stdout",
          "text": [
            "Mounted at /content/drive\n"
          ]
        }
      ]
    },
    {
      "cell_type": "code",
      "source": [
        "!pip install -r \"EasyTSF/requirements.txt\""
      ],
      "metadata": {
        "colab": {
          "base_uri": "https://localhost:8080/"
        },
        "id": "6fYIL5Q5LWma",
        "outputId": "451df61c-e253-43cc-c601-bc0a80494945"
      },
      "execution_count": 1,
      "outputs": [
        {
          "output_type": "stream",
          "name": "stdout",
          "text": [
            "Requirement already satisfied: Brotli==1.0.9 in /usr/local/lib/python3.11/dist-packages (from -r EasyTSF/requirements.txt (line 1)) (1.0.9)\n",
            "Requirement already satisfied: certifi==2024.7.4 in /usr/local/lib/python3.11/dist-packages (from -r EasyTSF/requirements.txt (line 2)) (2024.7.4)\n",
            "Requirement already satisfied: charset-normalizer==3.3.2 in /usr/local/lib/python3.11/dist-packages (from -r EasyTSF/requirements.txt (line 3)) (3.3.2)\n",
            "Requirement already satisfied: colorama==0.4.6 in /usr/local/lib/python3.11/dist-packages (from -r EasyTSF/requirements.txt (line 4)) (0.4.6)\n",
            "Requirement already satisfied: filelock==3.13.1 in /usr/local/lib/python3.11/dist-packages (from -r EasyTSF/requirements.txt (line 5)) (3.13.1)\n",
            "Requirement already satisfied: fsspec==2024.6.1 in /usr/local/lib/python3.11/dist-packages (from -r EasyTSF/requirements.txt (line 6)) (2024.6.1)\n",
            "Requirement already satisfied: idna==3.7 in /usr/local/lib/python3.11/dist-packages (from -r EasyTSF/requirements.txt (line 7)) (3.7)\n",
            "Requirement already satisfied: Jinja2==3.1.4 in /usr/local/lib/python3.11/dist-packages (from -r EasyTSF/requirements.txt (line 8)) (3.1.4)\n",
            "Requirement already satisfied: lightning==2.4.0 in /usr/local/lib/python3.11/dist-packages (from -r EasyTSF/requirements.txt (line 9)) (2.4.0)\n",
            "Requirement already satisfied: lightning-utilities==0.11.6 in /usr/local/lib/python3.11/dist-packages (from -r EasyTSF/requirements.txt (line 10)) (0.11.6)\n",
            "Requirement already satisfied: MarkupSafe==2.1.3 in /usr/local/lib/python3.11/dist-packages (from -r EasyTSF/requirements.txt (line 11)) (2.1.3)\n",
            "Requirement already satisfied: mkl-fft==1.3.8 in /usr/local/lib/python3.11/dist-packages (from -r EasyTSF/requirements.txt (line 12)) (1.3.8)\n",
            "Requirement already satisfied: mkl-random==1.2.4 in /usr/local/lib/python3.11/dist-packages (from -r EasyTSF/requirements.txt (line 13)) (1.2.4)\n",
            "Requirement already satisfied: mkl-service==2.4.1 in /usr/local/lib/python3.11/dist-packages (from -r EasyTSF/requirements.txt (line 14)) (2.4.1)\n",
            "Requirement already satisfied: mpmath==1.3.0 in /usr/local/lib/python3.11/dist-packages (from -r EasyTSF/requirements.txt (line 15)) (1.3.0)\n",
            "Requirement already satisfied: networkx==3.3 in /usr/local/lib/python3.11/dist-packages (from -r EasyTSF/requirements.txt (line 16)) (3.3)\n",
            "Requirement already satisfied: numpy==1.26.4 in /usr/local/lib/python3.11/dist-packages (from -r EasyTSF/requirements.txt (line 17)) (1.26.4)\n",
            "Requirement already satisfied: packaging==24.1 in /usr/local/lib/python3.11/dist-packages (from -r EasyTSF/requirements.txt (line 18)) (24.1)\n",
            "Requirement already satisfied: pillow==10.4.0 in /usr/local/lib/python3.11/dist-packages (from -r EasyTSF/requirements.txt (line 19)) (10.4.0)\n",
            "Requirement already satisfied: pip==24.2 in /usr/local/lib/python3.11/dist-packages (from -r EasyTSF/requirements.txt (line 20)) (24.2)\n",
            "Requirement already satisfied: PySocks==1.7.1 in /usr/local/lib/python3.11/dist-packages (from -r EasyTSF/requirements.txt (line 21)) (1.7.1)\n",
            "Requirement already satisfied: pytorch-lightning==2.4.0 in /usr/local/lib/python3.11/dist-packages (from -r EasyTSF/requirements.txt (line 22)) (2.4.0)\n",
            "Requirement already satisfied: PyYAML==6.0.1 in /usr/local/lib/python3.11/dist-packages (from -r EasyTSF/requirements.txt (line 23)) (6.0.1)\n",
            "Requirement already satisfied: requests==2.32.3 in /usr/local/lib/python3.11/dist-packages (from -r EasyTSF/requirements.txt (line 24)) (2.32.3)\n",
            "Requirement already satisfied: setuptools==72.1.0 in /usr/local/lib/python3.11/dist-packages (from -r EasyTSF/requirements.txt (line 25)) (72.1.0)\n",
            "Requirement already satisfied: sympy==1.12 in /usr/local/lib/python3.11/dist-packages (from -r EasyTSF/requirements.txt (line 26)) (1.12)\n",
            "Requirement already satisfied: torch==2.4.0 in /usr/local/lib/python3.11/dist-packages (from -r EasyTSF/requirements.txt (line 27)) (2.4.0)\n",
            "Requirement already satisfied: torchaudio==2.4.0 in /usr/local/lib/python3.11/dist-packages (from -r EasyTSF/requirements.txt (line 28)) (2.4.0)\n",
            "Requirement already satisfied: torchmetrics==1.4.0.post0 in /usr/local/lib/python3.11/dist-packages (from -r EasyTSF/requirements.txt (line 29)) (1.4.0.post0)\n",
            "Requirement already satisfied: torchvision==0.19.0 in /usr/local/lib/python3.11/dist-packages (from -r EasyTSF/requirements.txt (line 30)) (0.19.0)\n",
            "Requirement already satisfied: tqdm==4.66.5 in /usr/local/lib/python3.11/dist-packages (from -r EasyTSF/requirements.txt (line 31)) (4.66.5)\n",
            "Requirement already satisfied: triton==3.0.0 in /usr/local/lib/python3.11/dist-packages (from -r EasyTSF/requirements.txt (line 32)) (3.0.0)\n",
            "Requirement already satisfied: typing_extensions==4.11.0 in /usr/local/lib/python3.11/dist-packages (from -r EasyTSF/requirements.txt (line 33)) (4.11.0)\n",
            "Requirement already satisfied: urllib3==2.2.2 in /usr/local/lib/python3.11/dist-packages (from -r EasyTSF/requirements.txt (line 34)) (2.2.2)\n",
            "Requirement already satisfied: wheel==0.43.0 in /usr/local/lib/python3.11/dist-packages (from -r EasyTSF/requirements.txt (line 35)) (0.43.0)\n",
            "Requirement already satisfied: mkl in /usr/local/lib/python3.11/dist-packages (from mkl-fft==1.3.8->-r EasyTSF/requirements.txt (line 12)) (2025.0.1)\n",
            "Requirement already satisfied: nvidia-cuda-nvrtc-cu12==12.1.105 in /usr/local/lib/python3.11/dist-packages (from torch==2.4.0->-r EasyTSF/requirements.txt (line 27)) (12.1.105)\n",
            "Requirement already satisfied: nvidia-cuda-runtime-cu12==12.1.105 in /usr/local/lib/python3.11/dist-packages (from torch==2.4.0->-r EasyTSF/requirements.txt (line 27)) (12.1.105)\n",
            "Requirement already satisfied: nvidia-cuda-cupti-cu12==12.1.105 in /usr/local/lib/python3.11/dist-packages (from torch==2.4.0->-r EasyTSF/requirements.txt (line 27)) (12.1.105)\n",
            "Requirement already satisfied: nvidia-cudnn-cu12==9.1.0.70 in /usr/local/lib/python3.11/dist-packages (from torch==2.4.0->-r EasyTSF/requirements.txt (line 27)) (9.1.0.70)\n",
            "Requirement already satisfied: nvidia-cublas-cu12==12.1.3.1 in /usr/local/lib/python3.11/dist-packages (from torch==2.4.0->-r EasyTSF/requirements.txt (line 27)) (12.1.3.1)\n",
            "Requirement already satisfied: nvidia-cufft-cu12==11.0.2.54 in /usr/local/lib/python3.11/dist-packages (from torch==2.4.0->-r EasyTSF/requirements.txt (line 27)) (11.0.2.54)\n",
            "Requirement already satisfied: nvidia-curand-cu12==10.3.2.106 in /usr/local/lib/python3.11/dist-packages (from torch==2.4.0->-r EasyTSF/requirements.txt (line 27)) (10.3.2.106)\n",
            "Requirement already satisfied: nvidia-cusolver-cu12==11.4.5.107 in /usr/local/lib/python3.11/dist-packages (from torch==2.4.0->-r EasyTSF/requirements.txt (line 27)) (11.4.5.107)\n",
            "Requirement already satisfied: nvidia-cusparse-cu12==12.1.0.106 in /usr/local/lib/python3.11/dist-packages (from torch==2.4.0->-r EasyTSF/requirements.txt (line 27)) (12.1.0.106)\n",
            "Requirement already satisfied: nvidia-nccl-cu12==2.20.5 in /usr/local/lib/python3.11/dist-packages (from torch==2.4.0->-r EasyTSF/requirements.txt (line 27)) (2.20.5)\n",
            "Requirement already satisfied: nvidia-nvtx-cu12==12.1.105 in /usr/local/lib/python3.11/dist-packages (from torch==2.4.0->-r EasyTSF/requirements.txt (line 27)) (12.1.105)\n",
            "Requirement already satisfied: nvidia-nvjitlink-cu12 in /usr/local/lib/python3.11/dist-packages (from nvidia-cusolver-cu12==11.4.5.107->torch==2.4.0->-r EasyTSF/requirements.txt (line 27)) (12.5.82)\n",
            "Requirement already satisfied: aiohttp!=4.0.0a0,!=4.0.0a1 in /usr/local/lib/python3.11/dist-packages (from fsspec[http]<2026.0,>=2022.5.0->lightning==2.4.0->-r EasyTSF/requirements.txt (line 9)) (3.11.15)\n",
            "Requirement already satisfied: intel-openmp>=2024 in /usr/local/lib/python3.11/dist-packages (from mkl->mkl-fft==1.3.8->-r EasyTSF/requirements.txt (line 12)) (2025.1.1)\n",
            "Requirement already satisfied: tbb==2022.* in /usr/local/lib/python3.11/dist-packages (from mkl->mkl-fft==1.3.8->-r EasyTSF/requirements.txt (line 12)) (2022.1.0)\n",
            "Requirement already satisfied: tcmlib==1.* in /usr/local/lib/python3.11/dist-packages (from tbb==2022.*->mkl->mkl-fft==1.3.8->-r EasyTSF/requirements.txt (line 12)) (1.3.0)\n",
            "Requirement already satisfied: aiohappyeyeballs>=2.3.0 in /usr/local/lib/python3.11/dist-packages (from aiohttp!=4.0.0a0,!=4.0.0a1->fsspec[http]<2026.0,>=2022.5.0->lightning==2.4.0->-r EasyTSF/requirements.txt (line 9)) (2.6.1)\n",
            "Requirement already satisfied: aiosignal>=1.1.2 in /usr/local/lib/python3.11/dist-packages (from aiohttp!=4.0.0a0,!=4.0.0a1->fsspec[http]<2026.0,>=2022.5.0->lightning==2.4.0->-r EasyTSF/requirements.txt (line 9)) (1.3.2)\n",
            "Requirement already satisfied: attrs>=17.3.0 in /usr/local/lib/python3.11/dist-packages (from aiohttp!=4.0.0a0,!=4.0.0a1->fsspec[http]<2026.0,>=2022.5.0->lightning==2.4.0->-r EasyTSF/requirements.txt (line 9)) (25.3.0)\n",
            "Requirement already satisfied: frozenlist>=1.1.1 in /usr/local/lib/python3.11/dist-packages (from aiohttp!=4.0.0a0,!=4.0.0a1->fsspec[http]<2026.0,>=2022.5.0->lightning==2.4.0->-r EasyTSF/requirements.txt (line 9)) (1.6.0)\n",
            "Requirement already satisfied: multidict<7.0,>=4.5 in /usr/local/lib/python3.11/dist-packages (from aiohttp!=4.0.0a0,!=4.0.0a1->fsspec[http]<2026.0,>=2022.5.0->lightning==2.4.0->-r EasyTSF/requirements.txt (line 9)) (6.4.3)\n",
            "Requirement already satisfied: propcache>=0.2.0 in /usr/local/lib/python3.11/dist-packages (from aiohttp!=4.0.0a0,!=4.0.0a1->fsspec[http]<2026.0,>=2022.5.0->lightning==2.4.0->-r EasyTSF/requirements.txt (line 9)) (0.3.1)\n",
            "Requirement already satisfied: yarl<2.0,>=1.17.0 in /usr/local/lib/python3.11/dist-packages (from aiohttp!=4.0.0a0,!=4.0.0a1->fsspec[http]<2026.0,>=2022.5.0->lightning==2.4.0->-r EasyTSF/requirements.txt (line 9)) (1.20.0)\n",
            "Requirement already satisfied: intel-cmplr-lib-ur==2025.1.1 in /usr/local/lib/python3.11/dist-packages (from intel-openmp>=2024->mkl->mkl-fft==1.3.8->-r EasyTSF/requirements.txt (line 12)) (2025.1.1)\n",
            "Requirement already satisfied: umf==0.10.* in /usr/local/lib/python3.11/dist-packages (from intel-cmplr-lib-ur==2025.1.1->intel-openmp>=2024->mkl->mkl-fft==1.3.8->-r EasyTSF/requirements.txt (line 12)) (0.10.0)\n"
          ]
        }
      ]
    },
    {
      "cell_type": "code",
      "source": [
        "!pip install ray"
      ],
      "metadata": {
        "colab": {
          "base_uri": "https://localhost:8080/"
        },
        "id": "jn_r3bpFScbr",
        "outputId": "ff8e0a59-f5c2-4537-a14d-31e2e71c5c42"
      },
      "execution_count": 2,
      "outputs": [
        {
          "output_type": "stream",
          "name": "stdout",
          "text": [
            "Collecting ray\n",
            "  Downloading ray-2.46.0-cp311-cp311-manylinux2014_x86_64.whl.metadata (19 kB)\n",
            "Requirement already satisfied: click>=7.0 in /usr/local/lib/python3.11/dist-packages (from ray) (8.1.8)\n",
            "Requirement already satisfied: filelock in /usr/local/lib/python3.11/dist-packages (from ray) (3.13.1)\n",
            "Requirement already satisfied: jsonschema in /usr/local/lib/python3.11/dist-packages (from ray) (4.23.0)\n",
            "Requirement already satisfied: msgpack<2.0.0,>=1.0.0 in /usr/local/lib/python3.11/dist-packages (from ray) (1.1.0)\n",
            "Requirement already satisfied: packaging in /usr/local/lib/python3.11/dist-packages (from ray) (24.1)\n",
            "Requirement already satisfied: protobuf!=3.19.5,>=3.15.3 in /usr/local/lib/python3.11/dist-packages (from ray) (5.29.4)\n",
            "Requirement already satisfied: pyyaml in /usr/local/lib/python3.11/dist-packages (from ray) (6.0.1)\n",
            "Requirement already satisfied: requests in /usr/local/lib/python3.11/dist-packages (from ray) (2.32.3)\n",
            "Requirement already satisfied: attrs>=22.2.0 in /usr/local/lib/python3.11/dist-packages (from jsonschema->ray) (25.3.0)\n",
            "Requirement already satisfied: jsonschema-specifications>=2023.03.6 in /usr/local/lib/python3.11/dist-packages (from jsonschema->ray) (2025.4.1)\n",
            "Requirement already satisfied: referencing>=0.28.4 in /usr/local/lib/python3.11/dist-packages (from jsonschema->ray) (0.36.2)\n",
            "Requirement already satisfied: rpds-py>=0.7.1 in /usr/local/lib/python3.11/dist-packages (from jsonschema->ray) (0.24.0)\n",
            "Requirement already satisfied: charset-normalizer<4,>=2 in /usr/local/lib/python3.11/dist-packages (from requests->ray) (3.3.2)\n",
            "Requirement already satisfied: idna<4,>=2.5 in /usr/local/lib/python3.11/dist-packages (from requests->ray) (3.7)\n",
            "Requirement already satisfied: urllib3<3,>=1.21.1 in /usr/local/lib/python3.11/dist-packages (from requests->ray) (2.2.2)\n",
            "Requirement already satisfied: certifi>=2017.4.17 in /usr/local/lib/python3.11/dist-packages (from requests->ray) (2024.7.4)\n",
            "Requirement already satisfied: typing-extensions>=4.4.0 in /usr/local/lib/python3.11/dist-packages (from referencing>=0.28.4->jsonschema->ray) (4.11.0)\n",
            "Downloading ray-2.46.0-cp311-cp311-manylinux2014_x86_64.whl (68.5 MB)\n",
            "\u001b[2K   \u001b[90m━━━━━━━━━━━━━━━━━━━━━━━━━━━━━━━━━━━━━━━━\u001b[0m \u001b[32m68.5/68.5 MB\u001b[0m \u001b[31m169.6 MB/s\u001b[0m eta \u001b[36m0:00:00\u001b[0m\n",
            "\u001b[?25hInstalling collected packages: ray\n",
            "Successfully installed ray-2.46.0\n"
          ]
        }
      ]
    },
    {
      "cell_type": "code",
      "source": [
        "!pip install pykan"
      ],
      "metadata": {
        "colab": {
          "base_uri": "https://localhost:8080/"
        },
        "id": "lMcV8jZqLcGk",
        "outputId": "15fbc492-add9-4642-8a7f-caa9416a557c"
      },
      "execution_count": 3,
      "outputs": [
        {
          "output_type": "stream",
          "name": "stdout",
          "text": [
            "Collecting pykan\n",
            "  Downloading pykan-0.2.8-py3-none-any.whl.metadata (11 kB)\n",
            "Downloading pykan-0.2.8-py3-none-any.whl (78 kB)\n",
            "Installing collected packages: pykan\n",
            "Successfully installed pykan-0.2.8\n"
          ]
        }
      ]
    },
    {
      "cell_type": "code",
      "source": [
        "!python EasyTSF/train.py -c EasyTSF/config/reproduce_conf/KAN/ETTh1_96for48.py"
      ],
      "metadata": {
        "colab": {
          "base_uri": "https://localhost:8080/"
        },
        "id": "yQSXSoK5PHsn",
        "outputId": "213115ec-b206-4333-bc66-8ddf17f0f90e"
      },
      "execution_count": null,
      "outputs": [
        {
          "output_type": "stream",
          "name": "stdout",
          "text": [
            "Seed set to 1\n",
            "GPU available: True (cuda), used: True\n",
            "TPU available: False, using: 0 TPU cores\n",
            "HPU available: False, using: 0 HPUs\n",
            "checkpoint directory created: drive/MyDrive/VKR/Results/save/110525_1424/model\n",
            "saving model version 0.0\n",
            "LOCAL_RANK: 0 - CUDA_VISIBLE_DEVICES: [0]\n",
            "\n",
            "  | Name          | Type    | Params | Mode \n",
            "--------------------------------------------------\n",
            "0 | model         | MultKAN | 334 K  | train\n",
            "1 | loss_function | MSELoss | 0      | train\n",
            "--------------------------------------------------\n",
            "282 K     Trainable params\n",
            "52.1 K    Non-trainable params\n",
            "334 K     Total params\n",
            "1.336     Total estimated model params size (MB)\n",
            "11        Modules in train mode\n",
            "0         Modules in eval mode\n",
            "Epoch 0: 100% 134/134 [44:16<00:00, 19.83s/it, v_num=ed_1, train/loss_step=1.060]\n",
            "Validation: |          | 0/? [00:00<?, ?it/s]\u001b[A\n",
            "Validation:   0% 0/45 [00:00<?, ?it/s]       \u001b[A\n",
            "Validation DataLoader 0:   0% 0/45 [00:00<?, ?it/s]\u001b[A\n",
            "Validation DataLoader 0:  44% 20/45 [01:23<01:43,  4.15s/it]\u001b[A\n",
            "Validation DataLoader 0:  89% 40/45 [02:45<00:20,  4.15s/it]\u001b[A\n",
            "Validation DataLoader 0: 100% 45/45 [03:06<00:00,  4.15s/it]\u001b[A/usr/local/lib/python3.11/dist-packages/ray/train/_internal/session.py:657: UserWarning: `report` is meant to only be called inside a function that is executed by a Tuner or Trainer. Returning `None`.\n",
            "  warnings.warn(\n",
            "\n",
            "Epoch 1: 100% 134/134 [44:10<00:00, 19.78s/it, v_num=ed_1, train/loss_step=0.983, val/loss=2.870, train/loss_epoch=0.623]\n",
            "Validation: |          | 0/? [00:00<?, ?it/s]\u001b[A\n",
            "Validation:   0% 0/45 [00:00<?, ?it/s]       \u001b[A\n",
            "Validation DataLoader 0:   0% 0/45 [00:00<?, ?it/s]\u001b[A\n",
            "Validation DataLoader 0:  44% 20/45 [01:23<01:44,  4.18s/it]\u001b[A\n",
            "Validation DataLoader 0:  89% 40/45 [02:47<00:20,  4.19s/it]\u001b[A\n",
            "Validation DataLoader 0: 100% 45/45 [03:07<00:00,  4.17s/it]\u001b[A\n",
            "Epoch 2: 100% 134/134 [44:16<00:00, 19.82s/it, v_num=ed_1, train/loss_step=0.804, val/loss=2.230, train/loss_epoch=0.664]\n",
            "Validation: |          | 0/? [00:00<?, ?it/s]\u001b[A\n",
            "Validation:   0% 0/45 [00:00<?, ?it/s]       \u001b[A\n",
            "Validation DataLoader 0:   0% 0/45 [00:00<?, ?it/s]\u001b[A\n",
            "Validation DataLoader 0:  44% 20/45 [01:22<01:43,  4.15s/it]\u001b[A\n",
            "Validation DataLoader 0:  89% 40/45 [02:45<00:20,  4.13s/it]\u001b[A\n",
            "Validation DataLoader 0: 100% 45/45 [03:07<00:00,  4.16s/it]\u001b[A\n",
            "Epoch 2: 100% 134/134 [47:24<00:00, 21.23s/it, v_num=ed_1, train/loss_step=0.804, val/loss=1.280, train/loss_epoch=0.617]`Trainer.fit` stopped: `max_epochs=3` reached.\n",
            "Epoch 2: 100% 134/134 [47:24<00:00, 21.23s/it, v_num=ed_1, train/loss_step=0.804, val/loss=1.280, train/loss_epoch=0.617]\n",
            "Restoring states from the checkpoint path at drive/MyDrive/VKR/Results/save/110525_1424/KAN_ETTh1/30c8440b72/seed_1/checkpoints/epoch=2-step=402.ckpt\n",
            "LOCAL_RANK: 0 - CUDA_VISIBLE_DEVICES: [0]\n",
            "Loaded model weights from the checkpoint at drive/MyDrive/VKR/Results/save/110525_1424/KAN_ETTh1/30c8440b72/seed_1/checkpoints/epoch=2-step=402.ckpt\n",
            "Testing DataLoader 0:   0% 0/2869 [00:00<?, ?it/s]/usr/local/lib/python3.11/dist-packages/kan/MultKAN.py:813: UserWarning: std(): degrees of freedom is <= 0. Correction should be strictly less than the reduction factor (input numel divided by output numel). (Triggered internally at ../aten/src/ATen/native/ReduceOps.cpp:1808.)\n",
            "  self.subnode_actscale.append(torch.std(x, dim=0).detach())\n",
            "/usr/local/lib/python3.11/dist-packages/kan/MultKAN.py:823: UserWarning: std(): degrees of freedom is <= 0. Correction should be strictly less than the reduction factor (input numel divided by output numel). (Triggered internally at ../aten/src/ATen/native/ReduceOps.cpp:1808.)\n",
            "  input_range = torch.std(preacts, dim=0) + 0.1\n",
            "/usr/local/lib/python3.11/dist-packages/kan/MultKAN.py:824: UserWarning: std(): degrees of freedom is <= 0. Correction should be strictly less than the reduction factor (input numel divided by output numel). (Triggered internally at ../aten/src/ATen/native/ReduceOps.cpp:1808.)\n",
            "  output_range_spline = torch.std(postacts_numerical, dim=0) # for training, only penalize the spline part\n",
            "/usr/local/lib/python3.11/dist-packages/kan/MultKAN.py:825: UserWarning: std(): degrees of freedom is <= 0. Correction should be strictly less than the reduction factor (input numel divided by output numel). (Triggered internally at ../aten/src/ATen/native/ReduceOps.cpp:1808.)\n",
            "  output_range = torch.std(postacts, dim=0) # for visualization, include the contribution from both spline + symbolic\n",
            "Testing DataLoader 0:  95% 2720/2869 [2:49:27<09:16,  3.74s/it]"
          ]
        }
      ]
    },
    {
      "cell_type": "code",
      "source": [
        "!python EasyTSF/train.py -c EasyTSF/config/reproduce_conf/KAN/ETTh1_48for12.py"
      ],
      "metadata": {
        "id": "NyF4y6e5nbk3",
        "outputId": "35fd27d7-be7b-4309-d8bd-937a66b69aeb",
        "colab": {
          "base_uri": "https://localhost:8080/"
        }
      },
      "execution_count": 4,
      "outputs": [
        {
          "output_type": "stream",
          "name": "stdout",
          "text": [
            "Seed set to 1\n",
            "GPU available: True (cuda), used: True\n",
            "TPU available: False, using: 0 TPU cores\n",
            "HPU available: False, using: 0 HPUs\n",
            "checkpoint directory created: drive/MyDrive/VKR/Results/save/110525_2132/model\n",
            "saving model version 0.0\n",
            "You are using a CUDA device ('NVIDIA L4') that has Tensor Cores. To properly utilize them, you should set `torch.set_float32_matmul_precision('medium' | 'high')` which will trade-off precision for performance. For more details, read https://pytorch.org/docs/stable/generated/torch.set_float32_matmul_precision.html#torch.set_float32_matmul_precision\n",
            "LOCAL_RANK: 0 - CUDA_VISIBLE_DEVICES: [0]\n",
            "\n",
            "  | Name          | Type    | Params | Mode \n",
            "--------------------------------------------------\n",
            "0 | model         | MultKAN | 121 K  | train\n",
            "1 | loss_function | MSELoss | 0      | train\n",
            "--------------------------------------------------\n",
            "100 K     Trainable params\n",
            "20.8 K    Non-trainable params\n",
            "121 K     Total params\n",
            "0.486     Total estimated model params size (MB)\n",
            "9         Modules in train mode\n",
            "0         Modules in eval mode\n",
            "Epoch 0: 100% 134/134 [15:14<00:00,  6.82s/it, v_num=ed_1, train/loss_step=1.020]\n",
            "Validation: |          | 0/? [00:00<?, ?it/s]\u001b[A\n",
            "Validation:   0% 0/45 [00:00<?, ?it/s]       \u001b[A\n",
            "Validation DataLoader 0:   0% 0/45 [00:00<?, ?it/s]\u001b[A\n",
            "Validation DataLoader 0:  44% 20/45 [00:29<00:36,  1.47s/it]\u001b[A\n",
            "Validation DataLoader 0:  89% 40/45 [00:58<00:07,  1.46s/it]\u001b[A\n",
            "Validation DataLoader 0: 100% 45/45 [01:05<00:00,  1.46s/it]\u001b[A/usr/local/lib/python3.11/dist-packages/ray/train/_internal/session.py:657: UserWarning: `report` is meant to only be called inside a function that is executed by a Tuner or Trainer. Returning `None`.\n",
            "  warnings.warn(\n",
            "\n",
            "Epoch 1: 100% 134/134 [15:09<00:00,  6.78s/it, v_num=ed_1, train/loss_step=0.606, val/loss=1.700, train/loss_epoch=0.674]\n",
            "Validation: |          | 0/? [00:00<?, ?it/s]\u001b[A\n",
            "Validation:   0% 0/45 [00:00<?, ?it/s]       \u001b[A\n",
            "Validation DataLoader 0:   0% 0/45 [00:00<?, ?it/s]\u001b[A\n",
            "Validation DataLoader 0:  44% 20/45 [00:29<00:36,  1.47s/it]\u001b[A\n",
            "Validation DataLoader 0:  89% 40/45 [00:58<00:07,  1.46s/it]\u001b[A\n",
            "Validation DataLoader 0: 100% 45/45 [01:05<00:00,  1.46s/it]\u001b[A\n",
            "Epoch 2: 100% 134/134 [15:10<00:00,  6.79s/it, v_num=ed_1, train/loss_step=0.365, val/loss=1.510, train/loss_epoch=0.734]\n",
            "Validation: |          | 0/? [00:00<?, ?it/s]\u001b[A\n",
            "Validation:   0% 0/45 [00:00<?, ?it/s]       \u001b[A\n",
            "Validation DataLoader 0:   0% 0/45 [00:00<?, ?it/s]\u001b[A\n",
            "Validation DataLoader 0:  44% 20/45 [00:29<00:36,  1.47s/it]\u001b[A\n",
            "Validation DataLoader 0:  89% 40/45 [00:58<00:07,  1.47s/it]\u001b[A\n",
            "Validation DataLoader 0: 100% 45/45 [01:05<00:00,  1.47s/it]\u001b[A\n",
            "Epoch 3: 100% 134/134 [15:12<00:00,  6.81s/it, v_num=ed_1, train/loss_step=0.356, val/loss=1.120, train/loss_epoch=0.612]\n",
            "Validation: |          | 0/? [00:00<?, ?it/s]\u001b[A\n",
            "Validation:   0% 0/45 [00:00<?, ?it/s]       \u001b[A\n",
            "Validation DataLoader 0:   0% 0/45 [00:00<?, ?it/s]\u001b[A\n",
            "Validation DataLoader 0:  44% 20/45 [00:29<00:36,  1.48s/it]\u001b[A\n",
            "Validation DataLoader 0:  89% 40/45 [00:58<00:07,  1.47s/it]\u001b[A\n",
            "Validation DataLoader 0: 100% 45/45 [01:06<00:00,  1.47s/it]\u001b[A\n",
            "Epoch 4: 100% 134/134 [15:12<00:00,  6.81s/it, v_num=ed_1, train/loss_step=0.346, val/loss=1.010, train/loss_epoch=0.511]\n",
            "Validation: |          | 0/? [00:00<?, ?it/s]\u001b[A\n",
            "Validation:   0% 0/45 [00:00<?, ?it/s]       \u001b[A\n",
            "Validation DataLoader 0:   0% 0/45 [00:00<?, ?it/s]\u001b[A\n",
            "Validation DataLoader 0:  44% 20/45 [00:29<00:36,  1.47s/it]\u001b[A\n",
            "Validation DataLoader 0:  89% 40/45 [00:58<00:07,  1.47s/it]\u001b[A\n",
            "Validation DataLoader 0: 100% 45/45 [01:05<00:00,  1.46s/it]\u001b[A\n",
            "Epoch 4: 100% 134/134 [16:18<00:00,  7.30s/it, v_num=ed_1, train/loss_step=0.346, val/loss=0.994, train/loss_epoch=0.447]`Trainer.fit` stopped: `max_epochs=5` reached.\n",
            "Epoch 4: 100% 134/134 [16:18<00:00,  7.30s/it, v_num=ed_1, train/loss_step=0.346, val/loss=0.994, train/loss_epoch=0.447]\n",
            "Restoring states from the checkpoint path at drive/MyDrive/VKR/Results/save/110525_2132/KAN_ETTh1/6d6cb8a0d6/seed_1/checkpoints/epoch=4-step=670.ckpt\n",
            "LOCAL_RANK: 0 - CUDA_VISIBLE_DEVICES: [0]\n",
            "Loaded model weights from the checkpoint at drive/MyDrive/VKR/Results/save/110525_2132/KAN_ETTh1/6d6cb8a0d6/seed_1/checkpoints/epoch=4-step=670.ckpt\n",
            "Testing DataLoader 0:   0% 0/2869 [00:00<?, ?it/s]/usr/local/lib/python3.11/dist-packages/kan/MultKAN.py:813: UserWarning: std(): degrees of freedom is <= 0. Correction should be strictly less than the reduction factor (input numel divided by output numel). (Triggered internally at ../aten/src/ATen/native/ReduceOps.cpp:1808.)\n",
            "  self.subnode_actscale.append(torch.std(x, dim=0).detach())\n",
            "/usr/local/lib/python3.11/dist-packages/kan/MultKAN.py:823: UserWarning: std(): degrees of freedom is <= 0. Correction should be strictly less than the reduction factor (input numel divided by output numel). (Triggered internally at ../aten/src/ATen/native/ReduceOps.cpp:1808.)\n",
            "  input_range = torch.std(preacts, dim=0) + 0.1\n",
            "/usr/local/lib/python3.11/dist-packages/kan/MultKAN.py:824: UserWarning: std(): degrees of freedom is <= 0. Correction should be strictly less than the reduction factor (input numel divided by output numel). (Triggered internally at ../aten/src/ATen/native/ReduceOps.cpp:1808.)\n",
            "  output_range_spline = torch.std(postacts_numerical, dim=0) # for training, only penalize the spline part\n",
            "/usr/local/lib/python3.11/dist-packages/kan/MultKAN.py:825: UserWarning: std(): degrees of freedom is <= 0. Correction should be strictly less than the reduction factor (input numel divided by output numel). (Triggered internally at ../aten/src/ATen/native/ReduceOps.cpp:1808.)\n",
            "  output_range = torch.std(postacts, dim=0) # for visualization, include the contribution from both spline + symbolic\n",
            "Testing DataLoader 0: 100% 2869/2869 [1:02:24<00:00,  1.31s/it]\n",
            "┏━━━━━━━━━━━━━━━━━━━━━━━━━━━┳━━━━━━━━━━━━━━━━━━━━━━━━━━━┓\n",
            "┃\u001b[1m \u001b[0m\u001b[1m       Test metric       \u001b[0m\u001b[1m \u001b[0m┃\u001b[1m \u001b[0m\u001b[1m      DataLoader 0       \u001b[0m\u001b[1m \u001b[0m┃\n",
            "┡━━━━━━━━━━━━━━━━━━━━━━━━━━━╇━━━━━━━━━━━━━━━━━━━━━━━━━━━┩\n",
            "│\u001b[36m \u001b[0m\u001b[36m        test/mae         \u001b[0m\u001b[36m \u001b[0m│\u001b[35m \u001b[0m\u001b[35m   0.6896307468414307    \u001b[0m\u001b[35m \u001b[0m│\n",
            "│\u001b[36m \u001b[0m\u001b[36m        test/mse         \u001b[0m\u001b[36m \u001b[0m│\u001b[35m \u001b[0m\u001b[35m   0.8641936779022217    \u001b[0m\u001b[35m \u001b[0m│\n",
            "└───────────────────────────┴───────────────────────────┘\n"
          ]
        }
      ]
    },
    {
      "cell_type": "code",
      "source": [
        "!python EasyTSF/train.py -c EasyTSF/config/reproduce_conf/MLP/ETTh1_48for12.py"
      ],
      "metadata": {
        "id": "42SsKQd_IzeN"
      },
      "execution_count": null,
      "outputs": []
    },
    {
      "cell_type": "code",
      "source": [
        "exp_conf = dict(\n",
        "    model_name=\"KAN\",\n",
        "    dataset_name='ETTh1',\n",
        "\n",
        "    hist_len=96,\n",
        "    pred_len=48,\n",
        "\n",
        "    max_epochs=3,\n",
        "\n",
        "    width=[96 * 7, 50, 50 , 48 * 7],\n",
        "    grid=3,\n",
        "    k=3,\n",
        "\n",
        "    lr=0.01,\n",
        "\n",
        "    save_root=\"./save\",\n",
        "\n",
        "    batch_size=64,\n",
        "    optimizer=\"AdamW\",\n",
        "    optimizer_betas=(0.95, 0.9),\n",
        "    optimizer_weight_decay=1e-5,\n",
        "    lr_scheduler='StepLR',\n",
        "    lr_step_size=1,\n",
        "    lr_gamma=0.5,\n",
        "    gradient_clip_val=5,\n",
        "    val_metric=\"val/loss\",\n",
        "    test_metric=\"test/mae\",\n",
        "    es_patience=10,\n",
        "\n",
        "    norm_time_feature=False,\n",
        "    time_feature_cls=[\"tod\", \"dow\"],\n",
        "\n",
        "    num_workers=2,\n",
        "\n",
        "    var_num=7,\n",
        "    freq=60,\n",
        "    data_split=[8640, 2880, 2880],\n",
        "    data_root=\"EasyTSF/dataset\",\n",
        "    devices=\"auto\",\n",
        "\n",
        "    include_time_feature = False,\n",
        "\n",
        ")\n"
      ],
      "metadata": {
        "id": "oLfcO3OSgcSz"
      },
      "execution_count": null,
      "outputs": []
    },
    {
      "cell_type": "code",
      "source": [
        "import os\n",
        "\n",
        "import lightning.pytorch as pl\n",
        "import numpy as np\n",
        "import pandas as pd\n",
        "from torch.utils.data import DataLoader\n",
        "from torch.utils.data import Dataset\n",
        "\n",
        "\n",
        "class GeneralTSFDataset(Dataset):\n",
        "    def __init__(self, hist_len, pred_len, variable, time_feature, model_name, include_time_feature):\n",
        "        self.hist_len = hist_len\n",
        "        self.pred_len = pred_len\n",
        "        self.variable = variable\n",
        "        self.time_feature = time_feature\n",
        "        self.model_name = model_name\n",
        "        self.include_time_feature = include_time_feature\n",
        "\n",
        "    def __getitem__(self, index):\n",
        "        hist_start = index\n",
        "        hist_end = index + self.hist_len\n",
        "        pred_end = hist_end + self.pred_len\n",
        "\n",
        "        var_x = self.variable[hist_start:hist_end, ...]\n",
        "        tf_x = self.time_feature[hist_start:hist_end, ...]\n",
        "\n",
        "        var_y = self.variable[hist_end:pred_end, ...]\n",
        "        tf_y = self.time_feature[hist_end:pred_end, ...]\n",
        "\n",
        "        if self.include_time_feature: # static features should not be forecasted\n",
        "          # concatenate all features\n",
        "          var_x = np.concatenate((var_x, tf_x), axis=-1)\n",
        "          var_y = np.concatenate((var_y, tf_y), axis=-1)\n",
        "\n",
        "\n",
        "        if self.model_name == \"KAN\":\n",
        "          var_x = var_x.reshape(-1)\n",
        "          var_y = var_y.reshape(-1)\n",
        "\n",
        "        return var_x, var_y\n",
        "\n",
        "    def __len__(self):\n",
        "        return len(self.variable) - (self.hist_len + self.pred_len) + 1\n",
        "\n",
        "\n",
        "class DataInterface(pl.LightningDataModule):\n",
        "\n",
        "    def __init__(self, **kwargs):\n",
        "        super().__init__()\n",
        "        self.num_workers = kwargs['num_workers']\n",
        "        self.batch_size = kwargs['batch_size']\n",
        "        self.hist_len = kwargs['hist_len']\n",
        "        self.pred_len = kwargs['pred_len']\n",
        "        self.norm_time_feature = kwargs['norm_time_feature']\n",
        "        self.train_len, self.val_len, self.test_len = kwargs['data_split']\n",
        "        self.time_feature_cls = kwargs['time_feature_cls']\n",
        "\n",
        "        self.data_path = os.path.join(kwargs['data_root'], \"{}.npz\".format(kwargs['dataset_name']))\n",
        "        self.config = kwargs\n",
        "\n",
        "        self.variable, self.time_feature = self.__read_data__()\n",
        "\n",
        "    def __read_data__(self):\n",
        "        data = np.load(self.data_path)\n",
        "        variable = data['variable']\n",
        "        timestamp = pd.DatetimeIndex(data['timestamp'])\n",
        "\n",
        "        # time_feature\n",
        "        time_feature = []\n",
        "        for tf_cls in self.time_feature_cls:\n",
        "            if tf_cls == \"tod\":\n",
        "                tod_size = int((24 * 60) / self.config['freq']) - 1\n",
        "                tod = np.array(list(map(lambda x: ((60 * x.hour + x.minute) / self.config['freq']), timestamp)))\n",
        "                if self.norm_time_feature:\n",
        "                    time_feature.append(tod / tod_size)\n",
        "                else:\n",
        "                    time_feature.append(tod)\n",
        "            elif tf_cls == \"dow\":\n",
        "                dow_size = 7 - 1\n",
        "                dow = np.array(timestamp.dayofweek)  # 0 ~ 6\n",
        "                if self.norm_time_feature:\n",
        "                    time_feature.append(dow / dow_size)\n",
        "                else:\n",
        "                    time_feature.append(dow)\n",
        "            elif tf_cls == \"dom\":\n",
        "                dom_size = 31 - 1\n",
        "                dom = np.array(timestamp.day) - 1  # 0 ~ 30\n",
        "                if self.norm_time_feature:\n",
        "                    time_feature.append(dom / dom_size)\n",
        "                else:\n",
        "                    time_feature.append(dom)\n",
        "            elif tf_cls == \"doy\":\n",
        "                doy_size = 366 - 1\n",
        "                doy = np.array(timestamp.dayofyear) - 1  # 0 ~ 181\n",
        "                if self.norm_time_feature:\n",
        "                    time_feature.append(doy / doy_size)\n",
        "                else:\n",
        "                    time_feature.append(doy)\n",
        "            else:\n",
        "                raise NotImplementedError\n",
        "\n",
        "        return variable, np.stack(time_feature, axis=-1)\n",
        "\n",
        "\n",
        "    def train_dataloader(self):\n",
        "        return DataLoader(\n",
        "            dataset=GeneralTSFDataset(\n",
        "                self.hist_len,\n",
        "                self.pred_len,\n",
        "                self.variable[:self.train_len].copy(),\n",
        "                self.time_feature[:self.train_len].copy(),\n",
        "                self.config[\"model_name\"],\n",
        "                self.config['include_time_feature'],\n",
        "            ),\n",
        "            batch_size=self.batch_size,\n",
        "            num_workers=self.num_workers,\n",
        "            shuffle=False,\n",
        "            drop_last=True\n",
        "        )\n",
        "\n",
        "    def val_dataloader(self):\n",
        "        return DataLoader(\n",
        "            dataset=GeneralTSFDataset(\n",
        "                self.hist_len,\n",
        "                self.pred_len,\n",
        "                self.variable[self.train_len - self.hist_len:self.train_len + self.val_len].copy(),\n",
        "                self.time_feature[self.train_len - self.hist_len:self.train_len + self.val_len].copy(),\n",
        "                self.config[\"model_name\"],\n",
        "                self.config['include_time_feature'],\n",
        "            ),\n",
        "            batch_size=self.batch_size,\n",
        "            num_workers=self.num_workers,\n",
        "            shuffle=False,\n",
        "            drop_last=False\n",
        "        )\n",
        "\n",
        "    def test_dataloader(self):\n",
        "        return DataLoader(\n",
        "            dataset=GeneralTSFDataset(\n",
        "                self.hist_len,\n",
        "                self.pred_len,\n",
        "                self.variable[self.train_len + self.val_len - self.hist_len:].copy(),\n",
        "                self.time_feature[self.train_len + self.val_len - self.hist_len:].copy(),\n",
        "                self.config[\"model_name\"],\n",
        "                self.config['include_time_feature'],\n",
        "            ),\n",
        "            batch_size=1,\n",
        "            num_workers=self.num_workers,\n",
        "            shuffle=False\n",
        "        )\n"
      ],
      "metadata": {
        "colab": {
          "base_uri": "https://localhost:8080/",
          "height": 384
        },
        "id": "0RtfzNmWwz_u",
        "outputId": "7c3ecff9-e2f7-41cd-c3a2-90f62f3b6630"
      },
      "execution_count": null,
      "outputs": [
        {
          "output_type": "error",
          "ename": "ModuleNotFoundError",
          "evalue": "No module named 'lightning'",
          "traceback": [
            "\u001b[0;31m---------------------------------------------------------------------------\u001b[0m",
            "\u001b[0;31mModuleNotFoundError\u001b[0m                       Traceback (most recent call last)",
            "\u001b[0;32m<ipython-input-2-5cf69ca1d3d6>\u001b[0m in \u001b[0;36m<cell line: 0>\u001b[0;34m()\u001b[0m\n\u001b[1;32m      1\u001b[0m \u001b[0;32mimport\u001b[0m \u001b[0mos\u001b[0m\u001b[0;34m\u001b[0m\u001b[0;34m\u001b[0m\u001b[0m\n\u001b[1;32m      2\u001b[0m \u001b[0;34m\u001b[0m\u001b[0m\n\u001b[0;32m----> 3\u001b[0;31m \u001b[0;32mimport\u001b[0m \u001b[0mlightning\u001b[0m\u001b[0;34m.\u001b[0m\u001b[0mpytorch\u001b[0m \u001b[0;32mas\u001b[0m \u001b[0mpl\u001b[0m\u001b[0;34m\u001b[0m\u001b[0;34m\u001b[0m\u001b[0m\n\u001b[0m\u001b[1;32m      4\u001b[0m \u001b[0;32mimport\u001b[0m \u001b[0mnumpy\u001b[0m \u001b[0;32mas\u001b[0m \u001b[0mnp\u001b[0m\u001b[0;34m\u001b[0m\u001b[0;34m\u001b[0m\u001b[0m\n\u001b[1;32m      5\u001b[0m \u001b[0;32mimport\u001b[0m \u001b[0mpandas\u001b[0m \u001b[0;32mas\u001b[0m \u001b[0mpd\u001b[0m\u001b[0;34m\u001b[0m\u001b[0;34m\u001b[0m\u001b[0m\n",
            "\u001b[0;31mModuleNotFoundError\u001b[0m: No module named 'lightning'",
            "",
            "\u001b[0;31m---------------------------------------------------------------------------\u001b[0;32m\nNOTE: If your import is failing due to a missing package, you can\nmanually install dependencies using either !pip or !apt.\n\nTo view examples of installing some common dependencies, click the\n\"Open Examples\" button below.\n\u001b[0;31m---------------------------------------------------------------------------\u001b[0m\n"
          ],
          "errorDetails": {
            "actions": [
              {
                "action": "open_url",
                "actionText": "Open Examples",
                "url": "/notebooks/snippets/importing_libraries.ipynb"
              }
            ]
          }
        }
      ]
    },
    {
      "cell_type": "code",
      "source": [],
      "metadata": {
        "id": "CeyboVdMw6CN"
      },
      "execution_count": null,
      "outputs": []
    },
    {
      "cell_type": "code",
      "source": [
        "data_module = DataInterface(**exp_conf)\n",
        "print(data_module.time_feature.shape)"
      ],
      "metadata": {
        "colab": {
          "base_uri": "https://localhost:8080/"
        },
        "id": "F1ZhqdlSw6Pl",
        "outputId": "6b97456f-8eab-4aa9-f082-4bb99ab843dc"
      },
      "execution_count": null,
      "outputs": [
        {
          "output_type": "stream",
          "name": "stdout",
          "text": [
            "(14400, 2)\n"
          ]
        }
      ]
    },
    {
      "cell_type": "code",
      "source": [
        "train_loader = data_module.train_dataloader()\n",
        "len(train_loader)"
      ],
      "metadata": {
        "colab": {
          "base_uri": "https://localhost:8080/"
        },
        "id": "qUoMJ6IAw-aH",
        "outputId": "bc1bc270-9358-4082-e103-bcba2741216e"
      },
      "execution_count": null,
      "outputs": [
        {
          "output_type": "execute_result",
          "data": {
            "text/plain": [
              "132"
            ]
          },
          "metadata": {},
          "execution_count": 119
        }
      ]
    },
    {
      "cell_type": "code",
      "source": [
        "for i, batch in enumerate(train_loader):\n",
        "  if i == 0:\n",
        "    var_x, var_y = [_.float() for _ in batch]\n",
        "    print(var_x.shape, var_y.shape)\n",
        "    # print(var_x[0], marker_x[0], var_y[0], marker_y[0])"
      ],
      "metadata": {
        "colab": {
          "base_uri": "https://localhost:8080/"
        },
        "id": "SlImon7rw_CJ",
        "outputId": "7a5e899f-ad0a-4f3b-c5a2-b7cb3bafb660"
      },
      "execution_count": null,
      "outputs": [
        {
          "output_type": "stream",
          "name": "stdout",
          "text": [
            "torch.Size([64, 672]) torch.Size([64, 336])\n"
          ]
        }
      ]
    },
    {
      "cell_type": "code",
      "source": [
        "var_x[0].shape"
      ],
      "metadata": {
        "id": "Ll8W9m0_0D4Z",
        "outputId": "4aa0d38e-de64-4100-fc45-346081fccc6c",
        "colab": {
          "base_uri": "https://localhost:8080/"
        }
      },
      "execution_count": null,
      "outputs": [
        {
          "output_type": "execute_result",
          "data": {
            "text/plain": [
              "torch.Size([672])"
            ]
          },
          "metadata": {},
          "execution_count": 121
        }
      ]
    },
    {
      "cell_type": "code",
      "source": [
        "var_y[:, -48:].shape"
      ],
      "metadata": {
        "colab": {
          "base_uri": "https://localhost:8080/"
        },
        "id": "Ykx-tUeJ0bra",
        "outputId": "805bf964-2d30-40b1-93b9-5c5a2901b462"
      },
      "execution_count": null,
      "outputs": [
        {
          "output_type": "execute_result",
          "data": {
            "text/plain": [
              "torch.Size([64, 48])"
            ]
          },
          "metadata": {},
          "execution_count": 122
        }
      ]
    },
    {
      "cell_type": "code",
      "source": [],
      "metadata": {
        "id": "P5M-wLSG1JcQ"
      },
      "execution_count": null,
      "outputs": []
    },
    {
      "cell_type": "code",
      "source": [
        "import importlib\n",
        "import inspect\n",
        "import os\n",
        "\n",
        "import lightning.pytorch as L\n",
        "import numpy as np\n",
        "import torch\n",
        "import torch.nn as nn\n",
        "import torch.optim.lr_scheduler as lrs\n",
        "\n",
        "from kan import KAN\n",
        "\n",
        "\n",
        "class LTSFRunner(L.LightningModule):\n",
        "    def __init__(self, **kargs):\n",
        "        super().__init__()\n",
        "        self.save_hyperparameters()\n",
        "        self.load_model()\n",
        "        self.configure_loss()\n",
        "\n",
        "        stat = np.load(os.path.join(self.hparams.data_root, '{}.npz'.format(self.hparams.dataset_name)))\n",
        "        self.register_buffer('mean', torch.tensor(stat['mean']).float())\n",
        "        self.register_buffer('std', torch.tensor(stat['std']).float())\n",
        "\n",
        "    def forward(self, batch, batch_idx):\n",
        "        var_x, marker_x, var_y, marker_y = [_.float() for _ in batch]\n",
        "        if self.hparams.model_name == \"KAN\":\n",
        "          print(var_x.shape, marker_x.shape, var_y.shape, marker_y.shape)\n",
        "\n",
        "          label = var_y[:, -self.hparams.pred_len:]\n",
        "          prediction = self.model(var_x, marker_x)[:, -self.hparams.pred_len:]\n",
        "        else:\n",
        "          label = var_y[:, -self.hparams.pred_len:, :]\n",
        "          prediction = self.model(var_x, marker_x)[:, -self.hparams.pred_len:, :]\n",
        "        return prediction, label\n",
        "\n",
        "    def training_step(self, batch, batch_idx):\n",
        "        loss = self.loss_function(*self.forward(batch, batch_idx))\n",
        "        self.log('train/loss', loss, on_step=True, on_epoch=True, prog_bar=True, sync_dist=True)\n",
        "        return loss\n",
        "\n",
        "    def validation_step(self, batch, batch_idx):\n",
        "        loss = self.loss_function(*self.forward(batch, batch_idx))\n",
        "        self.log('val/loss', loss, on_step=False, on_epoch=True, prog_bar=True, sync_dist=True)\n",
        "        return loss\n",
        "\n",
        "    def test_step(self, batch, batch_idx):\n",
        "        prediction, label = self.forward(batch, batch_idx)\n",
        "        mae = torch.nn.functional.l1_loss(prediction, label)\n",
        "        mse = torch.nn.functional.mse_loss(prediction, label)\n",
        "        self.log('test/mae', mae, on_step=False, on_epoch=True, sync_dist=True)\n",
        "        self.log('test/mse', mse, on_step=False, on_epoch=True, sync_dist=True)\n",
        "\n",
        "    def configure_loss(self):\n",
        "        self.loss_function = nn.MSELoss()\n",
        "\n",
        "    def configure_optimizers(self):\n",
        "        if self.hparams.optimizer == 'Adam':\n",
        "            optimizer = torch.optim.Adam(\n",
        "                self.parameters(), lr=self.hparams.lr, weight_decay=self.hparams.optimizer_weight_decay)\n",
        "        elif self.hparams.optimizer == 'AdamW':\n",
        "            optimizer = torch.optim.AdamW(\n",
        "                self.parameters(), lr=self.hparams.lr, betas=(0.9, 0.95), weight_decay=1e-5)\n",
        "        else:\n",
        "            raise ValueError('Invalid optimizer type!')\n",
        "\n",
        "        if self.hparams.lr_scheduler == 'StepLR':\n",
        "            lr_scheduler = {\n",
        "                \"scheduler\": lrs.StepLR(\n",
        "                    optimizer, step_size=self.hparams.lr_step_size, gamma=self.hparams.lr_gamma)\n",
        "            }\n",
        "        elif self.hparams.lr_scheduler == 'MultiStepLR':\n",
        "            lr_scheduler = {\n",
        "                \"scheduler\": lrs.MultiStepLR(\n",
        "                    optimizer, milestones=self.hparams.milestones, gamma=self.hparams.gamma)\n",
        "            }\n",
        "        elif self.hparams.lr_scheduler == 'ReduceLROnPlateau':\n",
        "            lr_scheduler = {\n",
        "                \"scheduler\": lrs.ReduceLROnPlateau(\n",
        "                    optimizer, mode='min', factor=self.hparams.lrs_factor, patience=self.hparams.lrs_patience),\n",
        "                \"monitor\": self.hparams.val_metric\n",
        "            }\n",
        "        elif self.hparams.lr_scheduler == 'WSD':\n",
        "            assert self.hparams.lr_warmup_end_epochs < self.hparams.lr_stable_end_epochs < self.hparams.max_epochs\n",
        "\n",
        "            def wsd_lr_lambda(epoch):\n",
        "                if epoch < self.hparams.lr_warmup_end_epochs:\n",
        "                    return (epoch + 1) / self.hparams.lr_warmup_end_epochs\n",
        "                if self.hparams.lr_warmup_end_epochs <= epoch < self.hparams.lr_stable_end_epochs:\n",
        "                    return 1.0\n",
        "                if self.hparams.lr_stable_end_epochs <= epoch <= self.hparams.max_epochs:\n",
        "                    return (epoch + 1 - self.hparams.lr_stable_end_epochs) / (\n",
        "                            self.hparams.max_epochs - self.hparams.lr_stable_end_epochs)\n",
        "\n",
        "            lr_scheduler = {\n",
        "                \"scheduler\": lrs.LambdaLR(optimizer, lr_lambda=wsd_lr_lambda),\n",
        "            }\n",
        "        else:\n",
        "            raise ValueError('Invalid lr_scheduler type!')\n",
        "\n",
        "        return {\n",
        "            \"optimizer\": optimizer,\n",
        "            \"lr_scheduler\": lr_scheduler,\n",
        "        }\n",
        "\n",
        "    def load_model(self):\n",
        "        model_name = self.hparams.model_name\n",
        "        if model_name == \"KAN\":\n",
        "          self.model = self.instancialize(KAN)\n",
        "        else:\n",
        "          Model = getattr(importlib.import_module('.' + model_name, package='easytsf.model'), model_name)\n",
        "          self.model = self.instancialize(Model)\n",
        "\n",
        "    def instancialize(self, Model):\n",
        "        \"\"\" Instancialize a model using the corresponding parameters\n",
        "            from self.hparams dictionary. You can also input any args\n",
        "            to overwrite the corresponding value in self.hparams.\n",
        "        \"\"\"\n",
        "        model_class_args = inspect.getfullargspec(Model.__init__).args[1:]  # 获取模型参数\n",
        "        interface_args = self.hparams.keys()\n",
        "        model_args_instance = {}\n",
        "        for arg in model_class_args:\n",
        "            if arg in interface_args:\n",
        "                model_args_instance[arg] = getattr(self.hparams, arg)\n",
        "        return Model(**model_args_instance)\n",
        "\n",
        "    def inverse_transform_var(self, data):\n",
        "        return (data * self.std) + self.mean\n",
        "\n",
        "    def inverse_transform_time_marker(self, time_marker):\n",
        "        time_marker[..., 0] = time_marker[..., 0] * (int((24 * 60) / self.hparams.freq - 1))\n",
        "        time_marker[..., 1] = time_marker[..., 1] * 6\n",
        "        time_marker[..., 2] = time_marker[..., 2] * 30\n",
        "        time_marker[..., 3] = time_marker[..., 3] * 365\n",
        "\n",
        "        if \"max_event_per_day\" in self.hparams:\n",
        "            time_marker[..., -1] = time_marker[..., -1] * self.hparams.max_event_per_day\n",
        "\n",
        "        return time_marker\n",
        "\n",
        "\n",
        "from lightning.pytorch.callbacks import LearningRateMonitor, ModelCheckpoint, EarlyStopping\n",
        "\n",
        "\n",
        "callbacks = [\n",
        "        ModelCheckpoint(\n",
        "            monitor=exp_conf[\"val_metric\"],\n",
        "            mode=\"min\",\n",
        "            save_top_k=1,\n",
        "            save_last=False,\n",
        "            every_n_epochs=1,\n",
        "        ),\n",
        "        EarlyStopping(\n",
        "            monitor=exp_conf[\"val_metric\"],\n",
        "            mode='min',\n",
        "            patience=exp_conf[\"es_patience\"],\n",
        "        ),\n",
        "        LearningRateMonitor(logging_interval=\"epoch\")\n",
        "    ]\n",
        "\n",
        "trainer = L.Trainer(\n",
        "        devices=exp_conf[\"devices\"],\n",
        "        precision=exp_conf[\"precision\"] if \"precision\" in exp_conf else \"32-true\",\n",
        "        callbacks=callbacks,\n",
        "        max_epochs=exp_conf[\"max_epochs\"],\n",
        "        gradient_clip_algorithm=exp_conf[\"gradient_clip_algorithm\"] if \"gradient_clip_algorithm\" in exp_conf else \"norm\",\n",
        "        gradient_clip_val=exp_conf[\"gradient_clip_val\"],\n",
        "        default_root_dir=exp_conf[\"save_root\"],\n",
        "        deterministic=True,\n",
        "    )\n",
        "\n",
        "model = LTSFRunner(**exp_conf)"
      ],
      "metadata": {
        "id": "Rm3ttIRnOGew",
        "outputId": "a5b8005b-946b-4521-e08d-c6afab8585df",
        "colab": {
          "base_uri": "https://localhost:8080/"
        }
      },
      "execution_count": null,
      "outputs": [
        {
          "output_type": "stream",
          "name": "stderr",
          "text": [
            "INFO: GPU available: False, used: False\n",
            "INFO:lightning.pytorch.utilities.rank_zero:GPU available: False, used: False\n",
            "INFO: TPU available: False, using: 0 TPU cores\n",
            "INFO:lightning.pytorch.utilities.rank_zero:TPU available: False, using: 0 TPU cores\n",
            "INFO: HPU available: False, using: 0 HPUs\n",
            "INFO:lightning.pytorch.utilities.rank_zero:HPU available: False, using: 0 HPUs\n"
          ]
        },
        {
          "output_type": "stream",
          "name": "stdout",
          "text": [
            "checkpoint directory created: ./model\n",
            "saving model version 0.0\n"
          ]
        }
      ]
    },
    {
      "cell_type": "code",
      "source": [
        "# trainer.fit(model=model, datamodule=data_module)\n",
        "model.model(var_x)[:, -48:]"
      ],
      "metadata": {
        "id": "w7UewOAAQXV4",
        "outputId": "9f09fd9c-2bb7-415d-b98f-d22314ee3e6c",
        "colab": {
          "base_uri": "https://localhost:8080/"
        }
      },
      "execution_count": null,
      "outputs": [
        {
          "output_type": "execute_result",
          "data": {
            "text/plain": [
              "tensor([[ 0.0474, -0.0729,  0.0451,  ..., -0.0263, -0.0295,  0.0290],\n",
              "        [ 0.0439, -0.0752,  0.0250,  ..., -0.0383, -0.0275,  0.0007],\n",
              "        [ 0.0475, -0.0649,  0.0261,  ..., -0.0118, -0.0014,  0.0234],\n",
              "        ...,\n",
              "        [ 0.0388, -0.0703,  0.0727,  ..., -0.0029, -0.0036,  0.0415],\n",
              "        [ 0.0450, -0.0874,  0.0822,  ...,  0.0106, -0.0190,  0.0359],\n",
              "        [ 0.0598, -0.0825,  0.0725,  ..., -0.0047, -0.0115,  0.0508]],\n",
              "       grad_fn=<SliceBackward0>)"
            ]
          },
          "metadata": {},
          "execution_count": 124
        }
      ]
    },
    {
      "cell_type": "code",
      "source": [],
      "metadata": {
        "id": "tKci0b3aOGnu"
      },
      "execution_count": null,
      "outputs": []
    },
    {
      "cell_type": "markdown",
      "source": [
        "input"
      ],
      "metadata": {
        "id": "004Hmxm6QPtt"
      }
    },
    {
      "cell_type": "code",
      "source": [
        "from kan import KAN\n",
        "import numpy as np\n",
        "import torch\n",
        "import torch.nn as nn\n",
        "\n",
        "x = torch.tensor([[0.,1.],[2.,3.],[4.,5.]])\n",
        "print('input_data:', x.shape)\n",
        "output_size = 1\n",
        "linear_layer = nn.Linear(in_features=2,\n",
        "                         out_features=2,\n",
        "                         bias = True,\n",
        "                         dtype= torch.float)\n",
        "\n",
        "y = linear_layer(x)\n",
        "\n",
        "#print the outputs\n",
        "print('output:',y)\n",
        "\n",
        "#print the outputs shape\n",
        "print('output Shape:', y.shape)\n",
        "\n",
        "# x = x.reshape((1, x.shape[0] * x.shape[1]))\n",
        "print('input_data:', x.shape, x)\n",
        "\n",
        "# model = KAN(width=[[3, 2],10,[3, 2]], grid=3, k=3, seed=1)\n",
        "model = KAN(width=[ 2, 10, 2], grid=3, k=3, seed=1)\n",
        "\n",
        "y = model(x)\n",
        "\n",
        "#print the outputs\n",
        "print('output:',y)\n",
        "\n",
        "#print the outputs shape\n",
        "print('output Shape:', y.shape)"
      ],
      "metadata": {
        "colab": {
          "base_uri": "https://localhost:8080/"
        },
        "id": "Q6nfshsIlky-",
        "outputId": "5475c9de-29cf-41bd-84ba-14748da1a857"
      },
      "execution_count": null,
      "outputs": [
        {
          "output_type": "stream",
          "name": "stdout",
          "text": [
            "input_data: torch.Size([3, 2])\n",
            "output: tensor([[-0.0969, -0.2532],\n",
            "        [-0.8001,  0.4056],\n",
            "        [-1.5033,  1.0644]], grad_fn=<AddmmBackward0>)\n",
            "output Shape: torch.Size([3, 2])\n",
            "input_data: torch.Size([3, 2]) tensor([[0., 1.],\n",
            "        [2., 3.],\n",
            "        [4., 5.]])\n",
            "checkpoint directory created: ./model\n",
            "saving model version 0.0\n",
            "output: tensor([[-0.0297,  0.0175],\n",
            "        [ 0.2145, -0.1081],\n",
            "        [ 0.5421, -0.4818]], grad_fn=<AddBackward0>)\n",
            "output Shape: torch.Size([3, 2])\n"
          ]
        }
      ]
    },
    {
      "cell_type": "code",
      "source": [
        "import torch\n",
        "import numpy as np\n",
        "\n",
        "##create a dataset\n",
        "def create_dataset(f, n_var=2, n_samples=1000, split_ratio=0.8):\n",
        "\n",
        "    # Generate random input data\n",
        "    X = torch.rand(n_samples, n_var)\n",
        "\n",
        "    # Compute the target values\n",
        "    y = f(X)\n",
        "\n",
        "    # Split into training and test sets\n",
        "    split_idx = int(n_samples * split_ratio)\n",
        "    train_input, test_input = X[:split_idx], X[split_idx:]\n",
        "    train_label, test_label = y[:split_idx], y[split_idx:]\n",
        "\n",
        "    return {\n",
        "        'train_input': train_input,\n",
        "        'train_label': train_label,\n",
        "        'test_input': test_input,\n",
        "        'test_label': test_label\n",
        "    }\n",
        "\n",
        "# Define the new function f(x, y) = exp(cos(pi*x) + y^2)\n",
        "f = lambda x: torch.exp(torch.cos(torch.pi*x[:, [0]]) + x[:, [1]]**2)\n",
        "\n",
        "dataset = create_dataset(f, n_var=2)\n",
        "\n",
        "print(dataset['train_input'].shape, dataset['train_label'].shape)\n",
        "##output: torch.Size([800, 2]) torch.Size([800, 1])\n",
        "\n",
        "\n",
        "from kan import *\n",
        "# create a KAN: 2D inputs, 1D output, and 5 hidden neurons.\n",
        "# cubic spline (k=3), 5 grid intervals (grid=5).\n",
        "model = KAN(width=[2,5,1], grid=5, k=3, seed=0)\n",
        "\n",
        "# plot KAN at initialization\n",
        "model(dataset['train_input']);\n",
        "model.plot(beta=100)"
      ],
      "metadata": {
        "id": "KiPRhGzgl_8O",
        "colab": {
          "base_uri": "https://localhost:8080/",
          "height": 397
        },
        "outputId": "fec48dbc-2ee9-4c28-a51a-1f24b4ab701b"
      },
      "execution_count": null,
      "outputs": [
        {
          "output_type": "stream",
          "name": "stdout",
          "text": [
            "torch.Size([800, 2]) torch.Size([800, 1])\n",
            "checkpoint directory created: ./model\n",
            "saving model version 0.0\n"
          ]
        },
        {
          "output_type": "display_data",
          "data": {
            "text/plain": [
              "<Figure size 500x400 with 22 Axes>"
            ],
            "image/png": "[encoded data removed]"
          },
          "metadata": {}
        }
      ]
    },
    {
      "cell_type": "code",
      "source": [
        "## train the model\n",
        "\n",
        "model.fit(dataset, opt=\"LBFGS\", steps=20, lamb=0.01, lamb_entropy=10.)\n",
        "## output: train loss: 7.23e-02 | test loss: 8.59e-02\n",
        "## output: | reg: 3.16e+01 : 100%|██| 20/20 [00:11<00:00,  1.69it/s]\n",
        "\n",
        "model.plot()"
      ],
      "metadata": {
        "colab": {
          "base_uri": "https://localhost:8080/",
          "height": 380
        },
        "id": "v3QwaFlkYpSZ",
        "outputId": "fc2e9d6e-5141-456b-d2b0-b7cbc1b67c5d"
      },
      "execution_count": null,
      "outputs": [
        {
          "output_type": "stream",
          "name": "stderr",
          "text": [
            "| train_loss: 4.62e-02 | test_loss: 5.01e-02 | reg: 2.22e+01 | : 100%|█| 20/20 [00:07<00:00,  2.54it\n"
          ]
        },
        {
          "output_type": "stream",
          "name": "stdout",
          "text": [
            "saving model version 0.1\n"
          ]
        },
        {
          "output_type": "display_data",
          "data": {
            "text/plain": [
              "<Figure size 500x400 with 22 Axes>"
            ],
            "image/png": "[encoded data removed]"
          },
          "metadata": {}
        }
      ]
    },
    {
      "cell_type": "code",
      "source": [
        "from kan.spline import B_batch\n",
        "import torch\n",
        "import matplotlib.pyplot as plt\n",
        "import numpy as np\n",
        "from kan.spline import extend_grid\n",
        "\n",
        "# consider a 1D example.\n",
        "# Suppose we have grid in [-1,1] with G intervals, spline order k\n",
        "G = 5\n",
        "k = 3\n",
        "grid = torch.linspace(-1,1,steps=G+1)[None,:]\n",
        "print(grid)\n",
        "\n",
        "grid = extend_grid(grid, k_extend=k)\n",
        "print(grid)\n",
        "\n",
        "# and we have sample range in [-1,1]\n",
        "x = torch.linspace(-1,1,steps=1001)[None,:]\n",
        "print(x.shape)\n",
        "\n",
        "basis = B_batch(x, grid, k=k)\n",
        "print(basis.shape)\n",
        "\n",
        "for i in range(G+k):\n",
        "    plt.plot(x[0].detach().numpy(), basis[0,:,i].detach().numpy())\n",
        "\n",
        "plt.legend(['B_{}(x)'.format(i) for i in np.arange(G+k)])\n",
        "plt.xlabel('x')\n",
        "plt.ylabel('B_i(x)')"
      ],
      "metadata": {
        "colab": {
          "base_uri": "https://localhost:8080/",
          "height": 553
        },
        "id": "_YhcUmtiYyk4",
        "outputId": "df99a32e-f094-4a7e-9c57-fdbd466467ba"
      },
      "execution_count": null,
      "outputs": [
        {
          "output_type": "stream",
          "name": "stdout",
          "text": [
            "tensor([[-1.0000, -0.6000, -0.2000,  0.2000,  0.6000,  1.0000]])\n",
            "tensor([[-2.2000, -1.8000, -1.4000, -1.0000, -0.6000, -0.2000,  0.2000,  0.6000,\n",
            "          1.0000,  1.4000,  1.8000,  2.2000]])\n",
            "torch.Size([1, 1001])\n",
            "torch.Size([1, 1001, 8])\n"
          ]
        },
        {
          "output_type": "execute_result",
          "data": {
            "text/plain": [
              "Text(0, 0.5, 'B_i(x)')"
            ]
          },
          "metadata": {},
          "execution_count": 32
        },
        {
          "output_type": "display_data",
          "data": {
            "text/plain": [
              "<Figure size 640x480 with 1 Axes>"
            ],
            "image/png": "[encoded data removed]"
          },
          "metadata": {}
        }
      ]
    },
    {
      "cell_type": "code",
      "source": [
        "from kan import KAN\n",
        "\n",
        "model = KAN(width=[1,1], grid=G, k=k)\n",
        "# obtain coefficients c_i\n",
        "print(model.act_fun[0].coef[0].shape)\n",
        "assert(model.act_fun[0].coef[0].shape[1] == G+k)\n",
        "\n",
        "# the model forward\n",
        "print(x[0][:,None])\n",
        "model_output = model(x[0][:,None])\n",
        "\n",
        "# spline output\n",
        "spline_output = torch.einsum('j,ij->i',model.act_fun[0].coef[0][0], basis[0])[:,None]\n",
        "\n",
        "torch.mean((model_output - spline_output)**2)"
      ],
      "metadata": {
        "colab": {
          "base_uri": "https://localhost:8080/"
        },
        "id": "ibQBSnhWnB3N",
        "outputId": "088c3505-698d-474c-adf3-c54fdf93be63"
      },
      "execution_count": null,
      "outputs": [
        {
          "output_type": "stream",
          "name": "stdout",
          "text": [
            "checkpoint directory created: ./model\n",
            "saving model version 0.0\n",
            "torch.Size([1, 8])\n",
            "tensor([[-1.0000],\n",
            "        [-0.9980],\n",
            "        [-0.9960],\n",
            "        ...,\n",
            "        [ 0.9960],\n",
            "        [ 0.9980],\n",
            "        [ 1.0000]])\n"
          ]
        },
        {
          "output_type": "execute_result",
          "data": {
            "text/plain": [
              "tensor(0.0040, grad_fn=<MeanBackward0>)"
            ]
          },
          "metadata": {},
          "execution_count": 40
        }
      ]
    },
    {
      "cell_type": "code",
      "source": [
        "model = KAN(width=[1,1], grid=G, k=k)\n",
        "print(model.act_fun[0].grid) # by default, the grid is in [-1,1]\n",
        "x = torch.linspace(-10,10,steps = 1001)[:,None]\n",
        "model.update_grid_from_samples(x)\n",
        "print(model.act_fun[0].grid) # now the grid becomes in [-10,10]. We add a 0.01 margin in case x have zero variance"
      ],
      "metadata": {
        "colab": {
          "base_uri": "https://localhost:8080/"
        },
        "id": "TdQH0uQ_qS9H",
        "outputId": "3ac74da4-d2e4-4b4d-a25b-3fb296d94d51"
      },
      "execution_count": null,
      "outputs": [
        {
          "output_type": "stream",
          "name": "stdout",
          "text": [
            "checkpoint directory created: ./model\n",
            "saving model version 0.0\n",
            "Parameter containing:\n",
            "tensor([[-2.2000, -1.8000, -1.4000, -1.0000, -0.6000, -0.2000,  0.2000,  0.6000,\n",
            "          1.0000,  1.4000,  1.8000,  2.2000]])\n",
            "Parameter containing:\n",
            "tensor([[-22.0000, -18.0000, -14.0000, -10.0000,  -6.0000,  -2.0000,   2.0000,\n",
            "           6.0000,  10.0000,  14.0000,  18.0000,  22.0000]])\n"
          ]
        }
      ]
    },
    {
      "cell_type": "code",
      "source": [
        "# uniform grid\n",
        "model = KAN(width=[1,1], grid=G, k=k)\n",
        "print(model.act_fun[0].grid) # by default, the grid is in [-1,1]\n",
        "x = torch.normal(0,1,size=(1000,1))\n",
        "model.update_grid_from_samples(x)\n",
        "print(model.act_fun[0].grid) # now the grid becomes in [-10,10]. We add a 0.01 margin in case x have zero variance"
      ],
      "metadata": {
        "colab": {
          "base_uri": "https://localhost:8080/"
        },
        "id": "BrB74AoAuogQ",
        "outputId": "af16c740-0fcc-4f1c-be22-db62ec5a2828"
      },
      "execution_count": null,
      "outputs": [
        {
          "output_type": "stream",
          "name": "stdout",
          "text": [
            "checkpoint directory created: ./model\n",
            "saving model version 0.0\n",
            "Parameter containing:\n",
            "tensor([[-2.2000, -1.8000, -1.4000, -1.0000, -0.6000, -0.2000,  0.2000,  0.6000,\n",
            "          1.0000,  1.4000,  1.8000,  2.2000]])\n",
            "Parameter containing:\n",
            "tensor([[-7.4371, -6.0845, -4.7319, -3.3793, -0.8574, -0.2884,  0.2832,  0.8376,\n",
            "          3.3837,  4.7363,  6.0889,  7.4415]])\n"
          ]
        }
      ]
    },
    {
      "cell_type": "code",
      "source": [
        "# adaptive grid based on sample distribution\n",
        "model = KAN(width=[1,1], grid=G, k=k, grid_eps = 0.)\n",
        "print(model.act_fun[0].grid) # by default, the grid is in [-1,1]\n",
        "x = torch.normal(0,1,size=(1000,1))\n",
        "model.update_grid_from_samples(x)\n",
        "print(model.act_fun[0].grid) # now the grid becomes in [-10,10]. We add a 0.01 margin in case x have zero variance"
      ],
      "metadata": {
        "colab": {
          "base_uri": "https://localhost:8080/"
        },
        "id": "97ACg89Cuk6p",
        "outputId": "2bb4b47a-6f46-4b30-cfc9-cec20d573ca8"
      },
      "execution_count": null,
      "outputs": [
        {
          "output_type": "stream",
          "name": "stdout",
          "text": [
            "checkpoint directory created: ./model\n",
            "saving model version 0.0\n",
            "Parameter containing:\n",
            "tensor([[-2.2000, -1.8000, -1.4000, -1.0000, -0.6000, -0.2000,  0.2000,  0.6000,\n",
            "          1.0000,  1.4000,  1.8000,  2.2000]])\n",
            "Parameter containing:\n",
            "tensor([[-7.4371, -6.0845, -4.7319, -3.3793, -0.8336, -0.2805,  0.2751,  0.8132,\n",
            "          3.3837,  4.7363,  6.0889,  7.4415]])\n"
          ]
        }
      ]
    },
    {
      "cell_type": "code",
      "source": [
        "from kan import *\n",
        "import torch\n",
        "\n",
        "device = torch.device('cuda' if torch.cuda.is_available() else 'cpu')\n",
        "print(device)\n",
        "\n",
        "f = lambda x: torch.exp(torch.sin(torch.pi*x[:,[0]]) + x[:,[1]]**2)\n",
        "dataset = create_dataset(f, n_var=2, device=device)\n",
        "dataset['train_input'].shape, dataset['train_label'].shape"
      ],
      "metadata": {
        "colab": {
          "base_uri": "https://localhost:8080/"
        },
        "id": "X0LN18JnvWLs",
        "outputId": "3be89546-acf7-43c0-c280-3ad7c1502021"
      },
      "execution_count": null,
      "outputs": [
        {
          "output_type": "stream",
          "name": "stdout",
          "text": [
            "cpu\n"
          ]
        },
        {
          "output_type": "execute_result",
          "data": {
            "text/plain": [
              "(torch.Size([1000, 2]), torch.Size([1000, 1]))"
            ]
          },
          "metadata": {},
          "execution_count": 48
        }
      ]
    },
    {
      "cell_type": "code",
      "source": [
        "#train the model\n",
        "model = KAN(width=[2,5,1], grid=5, k=3, seed=1, device=device)\n",
        "model.fit(dataset, opt=\"LBFGS\", steps=20, lamb=0.01);\n",
        "model.plot()"
      ],
      "metadata": {
        "colab": {
          "base_uri": "https://localhost:8080/",
          "height": 414
        },
        "id": "_XGsEi_UviLl",
        "outputId": "a88e85b2-73a2-4533-8ef9-4aff3696e81d"
      },
      "execution_count": null,
      "outputs": [
        {
          "output_type": "stream",
          "name": "stdout",
          "text": [
            "checkpoint directory created: ./model\n",
            "saving model version 0.0\n"
          ]
        },
        {
          "output_type": "stream",
          "name": "stderr",
          "text": [
            "| train_loss: 4.32e-02 | test_loss: 4.33e-02 | reg: 1.02e+01 | : 100%|█| 20/20 [00:13<00:00,  1.45it\n"
          ]
        },
        {
          "output_type": "stream",
          "name": "stdout",
          "text": [
            "saving model version 0.1\n"
          ]
        },
        {
          "output_type": "display_data",
          "data": {
            "text/plain": [
              "<Figure size 500x400 with 22 Axes>"
            ],
            "image/png": "[encoded data removed]"
          },
          "metadata": {}
        }
      ]
    },
    {
      "cell_type": "code",
      "source": [
        "import torch\n",
        "from kan.spline import B_batch\n",
        "x = torch.rand(50,2)\n",
        "print(x.shape)\n",
        "print(x)\n",
        "grid = torch.linspace(-1,1,steps=11)[None, :].expand(2, 11)\n",
        "print(grid.shape)\n",
        "print(grid)\n",
        "B_batch(x, grid, k=3).shape"
      ],
      "metadata": {
        "colab": {
          "base_uri": "https://localhost:8080/"
        },
        "id": "uI_ku0iBl8k5",
        "outputId": "b744af79-cce3-40be-b2b9-fc4df608fcbc"
      },
      "execution_count": null,
      "outputs": [
        {
          "output_type": "stream",
          "name": "stdout",
          "text": [
            "torch.Size([50, 2])\n",
            "tensor([[0.5808, 0.1923],\n",
            "        [0.3386, 0.3942],\n",
            "        [0.6462, 0.1756],\n",
            "        [0.7409, 0.7752],\n",
            "        [0.9654, 0.5663],\n",
            "        [0.5352, 0.4100],\n",
            "        [0.0518, 0.3701],\n",
            "        [0.3875, 0.4171],\n",
            "        [0.4300, 0.2536],\n",
            "        [0.9581, 0.3947],\n",
            "        [0.0273, 0.4316],\n",
            "        [0.9381, 0.0925],\n",
            "        [0.5713, 0.7163],\n",
            "        [0.9954, 0.8154],\n",
            "        [0.7586, 0.7543],\n",
            "        [0.5294, 0.0497],\n",
            "        [0.4833, 0.0531],\n",
            "        [0.2687, 0.9959],\n",
            "        [0.3415, 0.4775],\n",
            "        [0.6957, 0.7065],\n",
            "        [0.8325, 0.0274],\n",
            "        [0.6489, 0.9802],\n",
            "        [0.9228, 0.3329],\n",
            "        [0.0107, 0.7670],\n",
            "        [0.5612, 0.7661],\n",
            "        [0.1031, 0.2413],\n",
            "        [0.9671, 0.3829],\n",
            "        [0.0302, 0.3749],\n",
            "        [0.7737, 0.0269],\n",
            "        [0.4564, 0.0150],\n",
            "        [0.1674, 0.6626],\n",
            "        [0.0069, 0.2471],\n",
            "        [0.9945, 0.1738],\n",
            "        [0.8913, 0.8188],\n",
            "        [0.1232, 0.0703],\n",
            "        [0.7549, 0.5972],\n",
            "        [0.0540, 0.0718],\n",
            "        [0.5882, 0.6743],\n",
            "        [0.2835, 0.8056],\n",
            "        [0.0706, 0.8641],\n",
            "        [0.5714, 0.6995],\n",
            "        [0.5272, 0.6473],\n",
            "        [0.4106, 0.2615],\n",
            "        [0.7878, 0.6137],\n",
            "        [0.7590, 0.9118],\n",
            "        [0.3664, 0.4402],\n",
            "        [0.1344, 0.1991],\n",
            "        [0.1936, 0.8021],\n",
            "        [0.1005, 0.1592],\n",
            "        [0.3790, 0.8674]])\n",
            "torch.Size([2, 11])\n",
            "tensor([[-1.0000e+00, -8.0000e-01, -6.0000e-01, -4.0000e-01, -2.0000e-01,\n",
            "         -1.4901e-08,  2.0000e-01,  4.0000e-01,  6.0000e-01,  8.0000e-01,\n",
            "          1.0000e+00],\n",
            "        [-1.0000e+00, -8.0000e-01, -6.0000e-01, -4.0000e-01, -2.0000e-01,\n",
            "         -1.4901e-08,  2.0000e-01,  4.0000e-01,  6.0000e-01,  8.0000e-01,\n",
            "          1.0000e+00]])\n"
          ]
        },
        {
          "output_type": "execute_result",
          "data": {
            "text/plain": [
              "torch.Size([50, 2, 7])"
            ]
          },
          "metadata": {},
          "execution_count": 22
        }
      ]
    },
    {
      "cell_type": "code",
      "source": [
        "from kan.KANLayer import *\n",
        "model = KANLayer(in_dim=3, out_dim=5)\n",
        "x = torch.normal(0,1,size=(15,3))\n",
        "y, preacts, postacts, postspline = model(x)\n",
        "y.shape, preacts.shape, postacts.shape, postspline.shape"
      ],
      "metadata": {
        "id": "yaQHXVZvY30J",
        "outputId": "34ca4c54-6595-4b39-f827-e09fb9970a82",
        "colab": {
          "base_uri": "https://localhost:8080/"
        }
      },
      "execution_count": null,
      "outputs": [
        {
          "output_type": "execute_result",
          "data": {
            "text/plain": [
              "(torch.Size([15, 5]),\n",
              " torch.Size([15, 5, 3]),\n",
              " torch.Size([15, 5, 3]),\n",
              " torch.Size([15, 5, 3]))"
            ]
          },
          "metadata": {},
          "execution_count": 23
        }
      ]
    },
    {
      "cell_type": "code",
      "source": [],
      "metadata": {
        "id": "RgWiutP_UxY2"
      },
      "execution_count": null,
      "outputs": []
    }
  ]
}