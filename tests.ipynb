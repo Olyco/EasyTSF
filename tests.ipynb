{
  "nbformat": 4,
  "nbformat_minor": 0,
  "metadata": {
    "colab": {
      "provenance": [],
      "authorship_tag": "ABX9TyPw+W5bhDqhDdnMlfYv9kG+"
    },
    "kernelspec": {
      "name": "python3",
      "display_name": "Python 3"
    },
    "language_info": {
      "name": "python"
    }
  },
  "cells": [
    {
      "cell_type": "code",
      "execution_count": 1,
      "metadata": {
        "id": "5etSk_ISBjrS",
        "colab": {
          "base_uri": "https://localhost:8080/"
        },
        "outputId": "d1f1eee8-908f-458e-9570-c9fe7324b9cf"
      },
      "outputs": [
        {
          "output_type": "stream",
          "name": "stdout",
          "text": [
            "Cloning into 'EasyTSF'...\n",
            "remote: Enumerating objects: 266, done.\u001b[K\n",
            "remote: Counting objects: 100% (266/266), done.\u001b[K\n",
            "remote: Compressing objects: 100% (177/177), done.\u001b[K\n",
            "remote: Total 266 (delta 131), reused 198 (delta 75), pack-reused 0 (from 0)\u001b[K\n",
            "Receiving objects: 100% (266/266), 1.52 MiB | 10.95 MiB/s, done.\n",
            "Resolving deltas: 100% (131/131), done.\n"
          ]
        }
      ],
      "source": [
        "!git clone https://github.com/Olyco/EasyTSF.git"
      ]
    },
    {
      "cell_type": "code",
      "source": [
        "!pip install -r \"EasyTSF/requirements.txt\""
      ],
      "metadata": {
        "colab": {
          "base_uri": "https://localhost:8080/"
        },
        "id": "OrquXFFdIvwu",
        "outputId": "217c8aeb-be43-4e53-b142-66a14ca050fc"
      },
      "execution_count": 1,
      "outputs": [
        {
          "output_type": "stream",
          "name": "stdout",
          "text": [
            "Requirement already satisfied: Brotli==1.0.9 in /usr/local/lib/python3.11/dist-packages (from -r EasyTSF/requirements.txt (line 1)) (1.0.9)\n",
            "Requirement already satisfied: certifi==2024.7.4 in /usr/local/lib/python3.11/dist-packages (from -r EasyTSF/requirements.txt (line 2)) (2024.7.4)\n",
            "Requirement already satisfied: charset-normalizer==3.3.2 in /usr/local/lib/python3.11/dist-packages (from -r EasyTSF/requirements.txt (line 3)) (3.3.2)\n",
            "Requirement already satisfied: colorama==0.4.6 in /usr/local/lib/python3.11/dist-packages (from -r EasyTSF/requirements.txt (line 4)) (0.4.6)\n",
            "Requirement already satisfied: filelock==3.13.1 in /usr/local/lib/python3.11/dist-packages (from -r EasyTSF/requirements.txt (line 5)) (3.13.1)\n",
            "Requirement already satisfied: fsspec==2024.6.1 in /usr/local/lib/python3.11/dist-packages (from -r EasyTSF/requirements.txt (line 6)) (2024.6.1)\n",
            "Requirement already satisfied: idna==3.7 in /usr/local/lib/python3.11/dist-packages (from -r EasyTSF/requirements.txt (line 7)) (3.7)\n",
            "Requirement already satisfied: Jinja2==3.1.4 in /usr/local/lib/python3.11/dist-packages (from -r EasyTSF/requirements.txt (line 8)) (3.1.4)\n",
            "Requirement already satisfied: lightning==2.4.0 in /usr/local/lib/python3.11/dist-packages (from -r EasyTSF/requirements.txt (line 9)) (2.4.0)\n",
            "Requirement already satisfied: lightning-utilities==0.11.6 in /usr/local/lib/python3.11/dist-packages (from -r EasyTSF/requirements.txt (line 10)) (0.11.6)\n",
            "Requirement already satisfied: MarkupSafe==2.1.3 in /usr/local/lib/python3.11/dist-packages (from -r EasyTSF/requirements.txt (line 11)) (2.1.3)\n",
            "Requirement already satisfied: mkl-fft==1.3.8 in /usr/local/lib/python3.11/dist-packages (from -r EasyTSF/requirements.txt (line 12)) (1.3.8)\n",
            "Requirement already satisfied: mkl-random==1.2.4 in /usr/local/lib/python3.11/dist-packages (from -r EasyTSF/requirements.txt (line 13)) (1.2.4)\n",
            "Requirement already satisfied: mkl-service==2.4.1 in /usr/local/lib/python3.11/dist-packages (from -r EasyTSF/requirements.txt (line 14)) (2.4.1)\n",
            "Requirement already satisfied: mpmath==1.3.0 in /usr/local/lib/python3.11/dist-packages (from -r EasyTSF/requirements.txt (line 15)) (1.3.0)\n",
            "Requirement already satisfied: networkx==3.3 in /usr/local/lib/python3.11/dist-packages (from -r EasyTSF/requirements.txt (line 16)) (3.3)\n",
            "Requirement already satisfied: numpy==1.26.4 in /usr/local/lib/python3.11/dist-packages (from -r EasyTSF/requirements.txt (line 17)) (1.26.4)\n",
            "Requirement already satisfied: packaging==24.1 in /usr/local/lib/python3.11/dist-packages (from -r EasyTSF/requirements.txt (line 18)) (24.1)\n",
            "Requirement already satisfied: pillow==10.4.0 in /usr/local/lib/python3.11/dist-packages (from -r EasyTSF/requirements.txt (line 19)) (10.4.0)\n",
            "Requirement already satisfied: pip==24.2 in /usr/local/lib/python3.11/dist-packages (from -r EasyTSF/requirements.txt (line 20)) (24.2)\n",
            "Requirement already satisfied: PySocks==1.7.1 in /usr/local/lib/python3.11/dist-packages (from -r EasyTSF/requirements.txt (line 21)) (1.7.1)\n",
            "Requirement already satisfied: pytorch-lightning==2.4.0 in /usr/local/lib/python3.11/dist-packages (from -r EasyTSF/requirements.txt (line 22)) (2.4.0)\n",
            "Requirement already satisfied: PyYAML==6.0.1 in /usr/local/lib/python3.11/dist-packages (from -r EasyTSF/requirements.txt (line 23)) (6.0.1)\n",
            "Requirement already satisfied: requests==2.32.3 in /usr/local/lib/python3.11/dist-packages (from -r EasyTSF/requirements.txt (line 24)) (2.32.3)\n",
            "Requirement already satisfied: setuptools==72.1.0 in /usr/local/lib/python3.11/dist-packages (from -r EasyTSF/requirements.txt (line 25)) (72.1.0)\n",
            "Requirement already satisfied: sympy==1.12 in /usr/local/lib/python3.11/dist-packages (from -r EasyTSF/requirements.txt (line 26)) (1.12)\n",
            "Requirement already satisfied: torch==2.4.0 in /usr/local/lib/python3.11/dist-packages (from -r EasyTSF/requirements.txt (line 27)) (2.4.0)\n",
            "Requirement already satisfied: torchaudio==2.4.0 in /usr/local/lib/python3.11/dist-packages (from -r EasyTSF/requirements.txt (line 28)) (2.4.0)\n",
            "Requirement already satisfied: torchmetrics==1.4.0.post0 in /usr/local/lib/python3.11/dist-packages (from -r EasyTSF/requirements.txt (line 29)) (1.4.0.post0)\n",
            "Requirement already satisfied: torchvision==0.19.0 in /usr/local/lib/python3.11/dist-packages (from -r EasyTSF/requirements.txt (line 30)) (0.19.0)\n",
            "Requirement already satisfied: tqdm==4.66.5 in /usr/local/lib/python3.11/dist-packages (from -r EasyTSF/requirements.txt (line 31)) (4.66.5)\n",
            "Requirement already satisfied: triton==3.0.0 in /usr/local/lib/python3.11/dist-packages (from -r EasyTSF/requirements.txt (line 32)) (3.0.0)\n",
            "Requirement already satisfied: typing_extensions==4.11.0 in /usr/local/lib/python3.11/dist-packages (from -r EasyTSF/requirements.txt (line 33)) (4.11.0)\n",
            "Requirement already satisfied: urllib3==2.2.2 in /usr/local/lib/python3.11/dist-packages (from -r EasyTSF/requirements.txt (line 34)) (2.2.2)\n",
            "Requirement already satisfied: wheel==0.43.0 in /usr/local/lib/python3.11/dist-packages (from -r EasyTSF/requirements.txt (line 35)) (0.43.0)\n",
            "Requirement already satisfied: mkl in /usr/local/lib/python3.11/dist-packages (from mkl-fft==1.3.8->-r EasyTSF/requirements.txt (line 12)) (2025.0.1)\n",
            "Requirement already satisfied: nvidia-cuda-nvrtc-cu12==12.1.105 in /usr/local/lib/python3.11/dist-packages (from torch==2.4.0->-r EasyTSF/requirements.txt (line 27)) (12.1.105)\n",
            "Requirement already satisfied: nvidia-cuda-runtime-cu12==12.1.105 in /usr/local/lib/python3.11/dist-packages (from torch==2.4.0->-r EasyTSF/requirements.txt (line 27)) (12.1.105)\n",
            "Requirement already satisfied: nvidia-cuda-cupti-cu12==12.1.105 in /usr/local/lib/python3.11/dist-packages (from torch==2.4.0->-r EasyTSF/requirements.txt (line 27)) (12.1.105)\n",
            "Requirement already satisfied: nvidia-cudnn-cu12==9.1.0.70 in /usr/local/lib/python3.11/dist-packages (from torch==2.4.0->-r EasyTSF/requirements.txt (line 27)) (9.1.0.70)\n",
            "Requirement already satisfied: nvidia-cublas-cu12==12.1.3.1 in /usr/local/lib/python3.11/dist-packages (from torch==2.4.0->-r EasyTSF/requirements.txt (line 27)) (12.1.3.1)\n",
            "Requirement already satisfied: nvidia-cufft-cu12==11.0.2.54 in /usr/local/lib/python3.11/dist-packages (from torch==2.4.0->-r EasyTSF/requirements.txt (line 27)) (11.0.2.54)\n",
            "Requirement already satisfied: nvidia-curand-cu12==10.3.2.106 in /usr/local/lib/python3.11/dist-packages (from torch==2.4.0->-r EasyTSF/requirements.txt (line 27)) (10.3.2.106)\n",
            "Requirement already satisfied: nvidia-cusolver-cu12==11.4.5.107 in /usr/local/lib/python3.11/dist-packages (from torch==2.4.0->-r EasyTSF/requirements.txt (line 27)) (11.4.5.107)\n",
            "Requirement already satisfied: nvidia-cusparse-cu12==12.1.0.106 in /usr/local/lib/python3.11/dist-packages (from torch==2.4.0->-r EasyTSF/requirements.txt (line 27)) (12.1.0.106)\n",
            "Requirement already satisfied: nvidia-nccl-cu12==2.20.5 in /usr/local/lib/python3.11/dist-packages (from torch==2.4.0->-r EasyTSF/requirements.txt (line 27)) (2.20.5)\n",
            "Requirement already satisfied: nvidia-nvtx-cu12==12.1.105 in /usr/local/lib/python3.11/dist-packages (from torch==2.4.0->-r EasyTSF/requirements.txt (line 27)) (12.1.105)\n",
            "Requirement already satisfied: nvidia-nvjitlink-cu12 in /usr/local/lib/python3.11/dist-packages (from nvidia-cusolver-cu12==11.4.5.107->torch==2.4.0->-r EasyTSF/requirements.txt (line 27)) (12.5.82)\n",
            "Requirement already satisfied: aiohttp!=4.0.0a0,!=4.0.0a1 in /usr/local/lib/python3.11/dist-packages (from fsspec[http]<2026.0,>=2022.5.0->lightning==2.4.0->-r EasyTSF/requirements.txt (line 9)) (3.11.15)\n",
            "Requirement already satisfied: intel-openmp>=2024 in /usr/local/lib/python3.11/dist-packages (from mkl->mkl-fft==1.3.8->-r EasyTSF/requirements.txt (line 12)) (2025.1.1)\n",
            "Requirement already satisfied: tbb==2022.* in /usr/local/lib/python3.11/dist-packages (from mkl->mkl-fft==1.3.8->-r EasyTSF/requirements.txt (line 12)) (2022.1.0)\n",
            "Requirement already satisfied: tcmlib==1.* in /usr/local/lib/python3.11/dist-packages (from tbb==2022.*->mkl->mkl-fft==1.3.8->-r EasyTSF/requirements.txt (line 12)) (1.3.0)\n",
            "Requirement already satisfied: aiohappyeyeballs>=2.3.0 in /usr/local/lib/python3.11/dist-packages (from aiohttp!=4.0.0a0,!=4.0.0a1->fsspec[http]<2026.0,>=2022.5.0->lightning==2.4.0->-r EasyTSF/requirements.txt (line 9)) (2.6.1)\n",
            "Requirement already satisfied: aiosignal>=1.1.2 in /usr/local/lib/python3.11/dist-packages (from aiohttp!=4.0.0a0,!=4.0.0a1->fsspec[http]<2026.0,>=2022.5.0->lightning==2.4.0->-r EasyTSF/requirements.txt (line 9)) (1.3.2)\n",
            "Requirement already satisfied: attrs>=17.3.0 in /usr/local/lib/python3.11/dist-packages (from aiohttp!=4.0.0a0,!=4.0.0a1->fsspec[http]<2026.0,>=2022.5.0->lightning==2.4.0->-r EasyTSF/requirements.txt (line 9)) (25.3.0)\n",
            "Requirement already satisfied: frozenlist>=1.1.1 in /usr/local/lib/python3.11/dist-packages (from aiohttp!=4.0.0a0,!=4.0.0a1->fsspec[http]<2026.0,>=2022.5.0->lightning==2.4.0->-r EasyTSF/requirements.txt (line 9)) (1.6.0)\n",
            "Requirement already satisfied: multidict<7.0,>=4.5 in /usr/local/lib/python3.11/dist-packages (from aiohttp!=4.0.0a0,!=4.0.0a1->fsspec[http]<2026.0,>=2022.5.0->lightning==2.4.0->-r EasyTSF/requirements.txt (line 9)) (6.4.3)\n",
            "Requirement already satisfied: propcache>=0.2.0 in /usr/local/lib/python3.11/dist-packages (from aiohttp!=4.0.0a0,!=4.0.0a1->fsspec[http]<2026.0,>=2022.5.0->lightning==2.4.0->-r EasyTSF/requirements.txt (line 9)) (0.3.1)\n",
            "Requirement already satisfied: yarl<2.0,>=1.17.0 in /usr/local/lib/python3.11/dist-packages (from aiohttp!=4.0.0a0,!=4.0.0a1->fsspec[http]<2026.0,>=2022.5.0->lightning==2.4.0->-r EasyTSF/requirements.txt (line 9)) (1.20.0)\n",
            "Requirement already satisfied: intel-cmplr-lib-ur==2025.1.1 in /usr/local/lib/python3.11/dist-packages (from intel-openmp>=2024->mkl->mkl-fft==1.3.8->-r EasyTSF/requirements.txt (line 12)) (2025.1.1)\n",
            "Requirement already satisfied: umf==0.10.* in /usr/local/lib/python3.11/dist-packages (from intel-cmplr-lib-ur==2025.1.1->intel-openmp>=2024->mkl->mkl-fft==1.3.8->-r EasyTSF/requirements.txt (line 12)) (0.10.0)\n"
          ]
        }
      ]
    },
    {
      "cell_type": "code",
      "source": [
        "!pip install ray"
      ],
      "metadata": {
        "id": "SLr7p3_upOHZ",
        "outputId": "c477a3f7-84c6-4e40-d4ef-47dec662f055",
        "colab": {
          "base_uri": "https://localhost:8080/"
        }
      },
      "execution_count": null,
      "outputs": [
        {
          "output_type": "stream",
          "name": "stdout",
          "text": [
            "Collecting ray\n",
            "  Downloading ray-2.45.0-cp311-cp311-manylinux2014_x86_64.whl.metadata (19 kB)\n",
            "Requirement already satisfied: click>=7.0 in /usr/local/lib/python3.11/dist-packages (from ray) (8.1.8)\n",
            "Requirement already satisfied: filelock in /usr/local/lib/python3.11/dist-packages (from ray) (3.13.1)\n",
            "Requirement already satisfied: jsonschema in /usr/local/lib/python3.11/dist-packages (from ray) (4.23.0)\n",
            "Requirement already satisfied: msgpack<2.0.0,>=1.0.0 in /usr/local/lib/python3.11/dist-packages (from ray) (1.1.0)\n",
            "Requirement already satisfied: packaging in /usr/local/lib/python3.11/dist-packages (from ray) (24.1)\n",
            "Requirement already satisfied: protobuf!=3.19.5,>=3.15.3 in /usr/local/lib/python3.11/dist-packages (from ray) (5.29.4)\n",
            "Requirement already satisfied: pyyaml in /usr/local/lib/python3.11/dist-packages (from ray) (6.0.1)\n",
            "Requirement already satisfied: requests in /usr/local/lib/python3.11/dist-packages (from ray) (2.32.3)\n",
            "Requirement already satisfied: attrs>=22.2.0 in /usr/local/lib/python3.11/dist-packages (from jsonschema->ray) (25.3.0)\n",
            "Requirement already satisfied: jsonschema-specifications>=2023.03.6 in /usr/local/lib/python3.11/dist-packages (from jsonschema->ray) (2025.4.1)\n",
            "Requirement already satisfied: referencing>=0.28.4 in /usr/local/lib/python3.11/dist-packages (from jsonschema->ray) (0.36.2)\n",
            "Requirement already satisfied: rpds-py>=0.7.1 in /usr/local/lib/python3.11/dist-packages (from jsonschema->ray) (0.24.0)\n",
            "Requirement already satisfied: charset-normalizer<4,>=2 in /usr/local/lib/python3.11/dist-packages (from requests->ray) (3.3.2)\n",
            "Requirement already satisfied: idna<4,>=2.5 in /usr/local/lib/python3.11/dist-packages (from requests->ray) (3.7)\n",
            "Requirement already satisfied: urllib3<3,>=1.21.1 in /usr/local/lib/python3.11/dist-packages (from requests->ray) (2.2.2)\n",
            "Requirement already satisfied: certifi>=2017.4.17 in /usr/local/lib/python3.11/dist-packages (from requests->ray) (2024.7.4)\n",
            "Requirement already satisfied: typing-extensions>=4.4.0 in /usr/local/lib/python3.11/dist-packages (from referencing>=0.28.4->jsonschema->ray) (4.11.0)\n",
            "Downloading ray-2.45.0-cp311-cp311-manylinux2014_x86_64.whl (68.4 MB)\n",
            "\u001b[2K   \u001b[90m━━━━━━━━━━━━━━━━━━━━━━━━━━━━━━━━━━━━━━━━\u001b[0m \u001b[32m68.4/68.4 MB\u001b[0m \u001b[31m30.1 MB/s\u001b[0m eta \u001b[36m0:00:00\u001b[0m\n",
            "\u001b[?25hInstalling collected packages: ray\n",
            "Successfully installed ray-2.45.0\n"
          ]
        }
      ]
    },
    {
      "cell_type": "code",
      "source": [
        "# !python EasyTSF/train.py -c EasyTSF/config/reproduce_conf/RMoK/ETTh1_96for96.py"
      ],
      "metadata": {
        "colab": {
          "base_uri": "https://localhost:8080/"
        },
        "id": "-I7SASCpI77P",
        "outputId": "abf546ac-d1d4-4368-fc61-78fe8fc01a64"
      },
      "execution_count": null,
      "outputs": [
        {
          "output_type": "stream",
          "name": "stdout",
          "text": [
            "Seed set to 1\n",
            "GPU available: False, used: False\n",
            "TPU available: False, using: 0 TPU cores\n",
            "HPU available: False, using: 0 HPUs\n",
            "\n",
            "  | Name          | Type      | Params | Mode \n",
            "----------------------------------------------------\n",
            "0 | model         | DenseRMoK | 130 K  | train\n",
            "1 | loss_function | MSELoss   | 0      | train\n",
            "----------------------------------------------------\n",
            "130 K     Trainable params\n",
            "0         Non-trainable params\n",
            "130 K     Total params\n",
            "0.520     Total estimated model params size (MB)\n",
            "15        Modules in train mode\n",
            "0         Modules in eval mode\n",
            "Epoch 0: 100% 132/132 [02:33<00:00,  1.16s/it, v_num=ed_1, train/loss_step=0.404]\n",
            "Validation: |          | 0/? [00:00<?, ?it/s]\u001b[A\n",
            "Validation:   0% 0/44 [00:00<?, ?it/s]       \u001b[A\n",
            "Validation DataLoader 0:   0% 0/44 [00:00<?, ?it/s]\u001b[A\n",
            "Validation DataLoader 0:   2% 1/44 [00:00<00:13,  3.27it/s]\u001b[A\n",
            "Validation DataLoader 0:   5% 2/44 [00:00<00:10,  3.90it/s]\u001b[A\n",
            "Validation DataLoader 0:   7% 3/44 [00:00<00:09,  4.17it/s]\u001b[A\n",
            "Validation DataLoader 0:   9% 4/44 [00:00<00:09,  4.36it/s]\u001b[A\n",
            "Validation DataLoader 0:  11% 5/44 [00:01<00:08,  4.47it/s]\u001b[A\n",
            "Validation DataLoader 0:  14% 6/44 [00:01<00:08,  4.57it/s]\u001b[A\n",
            "Validation DataLoader 0:  16% 7/44 [00:01<00:07,  4.65it/s]\u001b[A\n",
            "Validation DataLoader 0:  18% 8/44 [00:01<00:07,  4.71it/s]\u001b[A\n",
            "Validation DataLoader 0:  20% 9/44 [00:01<00:07,  4.72it/s]\u001b[A\n",
            "Validation DataLoader 0:  23% 10/44 [00:02<00:07,  4.72it/s]\u001b[A\n",
            "Validation DataLoader 0:  25% 11/44 [00:02<00:07,  4.67it/s]\u001b[A\n",
            "Validation DataLoader 0:  27% 12/44 [00:02<00:06,  4.62it/s]\u001b[A\n",
            "Validation DataLoader 0:  30% 13/44 [00:02<00:06,  4.55it/s]\u001b[A\n",
            "Validation DataLoader 0:  32% 14/44 [00:03<00:06,  4.53it/s]\u001b[A\n",
            "Validation DataLoader 0:  34% 15/44 [00:03<00:06,  4.50it/s]\u001b[A\n",
            "Validation DataLoader 0:  36% 16/44 [00:03<00:06,  4.49it/s]\u001b[A\n",
            "Validation DataLoader 0:  39% 17/44 [00:03<00:06,  4.49it/s]\u001b[A\n",
            "Validation DataLoader 0:  41% 18/44 [00:04<00:05,  4.46it/s]\u001b[A\n",
            "Validation DataLoader 0:  43% 19/44 [00:04<00:05,  4.43it/s]\u001b[A\n",
            "Validation DataLoader 0:  45% 20/44 [00:04<00:05,  4.43it/s]\u001b[A\n",
            "Validation DataLoader 0:  48% 21/44 [00:04<00:05,  4.41it/s]\u001b[A\n",
            "Validation DataLoader 0:  50% 22/44 [00:04<00:04,  4.41it/s]\u001b[A\n",
            "Validation DataLoader 0:  52% 23/44 [00:05<00:04,  4.38it/s]\u001b[A\n",
            "Validation DataLoader 0:  55% 24/44 [00:05<00:04,  4.37it/s]\u001b[A\n",
            "Validation DataLoader 0:  57% 25/44 [00:05<00:04,  4.39it/s]\u001b[A\n",
            "Validation DataLoader 0:  59% 26/44 [00:05<00:04,  4.41it/s]\u001b[A\n",
            "Validation DataLoader 0:  61% 27/44 [00:06<00:03,  4.43it/s]\u001b[A\n",
            "Validation DataLoader 0:  64% 28/44 [00:06<00:03,  4.44it/s]\u001b[A\n",
            "Validation DataLoader 0:  66% 29/44 [00:06<00:03,  4.46it/s]\u001b[A\n",
            "Validation DataLoader 0:  68% 30/44 [00:06<00:03,  4.48it/s]\u001b[A\n",
            "Validation DataLoader 0:  70% 31/44 [00:06<00:02,  4.50it/s]\u001b[A\n",
            "Validation DataLoader 0:  73% 32/44 [00:07<00:02,  4.52it/s]\u001b[A\n",
            "Validation DataLoader 0:  75% 33/44 [00:07<00:02,  4.52it/s]\u001b[A\n",
            "Validation DataLoader 0:  77% 34/44 [00:07<00:02,  4.53it/s]\u001b[A\n",
            "Validation DataLoader 0:  80% 35/44 [00:07<00:01,  4.55it/s]\u001b[A\n",
            "Validation DataLoader 0:  82% 36/44 [00:07<00:01,  4.56it/s]\u001b[A\n",
            "Validation DataLoader 0:  84% 37/44 [00:08<00:01,  4.57it/s]\u001b[A\n",
            "Validation DataLoader 0:  86% 38/44 [00:08<00:01,  4.58it/s]\u001b[A\n",
            "Validation DataLoader 0:  89% 39/44 [00:08<00:01,  4.58it/s]\u001b[A\n",
            "Validation DataLoader 0:  91% 40/44 [00:08<00:00,  4.59it/s]\u001b[A\n",
            "Validation DataLoader 0:  93% 41/44 [00:08<00:00,  4.61it/s]\u001b[A\n",
            "Validation DataLoader 0:  95% 42/44 [00:09<00:00,  4.62it/s]\u001b[A\n",
            "Validation DataLoader 0:  98% 43/44 [00:09<00:00,  4.62it/s]\u001b[A\n",
            "Validation DataLoader 0: 100% 44/44 [00:09<00:00,  4.65it/s]\u001b[A/usr/local/lib/python3.11/dist-packages/ray/train/_internal/session.py:657: UserWarning: `report` is meant to only be called inside a function that is executed by a Tuner or Trainer. Returning `None`.\n",
            "  warnings.warn(\n",
            "\n",
            "Epoch 1: 100% 132/132 [02:31<00:00,  1.15s/it, v_num=ed_1, train/loss_step=0.350, val/loss=0.715, train/loss_epoch=0.389]\n",
            "Validation: |          | 0/? [00:00<?, ?it/s]\u001b[A\n",
            "Validation:   0% 0/44 [00:00<?, ?it/s]       \u001b[A\n",
            "Validation DataLoader 0:   0% 0/44 [00:00<?, ?it/s]\u001b[A\n",
            "Validation DataLoader 0:   2% 1/44 [00:00<00:13,  3.13it/s]\u001b[A\n",
            "Validation DataLoader 0:   5% 2/44 [00:00<00:11,  3.72it/s]\u001b[A\n",
            "Validation DataLoader 0:   7% 3/44 [00:00<00:10,  4.01it/s]\u001b[A\n",
            "Validation DataLoader 0:   9% 4/44 [00:00<00:09,  4.19it/s]\u001b[A\n",
            "Validation DataLoader 0:  11% 5/44 [00:01<00:09,  4.25it/s]\u001b[A\n",
            "Validation DataLoader 0:  14% 6/44 [00:01<00:08,  4.38it/s]\u001b[A\n",
            "Validation DataLoader 0:  16% 7/44 [00:01<00:08,  4.44it/s]\u001b[A\n",
            "Validation DataLoader 0:  18% 8/44 [00:01<00:08,  4.36it/s]\u001b[A\n",
            "Validation DataLoader 0:  20% 9/44 [00:02<00:08,  4.30it/s]\u001b[A\n",
            "Validation DataLoader 0:  23% 10/44 [00:02<00:08,  4.20it/s]\u001b[A\n",
            "Validation DataLoader 0:  25% 11/44 [00:02<00:07,  4.17it/s]\u001b[A\n",
            "Validation DataLoader 0:  27% 12/44 [00:02<00:07,  4.16it/s]\u001b[A\n",
            "Validation DataLoader 0:  30% 13/44 [00:03<00:07,  4.17it/s]\u001b[A\n",
            "Validation DataLoader 0:  32% 14/44 [00:03<00:07,  4.14it/s]\u001b[A\n",
            "Validation DataLoader 0:  34% 15/44 [00:03<00:06,  4.15it/s]\u001b[A\n",
            "Validation DataLoader 0:  36% 16/44 [00:03<00:06,  4.16it/s]\u001b[A\n",
            "Validation DataLoader 0:  39% 17/44 [00:04<00:06,  4.15it/s]\u001b[A\n",
            "Validation DataLoader 0:  41% 18/44 [00:04<00:06,  4.14it/s]\u001b[A\n",
            "Validation DataLoader 0:  43% 19/44 [00:04<00:06,  4.11it/s]\u001b[A\n",
            "Validation DataLoader 0:  45% 20/44 [00:04<00:05,  4.11it/s]\u001b[A\n",
            "Validation DataLoader 0:  48% 21/44 [00:05<00:05,  4.11it/s]\u001b[A\n",
            "Validation DataLoader 0:  50% 22/44 [00:05<00:05,  4.12it/s]\u001b[A\n",
            "Validation DataLoader 0:  52% 23/44 [00:05<00:05,  4.14it/s]\u001b[A\n",
            "Validation DataLoader 0:  55% 24/44 [00:05<00:04,  4.17it/s]\u001b[A\n",
            "Validation DataLoader 0:  57% 25/44 [00:05<00:04,  4.20it/s]\u001b[A\n",
            "Validation DataLoader 0:  59% 26/44 [00:06<00:04,  4.23it/s]\u001b[A\n",
            "Validation DataLoader 0:  61% 27/44 [00:06<00:03,  4.26it/s]\u001b[A\n",
            "Validation DataLoader 0:  64% 28/44 [00:06<00:03,  4.29it/s]\u001b[A\n",
            "Validation DataLoader 0:  66% 29/44 [00:06<00:03,  4.31it/s]\u001b[A\n",
            "Validation DataLoader 0:  68% 30/44 [00:06<00:03,  4.33it/s]\u001b[A\n",
            "Validation DataLoader 0:  70% 31/44 [00:07<00:02,  4.36it/s]\u001b[A\n",
            "Validation DataLoader 0:  73% 32/44 [00:07<00:02,  4.38it/s]\u001b[A\n",
            "Validation DataLoader 0:  75% 33/44 [00:07<00:02,  4.40it/s]\u001b[A\n",
            "Validation DataLoader 0:  77% 34/44 [00:07<00:02,  4.41it/s]\u001b[A\n",
            "Validation DataLoader 0:  80% 35/44 [00:07<00:02,  4.43it/s]\u001b[A\n",
            "Validation DataLoader 0:  82% 36/44 [00:08<00:01,  4.44it/s]\u001b[A\n",
            "Validation DataLoader 0:  84% 37/44 [00:08<00:01,  4.46it/s]\u001b[A\n",
            "Validation DataLoader 0:  86% 38/44 [00:08<00:01,  4.47it/s]\u001b[A\n",
            "Validation DataLoader 0:  89% 39/44 [00:08<00:01,  4.48it/s]\u001b[A\n",
            "Validation DataLoader 0:  91% 40/44 [00:08<00:00,  4.50it/s]\u001b[A\n",
            "Validation DataLoader 0:  93% 41/44 [00:09<00:00,  4.51it/s]\u001b[A\n",
            "Validation DataLoader 0:  95% 42/44 [00:09<00:00,  4.52it/s]\u001b[A\n",
            "Validation DataLoader 0:  98% 43/44 [00:09<00:00,  4.52it/s]\u001b[A\n",
            "Validation DataLoader 0: 100% 44/44 [00:09<00:00,  4.54it/s]\u001b[A\n",
            "Epoch 2: 100% 132/132 [02:27<00:00,  1.12s/it, v_num=ed_1, train/loss_step=0.381, val/loss=0.715, train/loss_epoch=0.354]\n",
            "Validation: |          | 0/? [00:00<?, ?it/s]\u001b[A\n",
            "Validation:   0% 0/44 [00:00<?, ?it/s]       \u001b[A\n",
            "Validation DataLoader 0:   0% 0/44 [00:00<?, ?it/s]\u001b[A\n",
            "Validation DataLoader 0:   2% 1/44 [00:00<00:12,  3.34it/s]\u001b[A\n",
            "Validation DataLoader 0:   5% 2/44 [00:00<00:11,  3.60it/s]\u001b[A\n",
            "Validation DataLoader 0:   7% 3/44 [00:00<00:10,  3.94it/s]\u001b[A\n",
            "Validation DataLoader 0:   9% 4/44 [00:00<00:09,  4.15it/s]\u001b[A\n",
            "Validation DataLoader 0:  11% 5/44 [00:01<00:09,  4.00it/s]\u001b[A\n",
            "Validation DataLoader 0:  14% 6/44 [00:01<00:09,  3.94it/s]\u001b[A\n",
            "Validation DataLoader 0:  16% 7/44 [00:01<00:09,  3.84it/s]\u001b[A\n",
            "Validation DataLoader 0:  18% 8/44 [00:02<00:09,  3.78it/s]\u001b[A\n",
            "Validation DataLoader 0:  20% 9/44 [00:02<00:09,  3.74it/s]\u001b[A\n",
            "Validation DataLoader 0:  23% 10/44 [00:02<00:09,  3.72it/s]\u001b[A\n",
            "Validation DataLoader 0:  25% 11/44 [00:02<00:08,  3.70it/s]\u001b[A\n",
            "Validation DataLoader 0:  27% 12/44 [00:03<00:08,  3.68it/s]\u001b[A\n",
            "Validation DataLoader 0:  30% 13/44 [00:03<00:08,  3.67it/s]\u001b[A\n",
            "Validation DataLoader 0:  32% 14/44 [00:03<00:08,  3.66it/s]\u001b[A\n",
            "Validation DataLoader 0:  34% 15/44 [00:04<00:08,  3.58it/s]\u001b[A\n",
            "Validation DataLoader 0:  36% 16/44 [00:04<00:07,  3.52it/s]\u001b[A\n",
            "Validation DataLoader 0:  39% 17/44 [00:04<00:07,  3.47it/s]\u001b[A\n",
            "Validation DataLoader 0:  41% 18/44 [00:05<00:07,  3.41it/s]\u001b[A\n",
            "Validation DataLoader 0:  43% 19/44 [00:05<00:07,  3.38it/s]\u001b[A\n",
            "Validation DataLoader 0:  45% 20/44 [00:05<00:07,  3.35it/s]\u001b[A\n",
            "Validation DataLoader 0:  48% 21/44 [00:06<00:06,  3.31it/s]\u001b[A\n",
            "Validation DataLoader 0:  50% 22/44 [00:06<00:06,  3.29it/s]\u001b[A\n",
            "Validation DataLoader 0:  52% 23/44 [00:07<00:06,  3.26it/s]\u001b[A\n",
            "Validation DataLoader 0:  55% 24/44 [00:07<00:06,  3.27it/s]\u001b[A\n",
            "Validation DataLoader 0:  57% 25/44 [00:07<00:05,  3.27it/s]\u001b[A\n",
            "Validation DataLoader 0:  59% 26/44 [00:07<00:05,  3.30it/s]\u001b[A\n",
            "Validation DataLoader 0:  61% 27/44 [00:08<00:05,  3.33it/s]\u001b[A\n",
            "Validation DataLoader 0:  64% 28/44 [00:08<00:04,  3.36it/s]\u001b[A\n",
            "Validation DataLoader 0:  66% 29/44 [00:08<00:04,  3.39it/s]\u001b[A\n",
            "Validation DataLoader 0:  68% 30/44 [00:08<00:04,  3.39it/s]\u001b[A\n",
            "Validation DataLoader 0:  70% 31/44 [00:09<00:03,  3.40it/s]\u001b[A\n",
            "Validation DataLoader 0:  73% 32/44 [00:09<00:03,  3.40it/s]\u001b[A\n",
            "Validation DataLoader 0:  75% 33/44 [00:09<00:03,  3.40it/s]\u001b[A\n",
            "Validation DataLoader 0:  77% 34/44 [00:09<00:02,  3.40it/s]\u001b[A\n",
            "Validation DataLoader 0:  80% 35/44 [00:10<00:02,  3.40it/s]\u001b[A\n",
            "Validation DataLoader 0:  82% 36/44 [00:10<00:02,  3.40it/s]\u001b[A\n",
            "Validation DataLoader 0:  84% 37/44 [00:10<00:02,  3.41it/s]\u001b[A\n",
            "Validation DataLoader 0:  86% 38/44 [00:11<00:01,  3.41it/s]\u001b[A\n",
            "Validation DataLoader 0:  89% 39/44 [00:11<00:01,  3.41it/s]\u001b[A\n",
            "Validation DataLoader 0:  91% 40/44 [00:11<00:01,  3.41it/s]\u001b[A\n",
            "Validation DataLoader 0:  93% 41/44 [00:12<00:00,  3.41it/s]\u001b[A\n",
            "Validation DataLoader 0:  95% 42/44 [00:12<00:00,  3.41it/s]\u001b[A\n",
            "Validation DataLoader 0:  98% 43/44 [00:12<00:00,  3.41it/s]\u001b[A\n",
            "Validation DataLoader 0: 100% 44/44 [00:12<00:00,  3.45it/s]\u001b[A\n",
            "Epoch 3: 100% 132/132 [02:33<00:00,  1.16s/it, v_num=ed_1, train/loss_step=0.340, val/loss=0.700, train/loss_epoch=0.346]\n",
            "Validation: |          | 0/? [00:00<?, ?it/s]\u001b[A\n",
            "Validation:   0% 0/44 [00:00<?, ?it/s]       \u001b[A\n",
            "Validation DataLoader 0:   0% 0/44 [00:00<?, ?it/s]\u001b[A\n",
            "Validation DataLoader 0:   2% 1/44 [00:00<00:13,  3.14it/s]\u001b[A\n",
            "Validation DataLoader 0:   5% 2/44 [00:00<00:10,  3.88it/s]\u001b[A\n",
            "Validation DataLoader 0:   7% 3/44 [00:00<00:09,  4.18it/s]\u001b[A\n",
            "Validation DataLoader 0:   9% 4/44 [00:00<00:09,  4.37it/s]\u001b[A\n",
            "Validation DataLoader 0:  11% 5/44 [00:01<00:08,  4.45it/s]\u001b[A\n",
            "Validation DataLoader 0:  14% 6/44 [00:01<00:08,  4.52it/s]\u001b[A\n",
            "Validation DataLoader 0:  16% 7/44 [00:01<00:08,  4.58it/s]\u001b[A\n",
            "Validation DataLoader 0:  18% 8/44 [00:01<00:07,  4.61it/s]\u001b[A\n",
            "Validation DataLoader 0:  20% 9/44 [00:01<00:07,  4.63it/s]\u001b[A\n",
            "Validation DataLoader 0:  23% 10/44 [00:02<00:07,  4.65it/s]\u001b[A\n",
            "Validation DataLoader 0:  25% 11/44 [00:02<00:07,  4.68it/s]\u001b[A\n",
            "Validation DataLoader 0:  27% 12/44 [00:02<00:06,  4.71it/s]\u001b[A\n",
            "Validation DataLoader 0:  30% 13/44 [00:02<00:06,  4.71it/s]\u001b[A\n",
            "Validation DataLoader 0:  32% 14/44 [00:02<00:06,  4.73it/s]\u001b[A\n",
            "Validation DataLoader 0:  34% 15/44 [00:03<00:06,  4.75it/s]\u001b[A\n",
            "Validation DataLoader 0:  36% 16/44 [00:03<00:05,  4.75it/s]\u001b[A\n",
            "Validation DataLoader 0:  39% 17/44 [00:03<00:05,  4.77it/s]\u001b[A\n",
            "Validation DataLoader 0:  41% 18/44 [00:03<00:05,  4.79it/s]\u001b[A\n",
            "Validation DataLoader 0:  43% 19/44 [00:03<00:05,  4.81it/s]\u001b[A\n",
            "Validation DataLoader 0:  45% 20/44 [00:04<00:04,  4.82it/s]\u001b[A\n",
            "Validation DataLoader 0:  48% 21/44 [00:04<00:04,  4.82it/s]\u001b[A\n",
            "Validation DataLoader 0:  50% 22/44 [00:04<00:04,  4.83it/s]\u001b[A\n",
            "Validation DataLoader 0:  52% 23/44 [00:04<00:04,  4.84it/s]\u001b[A\n",
            "Validation DataLoader 0:  55% 24/44 [00:04<00:04,  4.85it/s]\u001b[A\n",
            "Validation DataLoader 0:  57% 25/44 [00:05<00:03,  4.85it/s]\u001b[A\n",
            "Validation DataLoader 0:  59% 26/44 [00:05<00:03,  4.85it/s]\u001b[A\n",
            "Validation DataLoader 0:  61% 27/44 [00:05<00:03,  4.86it/s]\u001b[A\n",
            "Validation DataLoader 0:  64% 28/44 [00:05<00:03,  4.87it/s]\u001b[A\n",
            "Validation DataLoader 0:  66% 29/44 [00:05<00:03,  4.88it/s]\u001b[A\n",
            "Validation DataLoader 0:  68% 30/44 [00:06<00:02,  4.88it/s]\u001b[A\n",
            "Validation DataLoader 0:  70% 31/44 [00:06<00:02,  4.88it/s]\u001b[A\n",
            "Validation DataLoader 0:  73% 32/44 [00:06<00:02,  4.89it/s]\u001b[A\n",
            "Validation DataLoader 0:  75% 33/44 [00:06<00:02,  4.89it/s]\u001b[A\n",
            "Validation DataLoader 0:  77% 34/44 [00:06<00:02,  4.89it/s]\u001b[A\n",
            "Validation DataLoader 0:  80% 35/44 [00:07<00:01,  4.90it/s]\u001b[A\n",
            "Validation DataLoader 0:  82% 36/44 [00:07<00:01,  4.90it/s]\u001b[A\n",
            "Validation DataLoader 0:  84% 37/44 [00:07<00:01,  4.90it/s]\u001b[A\n",
            "Validation DataLoader 0:  86% 38/44 [00:07<00:01,  4.90it/s]\u001b[A\n",
            "Validation DataLoader 0:  89% 39/44 [00:07<00:01,  4.90it/s]\u001b[A\n",
            "Validation DataLoader 0:  91% 40/44 [00:08<00:00,  4.91it/s]\u001b[A\n",
            "Validation DataLoader 0:  93% 41/44 [00:08<00:00,  4.91it/s]\u001b[A\n",
            "Validation DataLoader 0:  95% 42/44 [00:08<00:00,  4.91it/s]\u001b[A\n",
            "Validation DataLoader 0:  98% 43/44 [00:08<00:00,  4.91it/s]\u001b[A\n",
            "Validation DataLoader 0: 100% 44/44 [00:08<00:00,  4.94it/s]\u001b[A\n",
            "Epoch 4: 100% 132/132 [02:27<00:00,  1.12s/it, v_num=ed_1, train/loss_step=0.323, val/loss=0.694, train/loss_epoch=0.342]\n",
            "Validation: |          | 0/? [00:00<?, ?it/s]\u001b[A\n",
            "Validation:   0% 0/44 [00:00<?, ?it/s]       \u001b[A\n",
            "Validation DataLoader 0:   0% 0/44 [00:00<?, ?it/s]\u001b[A\n",
            "Validation DataLoader 0:   2% 1/44 [00:00<00:17,  2.45it/s]\u001b[A\n",
            "Validation DataLoader 0:   5% 2/44 [00:00<00:16,  2.50it/s]\u001b[A\n",
            "Validation DataLoader 0:   7% 3/44 [00:01<00:15,  2.59it/s]\u001b[A\n",
            "Validation DataLoader 0:   9% 4/44 [00:01<00:15,  2.61it/s]\u001b[A\n",
            "Validation DataLoader 0:  11% 5/44 [00:01<00:14,  2.75it/s]\u001b[A\n",
            "Validation DataLoader 0:  14% 6/44 [00:02<00:13,  2.85it/s]\u001b[A\n",
            "Validation DataLoader 0:  16% 7/44 [00:02<00:12,  2.93it/s]\u001b[A\n",
            "Validation DataLoader 0:  18% 8/44 [00:02<00:12,  2.97it/s]\u001b[A\n",
            "Validation DataLoader 0:  20% 9/44 [00:02<00:11,  3.02it/s]\u001b[A\n",
            "Validation DataLoader 0:  23% 10/44 [00:03<00:11,  3.06it/s]\u001b[A\n",
            "Validation DataLoader 0:  25% 11/44 [00:03<00:10,  3.09it/s]\u001b[A\n",
            "Validation DataLoader 0:  27% 12/44 [00:03<00:10,  3.12it/s]\u001b[A\n",
            "Validation DataLoader 0:  30% 13/44 [00:04<00:09,  3.14it/s]\u001b[A\n",
            "Validation DataLoader 0:  32% 14/44 [00:04<00:09,  3.16it/s]\u001b[A\n",
            "Validation DataLoader 0:  34% 15/44 [00:04<00:09,  3.17it/s]\u001b[A\n",
            "Validation DataLoader 0:  36% 16/44 [00:05<00:08,  3.18it/s]\u001b[A\n",
            "Validation DataLoader 0:  39% 17/44 [00:05<00:08,  3.20it/s]\u001b[A\n",
            "Validation DataLoader 0:  41% 18/44 [00:05<00:08,  3.21it/s]\u001b[A\n",
            "Validation DataLoader 0:  43% 19/44 [00:05<00:07,  3.22it/s]\u001b[A\n",
            "Validation DataLoader 0:  45% 20/44 [00:06<00:07,  3.23it/s]\u001b[A\n",
            "Validation DataLoader 0:  48% 21/44 [00:06<00:07,  3.24it/s]\u001b[A\n",
            "Validation DataLoader 0:  50% 22/44 [00:06<00:06,  3.25it/s]\u001b[A\n",
            "Validation DataLoader 0:  52% 23/44 [00:07<00:06,  3.26it/s]\u001b[A\n",
            "Validation DataLoader 0:  55% 24/44 [00:07<00:06,  3.27it/s]\u001b[A\n",
            "Validation DataLoader 0:  57% 25/44 [00:07<00:05,  3.27it/s]\u001b[A\n",
            "Validation DataLoader 0:  59% 26/44 [00:07<00:05,  3.28it/s]\u001b[A\n",
            "Validation DataLoader 0:  61% 27/44 [00:08<00:05,  3.28it/s]\u001b[A\n",
            "Validation DataLoader 0:  64% 28/44 [00:08<00:04,  3.29it/s]\u001b[A\n",
            "Validation DataLoader 0:  66% 29/44 [00:08<00:04,  3.29it/s]\u001b[A\n",
            "Validation DataLoader 0:  68% 30/44 [00:09<00:04,  3.30it/s]\u001b[A\n",
            "Validation DataLoader 0:  70% 31/44 [00:09<00:03,  3.30it/s]\u001b[A\n",
            "Validation DataLoader 0:  73% 32/44 [00:09<00:03,  3.31it/s]\u001b[A\n",
            "Validation DataLoader 0:  75% 33/44 [00:09<00:03,  3.31it/s]\u001b[A\n",
            "Validation DataLoader 0:  77% 34/44 [00:10<00:03,  3.32it/s]\u001b[A\n",
            "Validation DataLoader 0:  80% 35/44 [00:10<00:02,  3.32it/s]\u001b[A\n",
            "Validation DataLoader 0:  82% 36/44 [00:10<00:02,  3.32it/s]\u001b[A\n",
            "Validation DataLoader 0:  84% 37/44 [00:11<00:02,  3.32it/s]\u001b[A\n",
            "Validation DataLoader 0:  86% 38/44 [00:11<00:01,  3.33it/s]\u001b[A\n",
            "Validation DataLoader 0:  89% 39/44 [00:11<00:01,  3.31it/s]\u001b[A\n",
            "Validation DataLoader 0:  91% 40/44 [00:12<00:01,  3.30it/s]\u001b[A\n",
            "Validation DataLoader 0:  93% 41/44 [00:12<00:00,  3.29it/s]\u001b[A\n",
            "Validation DataLoader 0:  95% 42/44 [00:12<00:00,  3.28it/s]\u001b[A\n",
            "Validation DataLoader 0:  98% 43/44 [00:13<00:00,  3.27it/s]\u001b[A\n",
            "Validation DataLoader 0: 100% 44/44 [00:13<00:00,  3.31it/s]\u001b[A\n",
            "Epoch 5: 100% 132/132 [02:29<00:00,  1.13s/it, v_num=ed_1, train/loss_step=0.359, val/loss=0.694, train/loss_epoch=0.340]\n",
            "Validation: |          | 0/? [00:00<?, ?it/s]\u001b[A\n",
            "Validation:   0% 0/44 [00:00<?, ?it/s]       \u001b[A\n",
            "Validation DataLoader 0:   0% 0/44 [00:00<?, ?it/s]\u001b[A\n",
            "Validation DataLoader 0:   2% 1/44 [00:00<00:13,  3.19it/s]\u001b[A\n",
            "Validation DataLoader 0:   5% 2/44 [00:00<00:10,  3.97it/s]\u001b[A\n",
            "Validation DataLoader 0:   7% 3/44 [00:00<00:09,  4.26it/s]\u001b[A\n",
            "Validation DataLoader 0:   9% 4/44 [00:00<00:09,  4.40it/s]\u001b[A\n",
            "Validation DataLoader 0:  11% 5/44 [00:01<00:08,  4.55it/s]\u001b[A\n",
            "Validation DataLoader 0:  14% 6/44 [00:01<00:08,  4.63it/s]\u001b[A\n",
            "Validation DataLoader 0:  16% 7/44 [00:01<00:07,  4.70it/s]\u001b[A\n",
            "Validation DataLoader 0:  18% 8/44 [00:01<00:07,  4.75it/s]\u001b[A\n",
            "Validation DataLoader 0:  20% 9/44 [00:01<00:07,  4.76it/s]\u001b[A\n",
            "Validation DataLoader 0:  23% 10/44 [00:02<00:07,  4.79it/s]\u001b[A\n",
            "Validation DataLoader 0:  25% 11/44 [00:02<00:06,  4.82it/s]\u001b[A\n",
            "Validation DataLoader 0:  27% 12/44 [00:02<00:06,  4.84it/s]\u001b[A\n",
            "Validation DataLoader 0:  30% 13/44 [00:02<00:06,  4.86it/s]\u001b[A\n",
            "Validation DataLoader 0:  32% 14/44 [00:02<00:06,  4.86it/s]\u001b[A\n",
            "Validation DataLoader 0:  34% 15/44 [00:03<00:05,  4.88it/s]\u001b[A\n",
            "Validation DataLoader 0:  36% 16/44 [00:03<00:05,  4.90it/s]\u001b[A\n",
            "Validation DataLoader 0:  39% 17/44 [00:03<00:05,  4.91it/s]\u001b[A\n",
            "Validation DataLoader 0:  41% 18/44 [00:03<00:05,  4.90it/s]\u001b[A\n",
            "Validation DataLoader 0:  43% 19/44 [00:03<00:05,  4.90it/s]\u001b[A\n",
            "Validation DataLoader 0:  45% 20/44 [00:04<00:04,  4.90it/s]\u001b[A\n",
            "Validation DataLoader 0:  48% 21/44 [00:04<00:04,  4.91it/s]\u001b[A\n",
            "Validation DataLoader 0:  50% 22/44 [00:04<00:04,  4.91it/s]\u001b[A\n",
            "Validation DataLoader 0:  52% 23/44 [00:04<00:04,  4.92it/s]\u001b[A\n",
            "Validation DataLoader 0:  55% 24/44 [00:04<00:04,  4.92it/s]\u001b[A\n",
            "Validation DataLoader 0:  57% 25/44 [00:05<00:03,  4.92it/s]\u001b[A\n",
            "Validation DataLoader 0:  59% 26/44 [00:05<00:03,  4.89it/s]\u001b[A\n",
            "Validation DataLoader 0:  61% 27/44 [00:05<00:03,  4.89it/s]\u001b[A\n",
            "Validation DataLoader 0:  64% 28/44 [00:05<00:03,  4.88it/s]\u001b[A\n",
            "Validation DataLoader 0:  66% 29/44 [00:05<00:03,  4.88it/s]\u001b[A\n",
            "Validation DataLoader 0:  68% 30/44 [00:06<00:02,  4.87it/s]\u001b[A\n",
            "Validation DataLoader 0:  70% 31/44 [00:06<00:02,  4.88it/s]\u001b[A\n",
            "Validation DataLoader 0:  73% 32/44 [00:06<00:02,  4.88it/s]\u001b[A\n",
            "Validation DataLoader 0:  75% 33/44 [00:06<00:02,  4.86it/s]\u001b[A\n",
            "Validation DataLoader 0:  77% 34/44 [00:07<00:02,  4.84it/s]\u001b[A\n",
            "Validation DataLoader 0:  80% 35/44 [00:07<00:01,  4.78it/s]\u001b[A\n",
            "Validation DataLoader 0:  82% 36/44 [00:07<00:01,  4.76it/s]\u001b[A\n",
            "Validation DataLoader 0:  84% 37/44 [00:07<00:01,  4.74it/s]\u001b[A\n",
            "Validation DataLoader 0:  86% 38/44 [00:08<00:01,  4.74it/s]\u001b[A\n",
            "Validation DataLoader 0:  89% 39/44 [00:08<00:01,  4.71it/s]\u001b[A\n",
            "Validation DataLoader 0:  91% 40/44 [00:08<00:00,  4.71it/s]\u001b[A\n",
            "Validation DataLoader 0:  93% 41/44 [00:08<00:00,  4.71it/s]\u001b[A\n",
            "Validation DataLoader 0:  95% 42/44 [00:08<00:00,  4.70it/s]\u001b[A\n",
            "Validation DataLoader 0:  98% 43/44 [00:09<00:00,  4.68it/s]\u001b[A\n",
            "Validation DataLoader 0: 100% 44/44 [00:09<00:00,  4.68it/s]\u001b[A\n",
            "Epoch 6: 100% 132/132 [02:32<00:00,  1.15s/it, v_num=ed_1, train/loss_step=0.399, val/loss=0.693, train/loss_epoch=0.339]\n",
            "Validation: |          | 0/? [00:00<?, ?it/s]\u001b[A\n",
            "Validation:   0% 0/44 [00:00<?, ?it/s]       \u001b[A\n",
            "Validation DataLoader 0:   0% 0/44 [00:00<?, ?it/s]\u001b[A\n",
            "Validation DataLoader 0:   2% 1/44 [00:00<00:14,  3.00it/s]\u001b[A\n",
            "Validation DataLoader 0:   5% 2/44 [00:00<00:12,  3.45it/s]\u001b[A\n",
            "Validation DataLoader 0:   7% 3/44 [00:00<00:10,  3.83it/s]\u001b[A\n",
            "Validation DataLoader 0:   9% 4/44 [00:00<00:09,  4.06it/s]\u001b[A\n",
            "Validation DataLoader 0:  11% 5/44 [00:01<00:09,  3.99it/s]\u001b[A\n",
            "Validation DataLoader 0:  14% 6/44 [00:01<00:09,  4.13it/s]\u001b[A\n",
            "Validation DataLoader 0:  16% 7/44 [00:01<00:08,  4.22it/s]\u001b[A\n",
            "Validation DataLoader 0:  18% 8/44 [00:01<00:08,  4.30it/s]\u001b[A\n",
            "Validation DataLoader 0:  20% 9/44 [00:02<00:08,  4.36it/s]\u001b[A\n",
            "Validation DataLoader 0:  23% 10/44 [00:02<00:07,  4.42it/s]\u001b[A\n",
            "Validation DataLoader 0:  25% 11/44 [00:02<00:07,  4.46it/s]\u001b[A\n",
            "Validation DataLoader 0:  27% 12/44 [00:02<00:07,  4.47it/s]\u001b[A\n",
            "Validation DataLoader 0:  30% 13/44 [00:02<00:06,  4.49it/s]\u001b[A\n",
            "Validation DataLoader 0:  32% 14/44 [00:03<00:06,  4.50it/s]\u001b[A\n",
            "Validation DataLoader 0:  34% 15/44 [00:03<00:06,  4.52it/s]\u001b[A\n",
            "Validation DataLoader 0:  36% 16/44 [00:03<00:06,  4.53it/s]\u001b[A\n",
            "Validation DataLoader 0:  39% 17/44 [00:03<00:05,  4.53it/s]\u001b[A\n",
            "Validation DataLoader 0:  41% 18/44 [00:03<00:05,  4.50it/s]\u001b[A\n",
            "Validation DataLoader 0:  43% 19/44 [00:04<00:05,  4.46it/s]\u001b[A\n",
            "Validation DataLoader 0:  45% 20/44 [00:04<00:05,  4.43it/s]\u001b[A\n",
            "Validation DataLoader 0:  48% 21/44 [00:04<00:05,  4.41it/s]\u001b[A\n",
            "Validation DataLoader 0:  50% 22/44 [00:05<00:05,  4.40it/s]\u001b[A\n",
            "Validation DataLoader 0:  52% 23/44 [00:05<00:04,  4.39it/s]\u001b[A\n",
            "Validation DataLoader 0:  55% 24/44 [00:05<00:04,  4.38it/s]\u001b[A\n",
            "Validation DataLoader 0:  57% 25/44 [00:05<00:04,  4.37it/s]\u001b[A\n",
            "Validation DataLoader 0:  59% 26/44 [00:05<00:04,  4.37it/s]\u001b[A\n",
            "Validation DataLoader 0:  61% 27/44 [00:06<00:03,  4.36it/s]\u001b[A\n",
            "Validation DataLoader 0:  64% 28/44 [00:06<00:03,  4.34it/s]\u001b[A\n",
            "Validation DataLoader 0:  66% 29/44 [00:06<00:03,  4.33it/s]\u001b[A\n",
            "Validation DataLoader 0:  68% 30/44 [00:06<00:03,  4.31it/s]\u001b[A\n",
            "Validation DataLoader 0:  70% 31/44 [00:07<00:03,  4.30it/s]\u001b[A\n",
            "Validation DataLoader 0:  73% 32/44 [00:07<00:02,  4.30it/s]\u001b[A\n",
            "Validation DataLoader 0:  75% 33/44 [00:07<00:02,  4.31it/s]\u001b[A\n",
            "Validation DataLoader 0:  77% 34/44 [00:07<00:02,  4.33it/s]\u001b[A\n",
            "Validation DataLoader 0:  80% 35/44 [00:08<00:02,  4.34it/s]\u001b[A\n",
            "Validation DataLoader 0:  82% 36/44 [00:08<00:01,  4.35it/s]\u001b[A\n",
            "Validation DataLoader 0:  84% 37/44 [00:08<00:01,  4.37it/s]\u001b[A\n",
            "Validation DataLoader 0:  86% 38/44 [00:08<00:01,  4.38it/s]\u001b[A\n",
            "Validation DataLoader 0:  89% 39/44 [00:08<00:01,  4.39it/s]\u001b[A\n",
            "Validation DataLoader 0:  91% 40/44 [00:09<00:00,  4.40it/s]\u001b[A\n",
            "Validation DataLoader 0:  93% 41/44 [00:09<00:00,  4.41it/s]\u001b[A\n",
            "Validation DataLoader 0:  95% 42/44 [00:09<00:00,  4.41it/s]\u001b[A\n",
            "Validation DataLoader 0:  98% 43/44 [00:09<00:00,  4.42it/s]\u001b[A\n",
            "Validation DataLoader 0: 100% 44/44 [00:09<00:00,  4.43it/s]\u001b[A\n",
            "Epoch 7: 100% 132/132 [02:28<00:00,  1.13s/it, v_num=ed_1, train/loss_step=0.323, val/loss=0.693, train/loss_epoch=0.338]\n",
            "Validation: |          | 0/? [00:00<?, ?it/s]\u001b[A\n",
            "Validation:   0% 0/44 [00:00<?, ?it/s]       \u001b[A\n",
            "Validation DataLoader 0:   0% 0/44 [00:00<?, ?it/s]\u001b[A\n",
            "Validation DataLoader 0:   2% 1/44 [00:00<00:13,  3.21it/s]\u001b[A\n",
            "Validation DataLoader 0:   5% 2/44 [00:00<00:10,  3.97it/s]\u001b[A\n",
            "Validation DataLoader 0:   7% 3/44 [00:00<00:09,  4.30it/s]\u001b[A\n",
            "Validation DataLoader 0:   9% 4/44 [00:00<00:08,  4.45it/s]\u001b[A\n",
            "Validation DataLoader 0:  11% 5/44 [00:01<00:08,  4.49it/s]\u001b[A\n",
            "Validation DataLoader 0:  14% 6/44 [00:01<00:08,  4.51it/s]\u001b[A\n",
            "Validation DataLoader 0:  16% 7/44 [00:01<00:08,  4.57it/s]\u001b[A\n",
            "Validation DataLoader 0:  18% 8/44 [00:01<00:07,  4.56it/s]\u001b[A\n",
            "Validation DataLoader 0:  20% 9/44 [00:01<00:07,  4.60it/s]\u001b[A\n",
            "Validation DataLoader 0:  23% 10/44 [00:02<00:07,  4.64it/s]\u001b[A\n",
            "Validation DataLoader 0:  25% 11/44 [00:02<00:07,  4.65it/s]\u001b[A\n",
            "Validation DataLoader 0:  27% 12/44 [00:02<00:06,  4.69it/s]\u001b[A\n",
            "Validation DataLoader 0:  30% 13/44 [00:02<00:06,  4.73it/s]\u001b[A\n",
            "Validation DataLoader 0:  32% 14/44 [00:02<00:06,  4.75it/s]\u001b[A\n",
            "Validation DataLoader 0:  34% 15/44 [00:03<00:06,  4.77it/s]\u001b[A\n",
            "Validation DataLoader 0:  36% 16/44 [00:03<00:05,  4.77it/s]\u001b[A\n",
            "Validation DataLoader 0:  39% 17/44 [00:03<00:05,  4.77it/s]\u001b[A\n",
            "Validation DataLoader 0:  41% 18/44 [00:03<00:05,  4.78it/s]\u001b[A\n",
            "Validation DataLoader 0:  43% 19/44 [00:03<00:05,  4.80it/s]\u001b[A\n",
            "Validation DataLoader 0:  45% 20/44 [00:04<00:04,  4.81it/s]\u001b[A\n",
            "Validation DataLoader 0:  48% 21/44 [00:04<00:04,  4.81it/s]\u001b[A\n",
            "Validation DataLoader 0:  50% 22/44 [00:04<00:04,  4.82it/s]\u001b[A\n",
            "Validation DataLoader 0:  52% 23/44 [00:04<00:04,  4.82it/s]\u001b[A\n",
            "Validation DataLoader 0:  55% 24/44 [00:05<00:04,  4.78it/s]\u001b[A\n",
            "Validation DataLoader 0:  57% 25/44 [00:05<00:04,  4.72it/s]\u001b[A\n",
            "Validation DataLoader 0:  59% 26/44 [00:05<00:03,  4.67it/s]\u001b[A\n",
            "Validation DataLoader 0:  61% 27/44 [00:05<00:03,  4.66it/s]\u001b[A\n",
            "Validation DataLoader 0:  64% 28/44 [00:06<00:03,  4.65it/s]\u001b[A\n",
            "Validation DataLoader 0:  66% 29/44 [00:06<00:03,  4.63it/s]\u001b[A\n",
            "Validation DataLoader 0:  68% 30/44 [00:06<00:03,  4.62it/s]\u001b[A\n",
            "Validation DataLoader 0:  70% 31/44 [00:06<00:02,  4.61it/s]\u001b[A\n",
            "Validation DataLoader 0:  73% 32/44 [00:06<00:02,  4.60it/s]\u001b[A\n",
            "Validation DataLoader 0:  75% 33/44 [00:07<00:02,  4.58it/s]\u001b[A\n",
            "Validation DataLoader 0:  77% 34/44 [00:07<00:02,  4.56it/s]\u001b[A\n",
            "Validation DataLoader 0:  80% 35/44 [00:07<00:01,  4.54it/s]\u001b[A\n",
            "Validation DataLoader 0:  82% 36/44 [00:07<00:01,  4.53it/s]\u001b[A\n",
            "Validation DataLoader 0:  84% 37/44 [00:08<00:01,  4.51it/s]\u001b[A\n",
            "Validation DataLoader 0:  86% 38/44 [00:08<00:01,  4.52it/s]\u001b[A\n",
            "Validation DataLoader 0:  89% 39/44 [00:08<00:01,  4.53it/s]\u001b[A\n",
            "Validation DataLoader 0:  91% 40/44 [00:08<00:00,  4.54it/s]\u001b[A\n",
            "Validation DataLoader 0:  93% 41/44 [00:09<00:00,  4.55it/s]\u001b[A\n",
            "Validation DataLoader 0:  95% 42/44 [00:09<00:00,  4.56it/s]\u001b[A\n",
            "Validation DataLoader 0:  98% 43/44 [00:09<00:00,  4.57it/s]\u001b[A\n",
            "Validation DataLoader 0: 100% 44/44 [00:09<00:00,  4.60it/s]\u001b[A\n",
            "Epoch 8: 100% 132/132 [02:29<00:00,  1.13s/it, v_num=ed_1, train/loss_step=0.317, val/loss=0.693, train/loss_epoch=0.338]\n",
            "Validation: |          | 0/? [00:00<?, ?it/s]\u001b[A\n",
            "Validation:   0% 0/44 [00:00<?, ?it/s]       \u001b[A\n",
            "Validation DataLoader 0:   0% 0/44 [00:00<?, ?it/s]\u001b[A\n",
            "Validation DataLoader 0:   2% 1/44 [00:00<00:13,  3.23it/s]\u001b[A\n",
            "Validation DataLoader 0:   5% 2/44 [00:00<00:10,  3.91it/s]\u001b[A\n",
            "Validation DataLoader 0:   7% 3/44 [00:00<00:09,  4.20it/s]\u001b[A\n",
            "Validation DataLoader 0:   9% 4/44 [00:00<00:09,  4.38it/s]\u001b[A\n",
            "Validation DataLoader 0:  11% 5/44 [00:01<00:08,  4.40it/s]\u001b[A\n",
            "Validation DataLoader 0:  14% 6/44 [00:01<00:08,  4.47it/s]\u001b[A\n",
            "Validation DataLoader 0:  16% 7/44 [00:01<00:08,  4.51it/s]\u001b[A\n",
            "Validation DataLoader 0:  18% 8/44 [00:01<00:07,  4.51it/s]\u001b[A\n",
            "Validation DataLoader 0:  20% 9/44 [00:01<00:07,  4.56it/s]\u001b[A\n",
            "Validation DataLoader 0:  23% 10/44 [00:02<00:07,  4.60it/s]\u001b[A\n",
            "Validation DataLoader 0:  25% 11/44 [00:02<00:07,  4.60it/s]\u001b[A\n",
            "Validation DataLoader 0:  27% 12/44 [00:02<00:06,  4.64it/s]\u001b[A\n",
            "Validation DataLoader 0:  30% 13/44 [00:02<00:06,  4.67it/s]\u001b[A\n",
            "Validation DataLoader 0:  32% 14/44 [00:02<00:06,  4.70it/s]\u001b[A\n",
            "Validation DataLoader 0:  34% 15/44 [00:03<00:06,  4.73it/s]\u001b[A\n",
            "Validation DataLoader 0:  36% 16/44 [00:03<00:05,  4.74it/s]\u001b[A\n",
            "Validation DataLoader 0:  39% 17/44 [00:03<00:05,  4.75it/s]\u001b[A\n",
            "Validation DataLoader 0:  41% 18/44 [00:03<00:05,  4.75it/s]\u001b[A\n",
            "Validation DataLoader 0:  43% 19/44 [00:03<00:05,  4.76it/s]\u001b[A\n",
            "Validation DataLoader 0:  45% 20/44 [00:04<00:05,  4.78it/s]\u001b[A\n",
            "Validation DataLoader 0:  48% 21/44 [00:04<00:04,  4.78it/s]\u001b[A\n",
            "Validation DataLoader 0:  50% 22/44 [00:04<00:04,  4.77it/s]\u001b[A\n",
            "Validation DataLoader 0:  52% 23/44 [00:04<00:04,  4.77it/s]\u001b[A\n",
            "Validation DataLoader 0:  55% 24/44 [00:05<00:04,  4.75it/s]\u001b[A\n",
            "Validation DataLoader 0:  57% 25/44 [00:05<00:04,  4.70it/s]\u001b[A\n",
            "Validation DataLoader 0:  59% 26/44 [00:05<00:03,  4.65it/s]\u001b[A\n",
            "Validation DataLoader 0:  61% 27/44 [00:05<00:03,  4.60it/s]\u001b[A\n",
            "Validation DataLoader 0:  64% 28/44 [00:06<00:03,  4.58it/s]\u001b[A\n",
            "Validation DataLoader 0:  66% 29/44 [00:06<00:03,  4.57it/s]\u001b[A\n",
            "Validation DataLoader 0:  68% 30/44 [00:06<00:03,  4.54it/s]\u001b[A\n",
            "Validation DataLoader 0:  70% 31/44 [00:06<00:02,  4.53it/s]\u001b[A\n",
            "Validation DataLoader 0:  73% 32/44 [00:07<00:02,  4.53it/s]\u001b[A\n",
            "Validation DataLoader 0:  75% 33/44 [00:07<00:02,  4.52it/s]\u001b[A\n",
            "Validation DataLoader 0:  77% 34/44 [00:07<00:02,  4.50it/s]\u001b[A\n",
            "Validation DataLoader 0:  80% 35/44 [00:07<00:02,  4.48it/s]\u001b[A\n",
            "Validation DataLoader 0:  82% 36/44 [00:08<00:01,  4.46it/s]\u001b[A\n",
            "Validation DataLoader 0:  84% 37/44 [00:08<00:01,  4.46it/s]\u001b[A\n",
            "Validation DataLoader 0:  86% 38/44 [00:08<00:01,  4.45it/s]\u001b[A\n",
            "Validation DataLoader 0:  89% 39/44 [00:08<00:01,  4.46it/s]\u001b[A\n",
            "Validation DataLoader 0:  91% 40/44 [00:08<00:00,  4.47it/s]\u001b[A\n",
            "Validation DataLoader 0:  93% 41/44 [00:09<00:00,  4.47it/s]\u001b[A\n",
            "Validation DataLoader 0:  95% 42/44 [00:09<00:00,  4.48it/s]\u001b[A\n",
            "Validation DataLoader 0:  98% 43/44 [00:09<00:00,  4.48it/s]\u001b[A\n",
            "Validation DataLoader 0: 100% 44/44 [00:09<00:00,  4.51it/s]\u001b[A\n",
            "Epoch 9: 100% 132/132 [02:21<00:00,  1.07s/it, v_num=ed_1, train/loss_step=0.357, val/loss=0.693, train/loss_epoch=0.338]\n",
            "Validation: |          | 0/? [00:00<?, ?it/s]\u001b[A\n",
            "Validation:   0% 0/44 [00:00<?, ?it/s]       \u001b[A\n",
            "Validation DataLoader 0:   0% 0/44 [00:00<?, ?it/s]\u001b[A\n",
            "Validation DataLoader 0:   2% 1/44 [00:00<00:14,  3.06it/s]\u001b[A\n",
            "Validation DataLoader 0:   5% 2/44 [00:00<00:12,  3.38it/s]\u001b[A\n",
            "Validation DataLoader 0:   7% 3/44 [00:00<00:11,  3.48it/s]\u001b[A\n",
            "Validation DataLoader 0:   9% 4/44 [00:01<00:11,  3.56it/s]\u001b[A\n",
            "Validation DataLoader 0:  11% 5/44 [00:01<00:10,  3.69it/s]\u001b[A\n",
            "Validation DataLoader 0:  14% 6/44 [00:01<00:10,  3.78it/s]\u001b[A\n",
            "Validation DataLoader 0:  16% 7/44 [00:01<00:09,  3.79it/s]\u001b[A\n",
            "Validation DataLoader 0:  18% 8/44 [00:02<00:09,  3.86it/s]\u001b[A\n",
            "Validation DataLoader 0:  20% 9/44 [00:02<00:08,  3.91it/s]\u001b[A\n",
            "Validation DataLoader 0:  23% 10/44 [00:02<00:08,  3.93it/s]\u001b[A\n",
            "Validation DataLoader 0:  25% 11/44 [00:02<00:08,  3.95it/s]\u001b[A\n",
            "Validation DataLoader 0:  27% 12/44 [00:03<00:08,  3.92it/s]\u001b[A\n",
            "Validation DataLoader 0:  30% 13/44 [00:03<00:07,  3.93it/s]\u001b[A\n",
            "Validation DataLoader 0:  32% 14/44 [00:03<00:07,  3.95it/s]\u001b[A\n",
            "Validation DataLoader 0:  34% 15/44 [00:03<00:07,  3.95it/s]\u001b[A\n",
            "Validation DataLoader 0:  36% 16/44 [00:04<00:07,  3.97it/s]\u001b[A\n",
            "Validation DataLoader 0:  39% 17/44 [00:04<00:06,  4.00it/s]\u001b[A\n",
            "Validation DataLoader 0:  41% 18/44 [00:04<00:06,  4.04it/s]\u001b[A\n",
            "Validation DataLoader 0:  43% 19/44 [00:04<00:06,  4.07it/s]\u001b[A\n",
            "Validation DataLoader 0:  45% 20/44 [00:04<00:05,  4.11it/s]\u001b[A\n",
            "Validation DataLoader 0:  48% 21/44 [00:05<00:05,  4.14it/s]\u001b[A\n",
            "Validation DataLoader 0:  50% 22/44 [00:05<00:05,  4.17it/s]\u001b[A\n",
            "Validation DataLoader 0:  52% 23/44 [00:05<00:04,  4.20it/s]\u001b[A\n",
            "Validation DataLoader 0:  55% 24/44 [00:05<00:04,  4.23it/s]\u001b[A\n",
            "Validation DataLoader 0:  57% 25/44 [00:05<00:04,  4.25it/s]\u001b[A\n",
            "Validation DataLoader 0:  59% 26/44 [00:06<00:04,  4.28it/s]\u001b[A\n",
            "Validation DataLoader 0:  61% 27/44 [00:06<00:03,  4.29it/s]\u001b[A\n",
            "Validation DataLoader 0:  64% 28/44 [00:06<00:03,  4.32it/s]\u001b[A\n",
            "Validation DataLoader 0:  66% 29/44 [00:06<00:03,  4.34it/s]\u001b[A\n",
            "Validation DataLoader 0:  68% 30/44 [00:06<00:03,  4.36it/s]\u001b[A\n",
            "Validation DataLoader 0:  70% 31/44 [00:07<00:02,  4.38it/s]\u001b[A\n",
            "Validation DataLoader 0:  73% 32/44 [00:07<00:02,  4.39it/s]\u001b[A\n",
            "Validation DataLoader 0:  75% 33/44 [00:07<00:02,  4.41it/s]\u001b[A\n",
            "Validation DataLoader 0:  77% 34/44 [00:07<00:02,  4.42it/s]\u001b[A\n",
            "Validation DataLoader 0:  80% 35/44 [00:07<00:02,  4.44it/s]\u001b[A\n",
            "Validation DataLoader 0:  82% 36/44 [00:08<00:01,  4.45it/s]\u001b[A\n",
            "Validation DataLoader 0:  84% 37/44 [00:08<00:01,  4.46it/s]\u001b[A\n",
            "Validation DataLoader 0:  86% 38/44 [00:08<00:01,  4.48it/s]\u001b[A\n",
            "Validation DataLoader 0:  89% 39/44 [00:08<00:01,  4.48it/s]\u001b[A\n",
            "Validation DataLoader 0:  91% 40/44 [00:08<00:00,  4.49it/s]\u001b[A\n",
            "Validation DataLoader 0:  93% 41/44 [00:09<00:00,  4.50it/s]\u001b[A\n",
            "Validation DataLoader 0:  95% 42/44 [00:09<00:00,  4.51it/s]\u001b[A\n",
            "Validation DataLoader 0:  98% 43/44 [00:09<00:00,  4.52it/s]\u001b[A\n",
            "Validation DataLoader 0: 100% 44/44 [00:09<00:00,  4.55it/s]\u001b[A\n",
            "Epoch 9: 100% 132/132 [02:31<00:00,  1.15s/it, v_num=ed_1, train/loss_step=0.357, val/loss=0.693, train/loss_epoch=0.338]`Trainer.fit` stopped: `max_epochs=10` reached.\n",
            "Epoch 9: 100% 132/132 [02:31<00:00,  1.15s/it, v_num=ed_1, train/loss_step=0.357, val/loss=0.693, train/loss_epoch=0.338]\n",
            "Restoring states from the checkpoint path at save/DenseRMoK_ETTh1/ba016d5e54/seed_1/checkpoints/epoch=8-step=1188.ckpt\n",
            "Loaded model weights from the checkpoint at save/DenseRMoK_ETTh1/ba016d5e54/seed_1/checkpoints/epoch=8-step=1188.ckpt\n",
            "Testing DataLoader 0: 100% 2785/2785 [00:42<00:00, 65.73it/s]\n",
            "┏━━━━━━━━━━━━━━━━━━━━━━━━━━━┳━━━━━━━━━━━━━━━━━━━━━━━━━━━┓\n",
            "┃\u001b[1m \u001b[0m\u001b[1m       Test metric       \u001b[0m\u001b[1m \u001b[0m┃\u001b[1m \u001b[0m\u001b[1m      DataLoader 0       \u001b[0m\u001b[1m \u001b[0m┃\n",
            "┡━━━━━━━━━━━━━━━━━━━━━━━━━━━╇━━━━━━━━━━━━━━━━━━━━━━━━━━━┩\n",
            "│\u001b[36m \u001b[0m\u001b[36m        test/mae         \u001b[0m\u001b[36m \u001b[0m│\u001b[35m \u001b[0m\u001b[35m   0.39290884137153625   \u001b[0m\u001b[35m \u001b[0m│\n",
            "│\u001b[36m \u001b[0m\u001b[36m        test/mse         \u001b[0m\u001b[36m \u001b[0m│\u001b[35m \u001b[0m\u001b[35m   0.37654662132263184   \u001b[0m\u001b[35m \u001b[0m│\n",
            "└───────────────────────────┴───────────────────────────┘\n"
          ]
        }
      ]
    },
    {
      "cell_type": "code",
      "source": [
        "!ls"
      ],
      "metadata": {
        "colab": {
          "base_uri": "https://localhost:8080/"
        },
        "id": "tbgjqexlJ53e",
        "outputId": "ea1db0f1-b0ba-4330-e856-32d382f2163d"
      },
      "execution_count": null,
      "outputs": [
        {
          "output_type": "stream",
          "name": "stdout",
          "text": [
            "EasyTSF  sample_data\n"
          ]
        }
      ]
    },
    {
      "cell_type": "code",
      "source": [
        "!pwd"
      ],
      "metadata": {
        "colab": {
          "base_uri": "https://localhost:8080/"
        },
        "id": "5Xg6z8rcM8CD",
        "outputId": "0b762e67-2215-46ec-db45-1df7b0558a62"
      },
      "execution_count": 10,
      "outputs": [
        {
          "output_type": "stream",
          "name": "stdout",
          "text": [
            "/content\n"
          ]
        }
      ]
    },
    {
      "cell_type": "code",
      "source": [
        "config = dict(\n",
        "    dataset_name='ETTh1',\n",
        "    var_num=7,\n",
        "    freq=60,\n",
        "    data_split=[8640, 2880, 2880],\n",
        "\n",
        "    hist_len=96,\n",
        "    pred_len=96,\n",
        "\n",
        "    batch_size=64,\n",
        "    max_epochs=10,\n",
        "    lr=0.0001,\n",
        "    optimizer=\"AdamW\",\n",
        "    optimizer_betas=(0.95, 0.9),\n",
        "    optimizer_weight_decay=1e-5,\n",
        "    lr_scheduler='StepLR',\n",
        "    lr_step_size=1,\n",
        "    lr_gamma=0.5,\n",
        "    gradient_clip_val=5,\n",
        "    val_metric=\"val/loss\",\n",
        "    test_metric=\"test/mae\",\n",
        "    es_patience=10,\n",
        "\n",
        "    norm_time_feature=False,\n",
        "    time_feature_cls=[\"tod\", \"dow\"],\n",
        "\n",
        "    num_workers=2,\n",
        "\n",
        "    model_name=\"DenseRMoK\",\n",
        "\n",
        "    revin_affine=True,\n",
        "\n",
        "    data_root=\"EasyTSF/dataset\",\n",
        ")"
      ],
      "metadata": {
        "id": "Erj2-l_9aVsn"
      },
      "execution_count": 12,
      "outputs": []
    },
    {
      "cell_type": "code",
      "source": [
        "from EasyTSF.easytsf.runner.data_runner import DataInterface"
      ],
      "metadata": {
        "id": "TEy8MdjvD3rU"
      },
      "execution_count": 20,
      "outputs": []
    },
    {
      "cell_type": "code",
      "source": [
        "data_module = DataInterface(**config)"
      ],
      "metadata": {
        "id": "V-gm78LXDrs7"
      },
      "execution_count": 21,
      "outputs": []
    },
    {
      "cell_type": "code",
      "source": [
        "display(data_module)"
      ],
      "metadata": {
        "id": "mezvvWUpEOOI",
        "outputId": "8600ac29-0191-4fd7-98a6-3369d7e5b430",
        "colab": {
          "base_uri": "https://localhost:8080/",
          "height": 34
        }
      },
      "execution_count": 22,
      "outputs": [
        {
          "output_type": "display_data",
          "data": {
            "text/plain": [
              "<EasyTSF.easytsf.runner.data_runner.DataInterface at 0x7a205eaf3110>"
            ]
          },
          "metadata": {}
        }
      ]
    },
    {
      "cell_type": "code",
      "source": [
        "import numpy as np\n",
        "import os"
      ],
      "metadata": {
        "id": "4ZIL4nv0E5mn"
      },
      "execution_count": 24,
      "outputs": []
    },
    {
      "cell_type": "code",
      "source": [
        "data_path = os.path.join(config['data_root'], \"{}.npz\".format(config['dataset_name']))\n",
        "data = np.load(data_path)\n",
        "display(data)"
      ],
      "metadata": {
        "id": "NcN5geJeEP6S",
        "outputId": "1f1649b0-0a40-41e4-9313-0b8e562b3a60",
        "colab": {
          "base_uri": "https://localhost:8080/",
          "height": 34
        }
      },
      "execution_count": 27,
      "outputs": [
        {
          "output_type": "display_data",
          "data": {
            "text/plain": [
              "NpzFile 'EasyTSF/dataset/ETTh1.npz' with keys: variable, timestamp, mean, std"
            ]
          },
          "metadata": {}
        }
      ]
    },
    {
      "cell_type": "code",
      "source": [
        "display(data['mean'])"
      ],
      "metadata": {
        "id": "aOqp-HEiFbrN",
        "outputId": "446cd4d6-a0d6-444f-f934-d731a1d4c64b",
        "colab": {
          "base_uri": "https://localhost:8080/",
          "height": 52
        }
      },
      "execution_count": 32,
      "outputs": [
        {
          "output_type": "display_data",
          "data": {
            "text/plain": [
              "array([ 7.93774225,  2.02103866,  5.0797706 ,  0.74618588,  2.78176239,\n",
              "        0.78845312, 17.1282617 ])"
            ]
          },
          "metadata": {}
        }
      ]
    },
    {
      "cell_type": "code",
      "source": [
        "display(data['std'])"
      ],
      "metadata": {
        "id": "zmEW8tFbF464",
        "outputId": "b818764f-1242-4db1-aaf3-cb5a5b3c03fc",
        "colab": {
          "base_uri": "https://localhost:8080/",
          "height": 52
        }
      },
      "execution_count": 33,
      "outputs": [
        {
          "output_type": "display_data",
          "data": {
            "text/plain": [
              "array([5.81274941, 2.09010465, 5.51879358, 1.92637927, 1.02352266,\n",
              "       0.63023664, 9.17649102])"
            ]
          },
          "metadata": {}
        }
      ]
    },
    {
      "cell_type": "code",
      "source": [
        "display(data['timestamp'])"
      ],
      "metadata": {
        "id": "htpXFsEDJ3jJ",
        "outputId": "d9d95bf0-7c0d-4a10-ca1f-9dcfddc38b5d",
        "colab": {
          "base_uri": "https://localhost:8080/",
          "height": 86
        }
      },
      "execution_count": 34,
      "outputs": [
        {
          "output_type": "display_data",
          "data": {
            "text/plain": [
              "array(['2016-07-01T00:00:00.000000000', '2016-07-01T01:00:00.000000000',\n",
              "       '2016-07-01T02:00:00.000000000', ...,\n",
              "       '2018-02-20T21:00:00.000000000', '2018-02-20T22:00:00.000000000',\n",
              "       '2018-02-20T23:00:00.000000000'], dtype='datetime64[ns]')"
            ]
          },
          "metadata": {}
        }
      ]
    },
    {
      "cell_type": "code",
      "source": [
        "len(data['variable'])"
      ],
      "metadata": {
        "id": "RGnRVD3rKNBE",
        "outputId": "3185cace-e654-4a48-c58b-6e6b50f2742c",
        "colab": {
          "base_uri": "https://localhost:8080/"
        }
      },
      "execution_count": 37,
      "outputs": [
        {
          "output_type": "execute_result",
          "data": {
            "text/plain": [
              "14400"
            ]
          },
          "metadata": {},
          "execution_count": 37
        }
      ]
    },
    {
      "cell_type": "code",
      "source": [],
      "metadata": {
        "id": "QkaLy31_KC2Q"
      },
      "execution_count": null,
      "outputs": []
    }
  ]
}