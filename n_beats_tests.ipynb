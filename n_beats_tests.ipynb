{
  "nbformat": 4,
  "nbformat_minor": 0,
  "metadata": {
    "colab": {
      "provenance": [],
      "authorship_tag": "ABX9TyOUnnIb5XykWn2g5ObjUodE"
    },
    "kernelspec": {
      "name": "python3",
      "display_name": "Python 3"
    },
    "language_info": {
      "name": "python"
    }
  },
  "cells": [
    {
      "cell_type": "code",
      "execution_count": null,
      "metadata": {
        "id": "36JZI-VE8C1e"
      },
      "outputs": [],
      "source": [
        "!git clone https://github.com/Olyco/EasyTSF.git"
      ]
    },
    {
      "cell_type": "code",
      "source": [
        "from google.colab import drive\n",
        "drive.mount('/content/drive')"
      ],
      "metadata": {
        "id": "G6JkPFRy8LVA"
      },
      "execution_count": null,
      "outputs": []
    },
    {
      "cell_type": "code",
      "source": [
        "!pip install -r \"EasyTSF/requirements.txt\""
      ],
      "metadata": {
        "id": "xuxMN9fT8L1h"
      },
      "execution_count": null,
      "outputs": []
    }
  ]
}