{
  "nbformat": 4,
  "nbformat_minor": 0,
  "metadata": {
    "colab": {
      "provenance": [],
      "machine_shape": "hm",
      "gpuType": "L4",
      "authorship_tag": "ABX9TyMB4wic6H2kdeYFhN7FEz0f"
    },
    "kernelspec": {
      "name": "python3",
      "display_name": "Python 3"
    },
    "language_info": {
      "name": "python"
    },
    "accelerator": "GPU"
  },
  "cells": [
    {
      "cell_type": "code",
      "execution_count": 1,
      "metadata": {
        "id": "36JZI-VE8C1e",
        "outputId": "4b8eed24-7da0-498a-ed9f-6ed6a255a898",
        "colab": {
          "base_uri": "https://localhost:8080/"
        }
      },
      "outputs": [
        {
          "output_type": "stream",
          "name": "stdout",
          "text": [
            "Cloning into 'EasyTSF'...\n",
            "remote: Enumerating objects: 678, done.\u001b[K\n",
            "remote: Counting objects: 100% (118/118), done.\u001b[K\n",
            "remote: Compressing objects: 100% (68/68), done.\u001b[K\n",
            "remote: Total 678 (delta 67), reused 79 (delta 42), pack-reused 560 (from 2)\u001b[K\n",
            "Receiving objects: 100% (678/678), 1.86 MiB | 4.81 MiB/s, done.\n",
            "Resolving deltas: 100% (369/369), done.\n"
          ]
        }
      ],
      "source": [
        "!git clone https://github.com/Olyco/EasyTSF.git"
      ]
    },
    {
      "cell_type": "code",
      "source": [
        "from google.colab import drive\n",
        "drive.mount('/content/drive')"
      ],
      "metadata": {
        "id": "G6JkPFRy8LVA",
        "outputId": "9f3a6435-305f-4da6-b029-6bce2ccc1e6d",
        "colab": {
          "base_uri": "https://localhost:8080/"
        }
      },
      "execution_count": 2,
      "outputs": [
        {
          "output_type": "stream",
          "name": "stdout",
          "text": [
            "Mounted at /content/drive\n"
          ]
        }
      ]
    },
    {
      "cell_type": "code",
      "source": [
        "!pip install -r \"EasyTSF/requirements.txt\""
      ],
      "metadata": {
        "id": "xuxMN9fT8L1h",
        "outputId": "64d7174c-89fb-4e49-92cd-dd31e1ee63ca",
        "colab": {
          "base_uri": "https://localhost:8080/"
        }
      },
      "execution_count": 1,
      "outputs": [
        {
          "output_type": "stream",
          "name": "stdout",
          "text": [
            "Requirement already satisfied: Brotli==1.0.9 in /usr/local/lib/python3.11/dist-packages (from -r EasyTSF/requirements.txt (line 1)) (1.0.9)\n",
            "Requirement already satisfied: certifi==2024.7.4 in /usr/local/lib/python3.11/dist-packages (from -r EasyTSF/requirements.txt (line 2)) (2024.7.4)\n",
            "Requirement already satisfied: charset-normalizer==3.3.2 in /usr/local/lib/python3.11/dist-packages (from -r EasyTSF/requirements.txt (line 3)) (3.3.2)\n",
            "Requirement already satisfied: colorama==0.4.6 in /usr/local/lib/python3.11/dist-packages (from -r EasyTSF/requirements.txt (line 4)) (0.4.6)\n",
            "Requirement already satisfied: filelock==3.13.1 in /usr/local/lib/python3.11/dist-packages (from -r EasyTSF/requirements.txt (line 5)) (3.13.1)\n",
            "Requirement already satisfied: fsspec==2024.6.1 in /usr/local/lib/python3.11/dist-packages (from -r EasyTSF/requirements.txt (line 6)) (2024.6.1)\n",
            "Requirement already satisfied: idna==3.7 in /usr/local/lib/python3.11/dist-packages (from -r EasyTSF/requirements.txt (line 7)) (3.7)\n",
            "Requirement already satisfied: Jinja2==3.1.4 in /usr/local/lib/python3.11/dist-packages (from -r EasyTSF/requirements.txt (line 8)) (3.1.4)\n",
            "Requirement already satisfied: lightning==2.4.0 in /usr/local/lib/python3.11/dist-packages (from -r EasyTSF/requirements.txt (line 9)) (2.4.0)\n",
            "Requirement already satisfied: lightning-utilities==0.11.6 in /usr/local/lib/python3.11/dist-packages (from -r EasyTSF/requirements.txt (line 10)) (0.11.6)\n",
            "Requirement already satisfied: MarkupSafe==2.1.3 in /usr/local/lib/python3.11/dist-packages (from -r EasyTSF/requirements.txt (line 11)) (2.1.3)\n",
            "Requirement already satisfied: mkl-fft==1.3.8 in /usr/local/lib/python3.11/dist-packages (from -r EasyTSF/requirements.txt (line 12)) (1.3.8)\n",
            "Requirement already satisfied: mkl-random==1.2.4 in /usr/local/lib/python3.11/dist-packages (from -r EasyTSF/requirements.txt (line 13)) (1.2.4)\n",
            "Requirement already satisfied: mkl-service==2.4.1 in /usr/local/lib/python3.11/dist-packages (from -r EasyTSF/requirements.txt (line 14)) (2.4.1)\n",
            "Requirement already satisfied: mpmath==1.3.0 in /usr/local/lib/python3.11/dist-packages (from -r EasyTSF/requirements.txt (line 15)) (1.3.0)\n",
            "Requirement already satisfied: networkx==3.3 in /usr/local/lib/python3.11/dist-packages (from -r EasyTSF/requirements.txt (line 16)) (3.3)\n",
            "Requirement already satisfied: numpy==1.26.4 in /usr/local/lib/python3.11/dist-packages (from -r EasyTSF/requirements.txt (line 17)) (1.26.4)\n",
            "Requirement already satisfied: packaging==24.1 in /usr/local/lib/python3.11/dist-packages (from -r EasyTSF/requirements.txt (line 18)) (24.1)\n",
            "Requirement already satisfied: pillow==10.4.0 in /usr/local/lib/python3.11/dist-packages (from -r EasyTSF/requirements.txt (line 19)) (10.4.0)\n",
            "Requirement already satisfied: pip==24.2 in /usr/local/lib/python3.11/dist-packages (from -r EasyTSF/requirements.txt (line 20)) (24.2)\n",
            "Requirement already satisfied: PySocks==1.7.1 in /usr/local/lib/python3.11/dist-packages (from -r EasyTSF/requirements.txt (line 21)) (1.7.1)\n",
            "Requirement already satisfied: pytorch-lightning==2.4.0 in /usr/local/lib/python3.11/dist-packages (from -r EasyTSF/requirements.txt (line 22)) (2.4.0)\n",
            "Requirement already satisfied: PyYAML==6.0.1 in /usr/local/lib/python3.11/dist-packages (from -r EasyTSF/requirements.txt (line 23)) (6.0.1)\n",
            "Requirement already satisfied: requests==2.32.3 in /usr/local/lib/python3.11/dist-packages (from -r EasyTSF/requirements.txt (line 24)) (2.32.3)\n",
            "Requirement already satisfied: setuptools==72.1.0 in /usr/local/lib/python3.11/dist-packages (from -r EasyTSF/requirements.txt (line 25)) (72.1.0)\n",
            "Requirement already satisfied: sympy==1.12 in /usr/local/lib/python3.11/dist-packages (from -r EasyTSF/requirements.txt (line 26)) (1.12)\n",
            "Requirement already satisfied: torch==2.4.0 in /usr/local/lib/python3.11/dist-packages (from -r EasyTSF/requirements.txt (line 27)) (2.4.0)\n",
            "Requirement already satisfied: torchaudio==2.4.0 in /usr/local/lib/python3.11/dist-packages (from -r EasyTSF/requirements.txt (line 28)) (2.4.0)\n",
            "Requirement already satisfied: torchmetrics==1.4.0.post0 in /usr/local/lib/python3.11/dist-packages (from -r EasyTSF/requirements.txt (line 29)) (1.4.0.post0)\n",
            "Requirement already satisfied: torchvision==0.19.0 in /usr/local/lib/python3.11/dist-packages (from -r EasyTSF/requirements.txt (line 30)) (0.19.0)\n",
            "Requirement already satisfied: tqdm==4.66.5 in /usr/local/lib/python3.11/dist-packages (from -r EasyTSF/requirements.txt (line 31)) (4.66.5)\n",
            "Requirement already satisfied: triton==3.0.0 in /usr/local/lib/python3.11/dist-packages (from -r EasyTSF/requirements.txt (line 32)) (3.0.0)\n",
            "Requirement already satisfied: typing_extensions==4.11.0 in /usr/local/lib/python3.11/dist-packages (from -r EasyTSF/requirements.txt (line 33)) (4.11.0)\n",
            "Requirement already satisfied: urllib3==2.2.2 in /usr/local/lib/python3.11/dist-packages (from -r EasyTSF/requirements.txt (line 34)) (2.2.2)\n",
            "Requirement already satisfied: wheel==0.43.0 in /usr/local/lib/python3.11/dist-packages (from -r EasyTSF/requirements.txt (line 35)) (0.43.0)\n",
            "Requirement already satisfied: torcheval in /usr/local/lib/python3.11/dist-packages (from -r EasyTSF/requirements.txt (line 36)) (0.0.7)\n",
            "Requirement already satisfied: ray in /usr/local/lib/python3.11/dist-packages (from -r EasyTSF/requirements.txt (line 37)) (2.46.0)\n",
            "Requirement already satisfied: pykan in /usr/local/lib/python3.11/dist-packages (from -r EasyTSF/requirements.txt (line 38)) (0.2.8)\n",
            "Requirement already satisfied: pytorch_forecasting in /usr/local/lib/python3.11/dist-packages (from -r EasyTSF/requirements.txt (line 39)) (1.3.0)\n",
            "Requirement already satisfied: mkl in /usr/local/lib/python3.11/dist-packages (from mkl-fft==1.3.8->-r EasyTSF/requirements.txt (line 12)) (2025.0.1)\n",
            "Requirement already satisfied: nvidia-cuda-nvrtc-cu12==12.1.105 in /usr/local/lib/python3.11/dist-packages (from torch==2.4.0->-r EasyTSF/requirements.txt (line 27)) (12.1.105)\n",
            "Requirement already satisfied: nvidia-cuda-runtime-cu12==12.1.105 in /usr/local/lib/python3.11/dist-packages (from torch==2.4.0->-r EasyTSF/requirements.txt (line 27)) (12.1.105)\n",
            "Requirement already satisfied: nvidia-cuda-cupti-cu12==12.1.105 in /usr/local/lib/python3.11/dist-packages (from torch==2.4.0->-r EasyTSF/requirements.txt (line 27)) (12.1.105)\n",
            "Requirement already satisfied: nvidia-cudnn-cu12==9.1.0.70 in /usr/local/lib/python3.11/dist-packages (from torch==2.4.0->-r EasyTSF/requirements.txt (line 27)) (9.1.0.70)\n",
            "Requirement already satisfied: nvidia-cublas-cu12==12.1.3.1 in /usr/local/lib/python3.11/dist-packages (from torch==2.4.0->-r EasyTSF/requirements.txt (line 27)) (12.1.3.1)\n",
            "Requirement already satisfied: nvidia-cufft-cu12==11.0.2.54 in /usr/local/lib/python3.11/dist-packages (from torch==2.4.0->-r EasyTSF/requirements.txt (line 27)) (11.0.2.54)\n",
            "Requirement already satisfied: nvidia-curand-cu12==10.3.2.106 in /usr/local/lib/python3.11/dist-packages (from torch==2.4.0->-r EasyTSF/requirements.txt (line 27)) (10.3.2.106)\n",
            "Requirement already satisfied: nvidia-cusolver-cu12==11.4.5.107 in /usr/local/lib/python3.11/dist-packages (from torch==2.4.0->-r EasyTSF/requirements.txt (line 27)) (11.4.5.107)\n",
            "Requirement already satisfied: nvidia-cusparse-cu12==12.1.0.106 in /usr/local/lib/python3.11/dist-packages (from torch==2.4.0->-r EasyTSF/requirements.txt (line 27)) (12.1.0.106)\n",
            "Requirement already satisfied: nvidia-nccl-cu12==2.20.5 in /usr/local/lib/python3.11/dist-packages (from torch==2.4.0->-r EasyTSF/requirements.txt (line 27)) (2.20.5)\n",
            "Requirement already satisfied: nvidia-nvtx-cu12==12.1.105 in /usr/local/lib/python3.11/dist-packages (from torch==2.4.0->-r EasyTSF/requirements.txt (line 27)) (12.1.105)\n",
            "Requirement already satisfied: nvidia-nvjitlink-cu12 in /usr/local/lib/python3.11/dist-packages (from nvidia-cusolver-cu12==11.4.5.107->torch==2.4.0->-r EasyTSF/requirements.txt (line 27)) (12.5.82)\n",
            "Requirement already satisfied: click>=7.0 in /usr/local/lib/python3.11/dist-packages (from ray->-r EasyTSF/requirements.txt (line 37)) (8.2.0)\n",
            "Requirement already satisfied: jsonschema in /usr/local/lib/python3.11/dist-packages (from ray->-r EasyTSF/requirements.txt (line 37)) (4.23.0)\n",
            "Requirement already satisfied: msgpack<2.0.0,>=1.0.0 in /usr/local/lib/python3.11/dist-packages (from ray->-r EasyTSF/requirements.txt (line 37)) (1.1.0)\n",
            "Requirement already satisfied: protobuf!=3.19.5,>=3.15.3 in /usr/local/lib/python3.11/dist-packages (from ray->-r EasyTSF/requirements.txt (line 37)) (5.29.4)\n",
            "Requirement already satisfied: scipy<2.0,>=1.8 in /usr/local/lib/python3.11/dist-packages (from pytorch_forecasting->-r EasyTSF/requirements.txt (line 39)) (1.15.3)\n",
            "Requirement already satisfied: pandas<3.0.0,>=1.3.0 in /usr/local/lib/python3.11/dist-packages (from pytorch_forecasting->-r EasyTSF/requirements.txt (line 39)) (2.2.2)\n",
            "Requirement already satisfied: scikit-learn<2.0,>=1.2 in /usr/local/lib/python3.11/dist-packages (from pytorch_forecasting->-r EasyTSF/requirements.txt (line 39)) (1.6.1)\n",
            "Requirement already satisfied: aiohttp!=4.0.0a0,!=4.0.0a1 in /usr/local/lib/python3.11/dist-packages (from fsspec[http]<2026.0,>=2022.5.0->lightning==2.4.0->-r EasyTSF/requirements.txt (line 9)) (3.11.15)\n",
            "Requirement already satisfied: python-dateutil>=2.8.2 in /usr/local/lib/python3.11/dist-packages (from pandas<3.0.0,>=1.3.0->pytorch_forecasting->-r EasyTSF/requirements.txt (line 39)) (2.9.0.post0)\n",
            "Requirement already satisfied: pytz>=2020.1 in /usr/local/lib/python3.11/dist-packages (from pandas<3.0.0,>=1.3.0->pytorch_forecasting->-r EasyTSF/requirements.txt (line 39)) (2025.2)\n",
            "Requirement already satisfied: tzdata>=2022.7 in /usr/local/lib/python3.11/dist-packages (from pandas<3.0.0,>=1.3.0->pytorch_forecasting->-r EasyTSF/requirements.txt (line 39)) (2025.2)\n",
            "Requirement already satisfied: joblib>=1.2.0 in /usr/local/lib/python3.11/dist-packages (from scikit-learn<2.0,>=1.2->pytorch_forecasting->-r EasyTSF/requirements.txt (line 39)) (1.5.0)\n",
            "Requirement already satisfied: threadpoolctl>=3.1.0 in /usr/local/lib/python3.11/dist-packages (from scikit-learn<2.0,>=1.2->pytorch_forecasting->-r EasyTSF/requirements.txt (line 39)) (3.6.0)\n",
            "Requirement already satisfied: attrs>=22.2.0 in /usr/local/lib/python3.11/dist-packages (from jsonschema->ray->-r EasyTSF/requirements.txt (line 37)) (25.3.0)\n",
            "Requirement already satisfied: jsonschema-specifications>=2023.03.6 in /usr/local/lib/python3.11/dist-packages (from jsonschema->ray->-r EasyTSF/requirements.txt (line 37)) (2025.4.1)\n",
            "Requirement already satisfied: referencing>=0.28.4 in /usr/local/lib/python3.11/dist-packages (from jsonschema->ray->-r EasyTSF/requirements.txt (line 37)) (0.36.2)\n",
            "Requirement already satisfied: rpds-py>=0.7.1 in /usr/local/lib/python3.11/dist-packages (from jsonschema->ray->-r EasyTSF/requirements.txt (line 37)) (0.24.0)\n",
            "Requirement already satisfied: intel-openmp>=2024 in /usr/local/lib/python3.11/dist-packages (from mkl->mkl-fft==1.3.8->-r EasyTSF/requirements.txt (line 12)) (2025.1.1)\n",
            "Requirement already satisfied: tbb==2022.* in /usr/local/lib/python3.11/dist-packages (from mkl->mkl-fft==1.3.8->-r EasyTSF/requirements.txt (line 12)) (2022.1.0)\n",
            "Requirement already satisfied: tcmlib==1.* in /usr/local/lib/python3.11/dist-packages (from tbb==2022.*->mkl->mkl-fft==1.3.8->-r EasyTSF/requirements.txt (line 12)) (1.3.0)\n",
            "Requirement already satisfied: aiohappyeyeballs>=2.3.0 in /usr/local/lib/python3.11/dist-packages (from aiohttp!=4.0.0a0,!=4.0.0a1->fsspec[http]<2026.0,>=2022.5.0->lightning==2.4.0->-r EasyTSF/requirements.txt (line 9)) (2.6.1)\n",
            "Requirement already satisfied: aiosignal>=1.1.2 in /usr/local/lib/python3.11/dist-packages (from aiohttp!=4.0.0a0,!=4.0.0a1->fsspec[http]<2026.0,>=2022.5.0->lightning==2.4.0->-r EasyTSF/requirements.txt (line 9)) (1.3.2)\n",
            "Requirement already satisfied: frozenlist>=1.1.1 in /usr/local/lib/python3.11/dist-packages (from aiohttp!=4.0.0a0,!=4.0.0a1->fsspec[http]<2026.0,>=2022.5.0->lightning==2.4.0->-r EasyTSF/requirements.txt (line 9)) (1.6.0)\n",
            "Requirement already satisfied: multidict<7.0,>=4.5 in /usr/local/lib/python3.11/dist-packages (from aiohttp!=4.0.0a0,!=4.0.0a1->fsspec[http]<2026.0,>=2022.5.0->lightning==2.4.0->-r EasyTSF/requirements.txt (line 9)) (6.4.3)\n",
            "Requirement already satisfied: propcache>=0.2.0 in /usr/local/lib/python3.11/dist-packages (from aiohttp!=4.0.0a0,!=4.0.0a1->fsspec[http]<2026.0,>=2022.5.0->lightning==2.4.0->-r EasyTSF/requirements.txt (line 9)) (0.3.1)\n",
            "Requirement already satisfied: yarl<2.0,>=1.17.0 in /usr/local/lib/python3.11/dist-packages (from aiohttp!=4.0.0a0,!=4.0.0a1->fsspec[http]<2026.0,>=2022.5.0->lightning==2.4.0->-r EasyTSF/requirements.txt (line 9)) (1.20.0)\n",
            "Requirement already satisfied: intel-cmplr-lib-ur==2025.1.1 in /usr/local/lib/python3.11/dist-packages (from intel-openmp>=2024->mkl->mkl-fft==1.3.8->-r EasyTSF/requirements.txt (line 12)) (2025.1.1)\n",
            "Requirement already satisfied: umf==0.10.* in /usr/local/lib/python3.11/dist-packages (from intel-cmplr-lib-ur==2025.1.1->intel-openmp>=2024->mkl->mkl-fft==1.3.8->-r EasyTSF/requirements.txt (line 12)) (0.10.0)\n",
            "Requirement already satisfied: six>=1.5 in /usr/local/lib/python3.11/dist-packages (from python-dateutil>=2.8.2->pandas<3.0.0,>=1.3.0->pytorch_forecasting->-r EasyTSF/requirements.txt (line 39)) (1.17.0)\n"
          ]
        }
      ]
    },
    {
      "cell_type": "markdown",
      "source": [
        "# KAN-BEATS"
      ],
      "metadata": {
        "id": "FWqAKSkS9dsS"
      }
    },
    {
      "cell_type": "markdown",
      "source": [
        "## Интерпретируемый"
      ],
      "metadata": {
        "id": "9FE4BLNx9wRi"
      }
    },
    {
      "cell_type": "code",
      "source": [
        "!python EasyTSF/kan_beats_exp.py -c EasyTSF/config/reproduce_conf/KAN_BEATS/ECL_interp.py"
      ],
      "metadata": {
        "id": "e7hKIGSI9gqT",
        "outputId": "dd760e5a-ea71-4f04-b063-8643e0ac7dc9",
        "colab": {
          "base_uri": "https://localhost:8080/"
        }
      },
      "execution_count": 2,
      "outputs": [
        {
          "output_type": "stream",
          "name": "stdout",
          "text": [
            "Seed set to 1\n",
            "GPU available: True (cuda), used: True\n",
            "TPU available: False, using: 0 TPU cores\n",
            "HPU available: False, using: 0 HPUs\n",
            "        index  variable  id\n",
            "0           0  0.102190   0\n",
            "1           1  0.131387   0\n",
            "2           2  0.153285   0\n",
            "3           3  0.145985   0\n",
            "4           4  0.160584   0\n",
            "...       ...       ...  ..\n",
            "257774  21038  0.377660   9\n",
            "257775  21039  0.484043   9\n",
            "257776  21040  0.526596   9\n",
            "257777  21041  0.497340   9\n",
            "257778  21042  0.515957   9\n",
            "\n",
            "[210430 rows x 3 columns]\n",
            "        index  variable  id\n",
            "21043   21043  0.051095   0\n",
            "21044   21044  0.065693   0\n",
            "21045   21045  0.072993   0\n",
            "21046   21046  0.160584   0\n",
            "21047   21047  0.145985   0\n",
            "...       ...       ...  ..\n",
            "260404  23668  0.196809   9\n",
            "260405  23669  0.199468   9\n",
            "260406  23670  0.199468   9\n",
            "260407  23671  0.091755   9\n",
            "260408  23672  0.117021   9\n",
            "\n",
            "[26300 rows x 3 columns]\n",
            "        index  variable  id\n",
            "23673   23673  0.467153   0\n",
            "23674   23674  0.452555   0\n",
            "23675   23675  0.437956   0\n",
            "23676   23676  0.664234   0\n",
            "23677   23677  0.452555   0\n",
            "...       ...       ...  ..\n",
            "263035  26299  0.466755   9\n",
            "263036  26300  0.434840   9\n",
            "263037  26301  0.376330   9\n",
            "263038  26302  0.388298   9\n",
            "263039  26303  0.390957   9\n",
            "\n",
            "[26310 rows x 3 columns]\n",
            "/usr/local/lib/python3.11/dist-packages/pytorch_forecasting/data/samplers.py:96: UserWarning: Less than 128 samples available for 21008 prediction times. Use batch size smaller than 128. First 10 prediction times with small batch sizes: [25, 26, 27, 28, 29, 30, 31, 32, 33, 34]\n",
            "  warnings.warn(\n",
            "/usr/local/lib/python3.11/dist-packages/lightning/pytorch/utilities/parsing.py:208: Attribute 'loss' is an instance of `nn.Module` and is already saved during checkpointing. It is recommended to ignore them using `self.save_hyperparameters(ignore=['loss'])`.\n",
            "/usr/local/lib/python3.11/dist-packages/lightning/pytorch/utilities/parsing.py:208: Attribute 'logging_metrics' is an instance of `nn.Module` and is already saved during checkpointing. It is recommended to ignore them using `self.save_hyperparameters(ignore=['logging_metrics'])`.\n",
            "\"backcast_loss_ratio\":           0.1\n",
            "\"context_length\":                24\n",
            "\"dataset_parameters\":            {'time_idx': 'index', 'target': 'variable', 'group_ids': ['id'], 'weight': None, 'max_encoder_length': 24, 'min_encoder_length': 24, 'min_prediction_idx': 0, 'min_prediction_length': 12, 'max_prediction_length': 12, 'static_categoricals': None, 'static_reals': None, 'time_varying_known_categoricals': None, 'time_varying_known_reals': None, 'time_varying_unknown_categoricals': None, 'time_varying_unknown_reals': ['variable'], 'variable_groups': None, 'constant_fill_strategy': None, 'allow_missing_timesteps': False, 'lags': None, 'add_relative_time_idx': False, 'add_target_scales': False, 'add_encoder_length': False, 'target_normalizer': EncoderNormalizer(\n",
            "\tmethod='standard',\n",
            "\tcenter=True,\n",
            "\tmax_length=None,\n",
            "\ttransformation=None,\n",
            "\tmethod_kwargs={}\n",
            "), 'categorical_encoders': {'id': NaNLabelEncoder(add_nan=False, warn=True), '__group_id__id': NaNLabelEncoder(add_nan=False, warn=True)}, 'scalers': {}, 'randomize_length': None, 'predict_mode': False}\n",
            "\"dropout\":                       0.1\n",
            "\"expansion_coefficient_lengths\": [3, 12]\n",
            "\"grid_size\":                     3\n",
            "\"learning_rate\":                 0.001\n",
            "\"log_gradient_flow\":             False\n",
            "\"log_interval\":                  10\n",
            "\"log_val_interval\":              10\n",
            "\"monotone_constraints\":          {}\n",
            "\"num_block_layers\":              [4, 4]\n",
            "\"num_blocks\":                    [2, 2]\n",
            "\"optimizer\":                     adam\n",
            "\"optimizer_params\":              None\n",
            "\"output_transformer\":            EncoderNormalizer(\n",
            "\tmethod='standard',\n",
            "\tcenter=True,\n",
            "\tmax_length=None,\n",
            "\ttransformation=None,\n",
            "\tmethod_kwargs={}\n",
            ")\n",
            "\"prediction_length\":             12\n",
            "\"reduce_on_plateau_min_lr\":      1e-05\n",
            "\"reduce_on_plateau_patience\":    10\n",
            "\"reduce_on_plateau_reduction\":   2.0\n",
            "\"sharing\":                       False\n",
            "\"spline_order\":                  3\n",
            "\"stack_types\":                   ['trend', 'seasonality']\n",
            "\"weight_decay\":                  0.01\n",
            "\"widths\":                        [64, 64]\n",
            "   | Name                                      | Type                  | Params | Mode \n",
            "---------------------------------------------------------------------------------------------\n",
            "0  | loss                                      | MAE                   | 0      | train\n",
            "1  | logging_metrics                           | ModuleList            | 0      | train\n",
            "2  | logging_metrics.0                         | SMAPE                 | 0      | train\n",
            "3  | logging_metrics.1                         | MAE                   | 0      | train\n",
            "4  | logging_metrics.2                         | RMSE                  | 0      | train\n",
            "5  | logging_metrics.3                         | MAPE                  | 0      | train\n",
            "6  | logging_metrics.4                         | MASE                  | 0      | train\n",
            "7  | net_blocks                                | ModuleList            | 313 K  | train\n",
            "8  | net_blocks.0                              | KANBEATSTrendBlock    | 78.0 K | train\n",
            "9  | net_blocks.0.kan                          | eff_KAN               | 77.8 K | train\n",
            "10 | net_blocks.0.kan.layers                   | ModuleList            | 77.8 K | train\n",
            "11 | net_blocks.0.kan.layers.0                 | KANLinear             | 12.3 K | train\n",
            "12 | net_blocks.0.kan.layers.0.base_activation | SiLU                  | 0      | train\n",
            "13 | net_blocks.0.kan.layers.1                 | KANLinear             | 32.8 K | train\n",
            "14 | net_blocks.0.kan.layers.1.base_activation | SiLU                  | 0      | train\n",
            "15 | net_blocks.0.kan.layers.2                 | KANLinear             | 32.8 K | train\n",
            "16 | net_blocks.0.kan.layers.2.base_activation | SiLU                  | 0      | train\n",
            "17 | net_blocks.0.theta_f_fc                   | Linear                | 192    | train\n",
            "18 | net_blocks.1                              | KANBEATSTrendBlock    | 78.0 K | train\n",
            "19 | net_blocks.1.kan                          | eff_KAN               | 77.8 K | train\n",
            "20 | net_blocks.1.kan.layers                   | ModuleList            | 77.8 K | train\n",
            "21 | net_blocks.1.kan.layers.0                 | KANLinear             | 12.3 K | train\n",
            "22 | net_blocks.1.kan.layers.0.base_activation | SiLU                  | 0      | train\n",
            "23 | net_blocks.1.kan.layers.1                 | KANLinear             | 32.8 K | train\n",
            "24 | net_blocks.1.kan.layers.1.base_activation | SiLU                  | 0      | train\n",
            "25 | net_blocks.1.kan.layers.2                 | KANLinear             | 32.8 K | train\n",
            "26 | net_blocks.1.kan.layers.2.base_activation | SiLU                  | 0      | train\n",
            "27 | net_blocks.1.theta_f_fc                   | Linear                | 192    | train\n",
            "28 | net_blocks.2                              | KANBEATSSeasonalBlock | 78.6 K | train\n",
            "29 | net_blocks.2.kan                          | eff_KAN               | 77.8 K | train\n",
            "30 | net_blocks.2.kan.layers                   | ModuleList            | 77.8 K | train\n",
            "31 | net_blocks.2.kan.layers.0                 | KANLinear             | 12.3 K | train\n",
            "32 | net_blocks.2.kan.layers.0.base_activation | SiLU                  | 0      | train\n",
            "33 | net_blocks.2.kan.layers.1                 | KANLinear             | 32.8 K | train\n",
            "34 | net_blocks.2.kan.layers.1.base_activation | SiLU                  | 0      | train\n",
            "35 | net_blocks.2.kan.layers.2                 | KANLinear             | 32.8 K | train\n",
            "36 | net_blocks.2.kan.layers.2.base_activation | SiLU                  | 0      | train\n",
            "37 | net_blocks.2.theta_f_fc                   | Linear                | 768    | train\n",
            "38 | net_blocks.3                              | KANBEATSSeasonalBlock | 78.6 K | train\n",
            "39 | net_blocks.3.kan                          | eff_KAN               | 77.8 K | train\n",
            "40 | net_blocks.3.kan.layers                   | ModuleList            | 77.8 K | train\n",
            "41 | net_blocks.3.kan.layers.0                 | KANLinear             | 12.3 K | train\n",
            "42 | net_blocks.3.kan.layers.0.base_activation | SiLU                  | 0      | train\n",
            "43 | net_blocks.3.kan.layers.1                 | KANLinear             | 32.8 K | train\n",
            "44 | net_blocks.3.kan.layers.1.base_activation | SiLU                  | 0      | train\n",
            "45 | net_blocks.3.kan.layers.2                 | KANLinear             | 32.8 K | train\n",
            "46 | net_blocks.3.kan.layers.2.base_activation | SiLU                  | 0      | train\n",
            "47 | net_blocks.3.theta_f_fc                   | Linear                | 768    | train\n",
            "---------------------------------------------------------------------------------------------\n",
            "313 K     Trainable params\n",
            "0         Non-trainable params\n",
            "313 K     Total params\n",
            "1.253     Total estimated model params size (MB)\n",
            "48        Modules in train mode\n",
            "0         Modules in eval mode\n",
            "\u001b[0m"
          ]
        }
      ]
    },
    {
      "cell_type": "markdown",
      "source": [
        "# N-BEATS"
      ],
      "metadata": {
        "id": "Dvx6KZLZ9hJQ"
      }
    },
    {
      "cell_type": "code",
      "source": [],
      "metadata": {
        "id": "Q69MJ_qV9i9j"
      },
      "execution_count": null,
      "outputs": []
    }
  ]
}